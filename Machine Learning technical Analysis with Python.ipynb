{
 "cells": [
  {
   "cell_type": "code",
   "execution_count": 1,
   "metadata": {
    "ExecuteTime": {
     "end_time": "2019-11-01T15:24:01.366049Z",
     "start_time": "2019-11-01T15:24:00.009804Z"
    }
   },
   "outputs": [
    {
     "data": {
      "text/html": [
       "\n",
       "    <div class=\"bk-root\">\n",
       "        <a href=\"https://bokeh.pydata.org\" target=\"_blank\" class=\"bk-logo bk-logo-small bk-logo-notebook\"></a>\n",
       "        <span id=\"1001\">Loading BokehJS ...</span>\n",
       "    </div>"
      ]
     },
     "metadata": {},
     "output_type": "display_data"
    },
    {
     "data": {
      "application/javascript": [
       "\n",
       "(function(root) {\n",
       "  function now() {\n",
       "    return new Date();\n",
       "  }\n",
       "\n",
       "  var force = true;\n",
       "\n",
       "  if (typeof root._bokeh_onload_callbacks === \"undefined\" || force === true) {\n",
       "    root._bokeh_onload_callbacks = [];\n",
       "    root._bokeh_is_loading = undefined;\n",
       "  }\n",
       "\n",
       "  var JS_MIME_TYPE = 'application/javascript';\n",
       "  var HTML_MIME_TYPE = 'text/html';\n",
       "  var EXEC_MIME_TYPE = 'application/vnd.bokehjs_exec.v0+json';\n",
       "  var CLASS_NAME = 'output_bokeh rendered_html';\n",
       "\n",
       "  /**\n",
       "   * Render data to the DOM node\n",
       "   */\n",
       "  function render(props, node) {\n",
       "    var script = document.createElement(\"script\");\n",
       "    node.appendChild(script);\n",
       "  }\n",
       "\n",
       "  /**\n",
       "   * Handle when an output is cleared or removed\n",
       "   */\n",
       "  function handleClearOutput(event, handle) {\n",
       "    var cell = handle.cell;\n",
       "\n",
       "    var id = cell.output_area._bokeh_element_id;\n",
       "    var server_id = cell.output_area._bokeh_server_id;\n",
       "    // Clean up Bokeh references\n",
       "    if (id != null && id in Bokeh.index) {\n",
       "      Bokeh.index[id].model.document.clear();\n",
       "      delete Bokeh.index[id];\n",
       "    }\n",
       "\n",
       "    if (server_id !== undefined) {\n",
       "      // Clean up Bokeh references\n",
       "      var cmd = \"from bokeh.io.state import curstate; print(curstate().uuid_to_server['\" + server_id + \"'].get_sessions()[0].document.roots[0]._id)\";\n",
       "      cell.notebook.kernel.execute(cmd, {\n",
       "        iopub: {\n",
       "          output: function(msg) {\n",
       "            var id = msg.content.text.trim();\n",
       "            if (id in Bokeh.index) {\n",
       "              Bokeh.index[id].model.document.clear();\n",
       "              delete Bokeh.index[id];\n",
       "            }\n",
       "          }\n",
       "        }\n",
       "      });\n",
       "      // Destroy server and session\n",
       "      var cmd = \"import bokeh.io.notebook as ion; ion.destroy_server('\" + server_id + \"')\";\n",
       "      cell.notebook.kernel.execute(cmd);\n",
       "    }\n",
       "  }\n",
       "\n",
       "  /**\n",
       "   * Handle when a new output is added\n",
       "   */\n",
       "  function handleAddOutput(event, handle) {\n",
       "    var output_area = handle.output_area;\n",
       "    var output = handle.output;\n",
       "\n",
       "    // limit handleAddOutput to display_data with EXEC_MIME_TYPE content only\n",
       "    if ((output.output_type != \"display_data\") || (!output.data.hasOwnProperty(EXEC_MIME_TYPE))) {\n",
       "      return\n",
       "    }\n",
       "\n",
       "    var toinsert = output_area.element.find(\".\" + CLASS_NAME.split(' ')[0]);\n",
       "\n",
       "    if (output.metadata[EXEC_MIME_TYPE][\"id\"] !== undefined) {\n",
       "      toinsert[toinsert.length - 1].firstChild.textContent = output.data[JS_MIME_TYPE];\n",
       "      // store reference to embed id on output_area\n",
       "      output_area._bokeh_element_id = output.metadata[EXEC_MIME_TYPE][\"id\"];\n",
       "    }\n",
       "    if (output.metadata[EXEC_MIME_TYPE][\"server_id\"] !== undefined) {\n",
       "      var bk_div = document.createElement(\"div\");\n",
       "      bk_div.innerHTML = output.data[HTML_MIME_TYPE];\n",
       "      var script_attrs = bk_div.children[0].attributes;\n",
       "      for (var i = 0; i < script_attrs.length; i++) {\n",
       "        toinsert[toinsert.length - 1].firstChild.setAttribute(script_attrs[i].name, script_attrs[i].value);\n",
       "      }\n",
       "      // store reference to server id on output_area\n",
       "      output_area._bokeh_server_id = output.metadata[EXEC_MIME_TYPE][\"server_id\"];\n",
       "    }\n",
       "  }\n",
       "\n",
       "  function register_renderer(events, OutputArea) {\n",
       "\n",
       "    function append_mime(data, metadata, element) {\n",
       "      // create a DOM node to render to\n",
       "      var toinsert = this.create_output_subarea(\n",
       "        metadata,\n",
       "        CLASS_NAME,\n",
       "        EXEC_MIME_TYPE\n",
       "      );\n",
       "      this.keyboard_manager.register_events(toinsert);\n",
       "      // Render to node\n",
       "      var props = {data: data, metadata: metadata[EXEC_MIME_TYPE]};\n",
       "      render(props, toinsert[toinsert.length - 1]);\n",
       "      element.append(toinsert);\n",
       "      return toinsert\n",
       "    }\n",
       "\n",
       "    /* Handle when an output is cleared or removed */\n",
       "    events.on('clear_output.CodeCell', handleClearOutput);\n",
       "    events.on('delete.Cell', handleClearOutput);\n",
       "\n",
       "    /* Handle when a new output is added */\n",
       "    events.on('output_added.OutputArea', handleAddOutput);\n",
       "\n",
       "    /**\n",
       "     * Register the mime type and append_mime function with output_area\n",
       "     */\n",
       "    OutputArea.prototype.register_mime_type(EXEC_MIME_TYPE, append_mime, {\n",
       "      /* Is output safe? */\n",
       "      safe: true,\n",
       "      /* Index of renderer in `output_area.display_order` */\n",
       "      index: 0\n",
       "    });\n",
       "  }\n",
       "\n",
       "  // register the mime type if in Jupyter Notebook environment and previously unregistered\n",
       "  if (root.Jupyter !== undefined) {\n",
       "    var events = require('base/js/events');\n",
       "    var OutputArea = require('notebook/js/outputarea').OutputArea;\n",
       "\n",
       "    if (OutputArea.prototype.mime_types().indexOf(EXEC_MIME_TYPE) == -1) {\n",
       "      register_renderer(events, OutputArea);\n",
       "    }\n",
       "  }\n",
       "\n",
       "  \n",
       "  if (typeof (root._bokeh_timeout) === \"undefined\" || force === true) {\n",
       "    root._bokeh_timeout = Date.now() + 5000;\n",
       "    root._bokeh_failed_load = false;\n",
       "  }\n",
       "\n",
       "  var NB_LOAD_WARNING = {'data': {'text/html':\n",
       "     \"<div style='background-color: #fdd'>\\n\"+\n",
       "     \"<p>\\n\"+\n",
       "     \"BokehJS does not appear to have successfully loaded. If loading BokehJS from CDN, this \\n\"+\n",
       "     \"may be due to a slow or bad network connection. Possible fixes:\\n\"+\n",
       "     \"</p>\\n\"+\n",
       "     \"<ul>\\n\"+\n",
       "     \"<li>re-rerun `output_notebook()` to attempt to load from CDN again, or</li>\\n\"+\n",
       "     \"<li>use INLINE resources instead, as so:</li>\\n\"+\n",
       "     \"</ul>\\n\"+\n",
       "     \"<code>\\n\"+\n",
       "     \"from bokeh.resources import INLINE\\n\"+\n",
       "     \"output_notebook(resources=INLINE)\\n\"+\n",
       "     \"</code>\\n\"+\n",
       "     \"</div>\"}};\n",
       "\n",
       "  function display_loaded() {\n",
       "    var el = document.getElementById(\"1001\");\n",
       "    if (el != null) {\n",
       "      el.textContent = \"BokehJS is loading...\";\n",
       "    }\n",
       "    if (root.Bokeh !== undefined) {\n",
       "      if (el != null) {\n",
       "        el.textContent = \"BokehJS \" + root.Bokeh.version + \" successfully loaded.\";\n",
       "      }\n",
       "    } else if (Date.now() < root._bokeh_timeout) {\n",
       "      setTimeout(display_loaded, 100)\n",
       "    }\n",
       "  }\n",
       "\n",
       "\n",
       "  function run_callbacks() {\n",
       "    try {\n",
       "      root._bokeh_onload_callbacks.forEach(function(callback) {\n",
       "        if (callback != null)\n",
       "          callback();\n",
       "      });\n",
       "    } finally {\n",
       "      delete root._bokeh_onload_callbacks\n",
       "    }\n",
       "    console.debug(\"Bokeh: all callbacks have finished\");\n",
       "  }\n",
       "\n",
       "  function load_libs(css_urls, js_urls, callback) {\n",
       "    if (css_urls == null) css_urls = [];\n",
       "    if (js_urls == null) js_urls = [];\n",
       "\n",
       "    root._bokeh_onload_callbacks.push(callback);\n",
       "    if (root._bokeh_is_loading > 0) {\n",
       "      console.debug(\"Bokeh: BokehJS is being loaded, scheduling callback at\", now());\n",
       "      return null;\n",
       "    }\n",
       "    if (js_urls == null || js_urls.length === 0) {\n",
       "      run_callbacks();\n",
       "      return null;\n",
       "    }\n",
       "    console.debug(\"Bokeh: BokehJS not loaded, scheduling load and callback at\", now());\n",
       "    root._bokeh_is_loading = css_urls.length + js_urls.length;\n",
       "\n",
       "    function on_load() {\n",
       "      root._bokeh_is_loading--;\n",
       "      if (root._bokeh_is_loading === 0) {\n",
       "        console.debug(\"Bokeh: all BokehJS libraries/stylesheets loaded\");\n",
       "        run_callbacks()\n",
       "      }\n",
       "    }\n",
       "\n",
       "    function on_error() {\n",
       "      console.error(\"failed to load \" + url);\n",
       "    }\n",
       "\n",
       "    for (var i = 0; i < css_urls.length; i++) {\n",
       "      var url = css_urls[i];\n",
       "      const element = document.createElement(\"link\");\n",
       "      element.onload = on_load;\n",
       "      element.onerror = on_error;\n",
       "      element.rel = \"stylesheet\";\n",
       "      element.type = \"text/css\";\n",
       "      element.href = url;\n",
       "      console.debug(\"Bokeh: injecting link tag for BokehJS stylesheet: \", url);\n",
       "      document.body.appendChild(element);\n",
       "    }\n",
       "\n",
       "    for (var i = 0; i < js_urls.length; i++) {\n",
       "      var url = js_urls[i];\n",
       "      var element = document.createElement('script');\n",
       "      element.onload = on_load;\n",
       "      element.onerror = on_error;\n",
       "      element.async = false;\n",
       "      element.src = url;\n",
       "      console.debug(\"Bokeh: injecting script tag for BokehJS library: \", url);\n",
       "      document.head.appendChild(element);\n",
       "    }\n",
       "  };var element = document.getElementById(\"1001\");\n",
       "  if (element == null) {\n",
       "    console.error(\"Bokeh: ERROR: autoload.js configured with elementid '1001' but no matching script tag was found. \")\n",
       "    return false;\n",
       "  }\n",
       "\n",
       "  function inject_raw_css(css) {\n",
       "    const element = document.createElement(\"style\");\n",
       "    element.appendChild(document.createTextNode(css));\n",
       "    document.body.appendChild(element);\n",
       "  }\n",
       "\n",
       "  var js_urls = [\"https://cdn.pydata.org/bokeh/release/bokeh-1.3.4.min.js\", \"https://cdn.pydata.org/bokeh/release/bokeh-widgets-1.3.4.min.js\", \"https://cdn.pydata.org/bokeh/release/bokeh-tables-1.3.4.min.js\", \"https://cdn.pydata.org/bokeh/release/bokeh-gl-1.3.4.min.js\"];\n",
       "  var css_urls = [];\n",
       "\n",
       "  var inline_js = [\n",
       "    function(Bokeh) {\n",
       "      Bokeh.set_log_level(\"info\");\n",
       "    },\n",
       "    \n",
       "    function(Bokeh) {\n",
       "      \n",
       "    },\n",
       "    function(Bokeh) {} // ensure no trailing comma for IE\n",
       "  ];\n",
       "\n",
       "  function run_inline_js() {\n",
       "    \n",
       "    if ((root.Bokeh !== undefined) || (force === true)) {\n",
       "      for (var i = 0; i < inline_js.length; i++) {\n",
       "        inline_js[i].call(root, root.Bokeh);\n",
       "      }if (force === true) {\n",
       "        display_loaded();\n",
       "      }} else if (Date.now() < root._bokeh_timeout) {\n",
       "      setTimeout(run_inline_js, 100);\n",
       "    } else if (!root._bokeh_failed_load) {\n",
       "      console.log(\"Bokeh: BokehJS failed to load within specified timeout.\");\n",
       "      root._bokeh_failed_load = true;\n",
       "    } else if (force !== true) {\n",
       "      var cell = $(document.getElementById(\"1001\")).parents('.cell').data().cell;\n",
       "      cell.output_area.append_execute_result(NB_LOAD_WARNING)\n",
       "    }\n",
       "\n",
       "  }\n",
       "\n",
       "  if (root._bokeh_is_loading === 0) {\n",
       "    console.debug(\"Bokeh: BokehJS loaded, going straight to plotting\");\n",
       "    run_inline_js();\n",
       "  } else {\n",
       "    load_libs(css_urls, js_urls, function() {\n",
       "      console.debug(\"Bokeh: BokehJS plotting callback run at\", now());\n",
       "      run_inline_js();\n",
       "    });\n",
       "  }\n",
       "}(window));"
      ],
      "application/vnd.bokehjs_load.v0+json": "\n(function(root) {\n  function now() {\n    return new Date();\n  }\n\n  var force = true;\n\n  if (typeof root._bokeh_onload_callbacks === \"undefined\" || force === true) {\n    root._bokeh_onload_callbacks = [];\n    root._bokeh_is_loading = undefined;\n  }\n\n  \n\n  \n  if (typeof (root._bokeh_timeout) === \"undefined\" || force === true) {\n    root._bokeh_timeout = Date.now() + 5000;\n    root._bokeh_failed_load = false;\n  }\n\n  var NB_LOAD_WARNING = {'data': {'text/html':\n     \"<div style='background-color: #fdd'>\\n\"+\n     \"<p>\\n\"+\n     \"BokehJS does not appear to have successfully loaded. If loading BokehJS from CDN, this \\n\"+\n     \"may be due to a slow or bad network connection. Possible fixes:\\n\"+\n     \"</p>\\n\"+\n     \"<ul>\\n\"+\n     \"<li>re-rerun `output_notebook()` to attempt to load from CDN again, or</li>\\n\"+\n     \"<li>use INLINE resources instead, as so:</li>\\n\"+\n     \"</ul>\\n\"+\n     \"<code>\\n\"+\n     \"from bokeh.resources import INLINE\\n\"+\n     \"output_notebook(resources=INLINE)\\n\"+\n     \"</code>\\n\"+\n     \"</div>\"}};\n\n  function display_loaded() {\n    var el = document.getElementById(\"1001\");\n    if (el != null) {\n      el.textContent = \"BokehJS is loading...\";\n    }\n    if (root.Bokeh !== undefined) {\n      if (el != null) {\n        el.textContent = \"BokehJS \" + root.Bokeh.version + \" successfully loaded.\";\n      }\n    } else if (Date.now() < root._bokeh_timeout) {\n      setTimeout(display_loaded, 100)\n    }\n  }\n\n\n  function run_callbacks() {\n    try {\n      root._bokeh_onload_callbacks.forEach(function(callback) {\n        if (callback != null)\n          callback();\n      });\n    } finally {\n      delete root._bokeh_onload_callbacks\n    }\n    console.debug(\"Bokeh: all callbacks have finished\");\n  }\n\n  function load_libs(css_urls, js_urls, callback) {\n    if (css_urls == null) css_urls = [];\n    if (js_urls == null) js_urls = [];\n\n    root._bokeh_onload_callbacks.push(callback);\n    if (root._bokeh_is_loading > 0) {\n      console.debug(\"Bokeh: BokehJS is being loaded, scheduling callback at\", now());\n      return null;\n    }\n    if (js_urls == null || js_urls.length === 0) {\n      run_callbacks();\n      return null;\n    }\n    console.debug(\"Bokeh: BokehJS not loaded, scheduling load and callback at\", now());\n    root._bokeh_is_loading = css_urls.length + js_urls.length;\n\n    function on_load() {\n      root._bokeh_is_loading--;\n      if (root._bokeh_is_loading === 0) {\n        console.debug(\"Bokeh: all BokehJS libraries/stylesheets loaded\");\n        run_callbacks()\n      }\n    }\n\n    function on_error() {\n      console.error(\"failed to load \" + url);\n    }\n\n    for (var i = 0; i < css_urls.length; i++) {\n      var url = css_urls[i];\n      const element = document.createElement(\"link\");\n      element.onload = on_load;\n      element.onerror = on_error;\n      element.rel = \"stylesheet\";\n      element.type = \"text/css\";\n      element.href = url;\n      console.debug(\"Bokeh: injecting link tag for BokehJS stylesheet: \", url);\n      document.body.appendChild(element);\n    }\n\n    for (var i = 0; i < js_urls.length; i++) {\n      var url = js_urls[i];\n      var element = document.createElement('script');\n      element.onload = on_load;\n      element.onerror = on_error;\n      element.async = false;\n      element.src = url;\n      console.debug(\"Bokeh: injecting script tag for BokehJS library: \", url);\n      document.head.appendChild(element);\n    }\n  };var element = document.getElementById(\"1001\");\n  if (element == null) {\n    console.error(\"Bokeh: ERROR: autoload.js configured with elementid '1001' but no matching script tag was found. \")\n    return false;\n  }\n\n  function inject_raw_css(css) {\n    const element = document.createElement(\"style\");\n    element.appendChild(document.createTextNode(css));\n    document.body.appendChild(element);\n  }\n\n  var js_urls = [\"https://cdn.pydata.org/bokeh/release/bokeh-1.3.4.min.js\", \"https://cdn.pydata.org/bokeh/release/bokeh-widgets-1.3.4.min.js\", \"https://cdn.pydata.org/bokeh/release/bokeh-tables-1.3.4.min.js\", \"https://cdn.pydata.org/bokeh/release/bokeh-gl-1.3.4.min.js\"];\n  var css_urls = [];\n\n  var inline_js = [\n    function(Bokeh) {\n      Bokeh.set_log_level(\"info\");\n    },\n    \n    function(Bokeh) {\n      \n    },\n    function(Bokeh) {} // ensure no trailing comma for IE\n  ];\n\n  function run_inline_js() {\n    \n    if ((root.Bokeh !== undefined) || (force === true)) {\n      for (var i = 0; i < inline_js.length; i++) {\n        inline_js[i].call(root, root.Bokeh);\n      }if (force === true) {\n        display_loaded();\n      }} else if (Date.now() < root._bokeh_timeout) {\n      setTimeout(run_inline_js, 100);\n    } else if (!root._bokeh_failed_load) {\n      console.log(\"Bokeh: BokehJS failed to load within specified timeout.\");\n      root._bokeh_failed_load = true;\n    } else if (force !== true) {\n      var cell = $(document.getElementById(\"1001\")).parents('.cell').data().cell;\n      cell.output_area.append_execute_result(NB_LOAD_WARNING)\n    }\n\n  }\n\n  if (root._bokeh_is_loading === 0) {\n    console.debug(\"Bokeh: BokehJS loaded, going straight to plotting\");\n    run_inline_js();\n  } else {\n    load_libs(css_urls, js_urls, function() {\n      console.debug(\"Bokeh: BokehJS plotting callback run at\", now());\n      run_inline_js();\n    });\n  }\n}(window));"
     },
     "metadata": {},
     "output_type": "display_data"
    }
   ],
   "source": [
    "import numpy as np\n",
    "import pandas as pd\n",
    "from IPython.core.display import display\n",
    "\n",
    "import yfinance as yf\n",
    "from ta import *\n",
    "\n",
    "from utils.ta_utils import *\n",
    "\n",
    "from bokeh.plotting import figure, show\n",
    "from bokeh.io import output_notebook\n",
    "output_notebook()\n",
    "\n",
    "from tqdm import tqdm_notebook"
   ]
  },
  {
   "cell_type": "markdown",
   "metadata": {},
   "source": [
    "# Obtenemos el histórico desde Yahoo! Finance"
   ]
  },
  {
   "cell_type": "code",
   "execution_count": 2,
   "metadata": {
    "ExecuteTime": {
     "end_time": "2019-11-01T15:24:02.463118Z",
     "start_time": "2019-11-01T15:24:01.367740Z"
    }
   },
   "outputs": [],
   "source": [
    "df_NVDA = get_dataset_for_stock('NVDA')"
   ]
  },
  {
   "cell_type": "code",
   "execution_count": 3,
   "metadata": {
    "ExecuteTime": {
     "end_time": "2019-11-01T15:24:02.747418Z",
     "start_time": "2019-11-01T15:24:02.464793Z"
    },
    "scrolled": false
   },
   "outputs": [
    {
     "data": {
      "text/html": [
       "<h2>Resumen de los datos</h2>"
      ],
      "text/plain": [
       "<IPython.core.display.HTML object>"
      ]
     },
     "metadata": {},
     "output_type": "display_data"
    },
    {
     "data": {
      "text/html": [
       "<div>\n",
       "<style scoped>\n",
       "    .dataframe tbody tr th:only-of-type {\n",
       "        vertical-align: middle;\n",
       "    }\n",
       "\n",
       "    .dataframe tbody tr th {\n",
       "        vertical-align: top;\n",
       "    }\n",
       "\n",
       "    .dataframe thead th {\n",
       "        text-align: right;\n",
       "    }\n",
       "</style>\n",
       "<table border=\"1\" class=\"dataframe\">\n",
       "  <thead>\n",
       "    <tr style=\"text-align: right;\">\n",
       "      <th></th>\n",
       "      <th>open</th>\n",
       "      <th>high</th>\n",
       "      <th>low</th>\n",
       "      <th>close</th>\n",
       "      <th>volume</th>\n",
       "      <th>dividends</th>\n",
       "      <th>stock_splits</th>\n",
       "    </tr>\n",
       "  </thead>\n",
       "  <tbody>\n",
       "    <tr>\n",
       "      <th>count</th>\n",
       "      <td>5230.000000</td>\n",
       "      <td>5230.000000</td>\n",
       "      <td>5230.000000</td>\n",
       "      <td>5230.000000</td>\n",
       "      <td>5.230000e+03</td>\n",
       "      <td>5231.000000</td>\n",
       "      <td>5231.000000</td>\n",
       "    </tr>\n",
       "    <tr>\n",
       "      <th>mean</th>\n",
       "      <td>37.803795</td>\n",
       "      <td>38.416831</td>\n",
       "      <td>37.142735</td>\n",
       "      <td>37.792016</td>\n",
       "      <td>1.598884e+07</td>\n",
       "      <td>0.000624</td>\n",
       "      <td>0.001816</td>\n",
       "    </tr>\n",
       "    <tr>\n",
       "      <th>std</th>\n",
       "      <td>61.585468</td>\n",
       "      <td>62.441628</td>\n",
       "      <td>60.608007</td>\n",
       "      <td>61.541794</td>\n",
       "      <td>1.160688e+07</td>\n",
       "      <td>0.008819</td>\n",
       "      <td>0.059044</td>\n",
       "    </tr>\n",
       "    <tr>\n",
       "      <th>min</th>\n",
       "      <td>1.286413</td>\n",
       "      <td>1.310413</td>\n",
       "      <td>1.228813</td>\n",
       "      <td>1.257613</td>\n",
       "      <td>4.920000e+05</td>\n",
       "      <td>0.000000</td>\n",
       "      <td>0.000000</td>\n",
       "    </tr>\n",
       "    <tr>\n",
       "      <th>25%</th>\n",
       "      <td>8.531796</td>\n",
       "      <td>8.765273</td>\n",
       "      <td>8.294485</td>\n",
       "      <td>8.556375</td>\n",
       "      <td>8.811600e+06</td>\n",
       "      <td>0.000000</td>\n",
       "      <td>0.000000</td>\n",
       "    </tr>\n",
       "    <tr>\n",
       "      <th>50%</th>\n",
       "      <td>13.647702</td>\n",
       "      <td>13.861773</td>\n",
       "      <td>13.409417</td>\n",
       "      <td>13.649036</td>\n",
       "      <td>1.338160e+07</td>\n",
       "      <td>0.000000</td>\n",
       "      <td>0.000000</td>\n",
       "    </tr>\n",
       "    <tr>\n",
       "      <th>75%</th>\n",
       "      <td>21.759197</td>\n",
       "      <td>22.172385</td>\n",
       "      <td>21.412041</td>\n",
       "      <td>21.838721</td>\n",
       "      <td>1.969260e+07</td>\n",
       "      <td>0.000000</td>\n",
       "      <td>0.000000</td>\n",
       "    </tr>\n",
       "    <tr>\n",
       "      <th>max</th>\n",
       "      <td>288.118825</td>\n",
       "      <td>291.544545</td>\n",
       "      <td>284.394331</td>\n",
       "      <td>288.158661</td>\n",
       "      <td>2.307714e+08</td>\n",
       "      <td>0.160000</td>\n",
       "      <td>2.000000</td>\n",
       "    </tr>\n",
       "  </tbody>\n",
       "</table>\n",
       "</div>"
      ],
      "text/plain": [
       "              open         high          low        close        volume  \\\n",
       "count  5230.000000  5230.000000  5230.000000  5230.000000  5.230000e+03   \n",
       "mean     37.803795    38.416831    37.142735    37.792016  1.598884e+07   \n",
       "std      61.585468    62.441628    60.608007    61.541794  1.160688e+07   \n",
       "min       1.286413     1.310413     1.228813     1.257613  4.920000e+05   \n",
       "25%       8.531796     8.765273     8.294485     8.556375  8.811600e+06   \n",
       "50%      13.647702    13.861773    13.409417    13.649036  1.338160e+07   \n",
       "75%      21.759197    22.172385    21.412041    21.838721  1.969260e+07   \n",
       "max     288.118825   291.544545   284.394331   288.158661  2.307714e+08   \n",
       "\n",
       "         dividends  stock_splits  \n",
       "count  5231.000000   5231.000000  \n",
       "mean      0.000624      0.001816  \n",
       "std       0.008819      0.059044  \n",
       "min       0.000000      0.000000  \n",
       "25%       0.000000      0.000000  \n",
       "50%       0.000000      0.000000  \n",
       "75%       0.000000      0.000000  \n",
       "max       0.160000      2.000000  "
      ]
     },
     "metadata": {},
     "output_type": "display_data"
    },
    {
     "data": {
      "text/html": [
       "<h2>Rango de fechas</h2>"
      ],
      "text/plain": [
       "<IPython.core.display.HTML object>"
      ]
     },
     "metadata": {},
     "output_type": "display_data"
    },
    {
     "data": {
      "text/plain": [
       "Timestamp('1999-01-22 00:00:00')"
      ]
     },
     "metadata": {},
     "output_type": "display_data"
    },
    {
     "data": {
      "text/plain": [
       "Timestamp('2019-11-01 00:00:00')"
      ]
     },
     "metadata": {},
     "output_type": "display_data"
    },
    {
     "data": {
      "text/html": [
       "<h2>Gráfico de velas</h2>"
      ],
      "text/plain": [
       "<IPython.core.display.HTML object>"
      ]
     },
     "metadata": {},
     "output_type": "display_data"
    },
    {
     "data": {
      "text/html": [
       "\n",
       "\n",
       "\n",
       "\n",
       "\n",
       "\n",
       "  <div class=\"bk-root\" id=\"cc05b183-6b89-495a-8242-6433b199f14f\" data-root-id=\"1002\"></div>\n"
      ]
     },
     "metadata": {},
     "output_type": "display_data"
    },
    {
     "data": {
      "application/javascript": [
       "(function(root) {\n",
       "  function embed_document(root) {\n",
       "    \n",
       "  var docs_json = {\"c6f7dd69-47d7-47f4-9fb5-a532efb85844\":{\"roots\":{\"references\":[{\"attributes\":{\"below\":[{\"id\":\"1013\",\"type\":\"DatetimeAxis\"}],\"center\":[{\"id\":\"1017\",\"type\":\"Grid\"},{\"id\":\"1022\",\"type\":\"Grid\"}],\"left\":[{\"id\":\"1018\",\"type\":\"LinearAxis\"}],\"plot_width\":900,\"renderers\":[{\"id\":\"1039\",\"type\":\"GlyphRenderer\"},{\"id\":\"1044\",\"type\":\"GlyphRenderer\"},{\"id\":\"1049\",\"type\":\"GlyphRenderer\"}],\"title\":{\"id\":\"1003\",\"type\":\"Title\"},\"toolbar\":{\"id\":\"1029\",\"type\":\"Toolbar\"},\"x_range\":{\"id\":\"1005\",\"type\":\"DataRange1d\"},\"x_scale\":{\"id\":\"1009\",\"type\":\"LinearScale\"},\"y_range\":{\"id\":\"1007\",\"type\":\"DataRange1d\"},\"y_scale\":{\"id\":\"1011\",\"type\":\"LinearScale\"}},\"id\":\"1002\",\"subtype\":\"Figure\",\"type\":\"Plot\"},{\"attributes\":{\"source\":{\"id\":\"1041\",\"type\":\"ColumnDataSource\"}},\"id\":\"1045\",\"type\":\"CDSView\"},{\"attributes\":{\"callback\":null,\"data\":{\"x0\":{\"__ndarray__\":\"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\",\"dtype\":\"float64\",\"shape\":[5231]},\"x1\":{\"__ndarray__\":\"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\",\"dtype\":\"float64\",\"shape\":[5231]},\"y0\":{\"__ndarray__\":\"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\",\"dtype\":\"float64\",\"shape\":[5231]},\"y1\":{\"__ndarray__\":\"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\",\"dtype\":\"float64\",\"shape\":[5231]}},\"selected\":{\"id\":\"1070\",\"type\":\"Selection\"},\"selection_policy\":{\"id\":\"1069\",\"type\":\"UnionRenderers\"}},\"id\":\"1036\",\"type\":\"ColumnDataSource\"},{\"attributes\":{\"months\":[0,1,2,3,4,5,6,7,8,9,10,11]},\"id\":\"1063\",\"type\":\"MonthsTicker\"},{\"attributes\":{},\"id\":\"1053\",\"type\":\"DatetimeTickFormatter\"},{\"attributes\":{\"data_source\":{\"id\":\"1036\",\"type\":\"ColumnDataSource\"},\"glyph\":{\"id\":\"1037\",\"type\":\"Segment\"},\"hover_glyph\":null,\"muted_glyph\":null,\"nonselection_glyph\":{\"id\":\"1038\",\"type\":\"Segment\"},\"selection_glyph\":null,\"view\":{\"id\":\"1040\",\"type\":\"CDSView\"}},\"id\":\"1039\",\"type\":\"GlyphRenderer\"},{\"attributes\":{\"months\":[0,2,4,6,8,10]},\"id\":\"1064\",\"type\":\"MonthsTicker\"},{\"attributes\":{},\"id\":\"1023\",\"type\":\"PanTool\"},{\"attributes\":{\"months\":[0,4,8]},\"id\":\"1065\",\"type\":\"MonthsTicker\"},{\"attributes\":{},\"id\":\"1024\",\"type\":\"WheelZoomTool\"},{\"attributes\":{\"months\":[0,6]},\"id\":\"1066\",\"type\":\"MonthsTicker\"},{\"attributes\":{\"callback\":null,\"data\":{\"bottom\":{\"__ndarray__\":\"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\",\"dtype\":\"float64\",\"shape\":[2610]},\"top\":{\"__ndarray__\":\"zczMzBjO+T8y4T2GrAj7P+gk7GHXuvg/sxLIQ4WT+D8dJOK623/4P0vCRoDxWPc/aWmi19t/+D8LXk5BO/b3P9vN8iRVlPY/tuRmRr0c+j8T7EaxzjD5PwL7ucfOMPk/tuRmRr0c+j/NCvePCwf/P2SRZ/7Baf4/pmRKJuSR/D/N/b3t9aX7P6hSh0KsCPs/S3TA7qsI+z+dDVkREET6P5KPmlOjfvs/l3+XT2Yw+j9ONjoNxqb5P+jL8hoQRPo/d3+0w3N/+T9NVf39uFf6P1pak8jOMPk/zd2vULSS+j8LQUKzavX5P00w3sop4vg/3VSTdy6n+D+29k8PYmv6P+KNlJRzf/k/6j6EBs8w+T8ArAyRlqf3P7yRQmDXuvg/iilCzPFY9z9ao4yY8Vj3Pxbm0P4HMvY/oBXzvW8y9T9V1GKlAm32P6spuAAHMvY/0qADof6n9j+3xxvCVZT2P5NNsDhnqPU/AH8NOPFY9z8Sd47uIFj5P/PeHPfxWPc/EE9SQh0L9T80qlIFHQv1P5l5smcdC/U/4RAoQR0L9T8vyo4yHQv1PzRz30oHMvY/IeQgxuTF9T8zR/sLwln1P9tO9FgdC/U/ySq1aW8y9T8AIOcxwln1P0F1P2kQvPU/sKD7wGao9T98qSH9Q4D3P2LNu8SNHfg/Hh7lr40d+D9DD1Cq9aX7P8veYkVMkvs/5k1Y3FBX+z9+aR2BC3/6P+Yd0BKsCPs/tm3bqg9E+j9VvyyLc3/5Pyd5jlwq4vg/OwvO7Nt/+D+7deGw0/X4PyxH92Lcf/g/SimQo4DO+D9p/jDBmvT7P5VEnAHtG/w/zosb1US0AEAJy07WIUgAQGBZv+Vh8/4/GISezWa4/j8VVzwATT4AQMySckC5RwFAj5J2c8aWAEAzeyr5b6oAQFgyk2HLWwBAVXBSy3RvAED7gojP9lEAQH+CegDLWwBABMci2QJ9/z+qkyCIwWn+P4Nb/M8pav0/OBYVeT9D/D9asEafsM36Pwd6MPiEk/g/2P8HoT+79z/RpJVFuVf6P/KyaPaEk/g/sW31RuBE+D848ThVvaT+PyJQTvmEG/0/YpyUsD9D/D8Kr/Dq+Wr7PxKm7w2sCPs/VQ3x4LhX+j8lhFSSxqb5PzQ0Ydq4V/o/Q3keI0jN+z8+2Kd/tJL6P6Hio9yjbgJAZEThJVrRAUCk7CGMHaUBQJSxd7efywNA7fEqiy5jBkDi5rjJwQMLQK9vCb+0TghAmZNP9ppsB0B4TNnEp7sGQBb3smILOwhAS9r+m+BECED7PtlR4EQIQOi0ehIQAAhAIskXekhFB0Crqqrb0rEGQOK0HNfbOwZA9QKFDIUbDUB+kPXg+WoLQJQdRnfbBw1Aae+/dz9DDEAmVxCT/i8LQDw369CAEgtAdP/J9GFrCkC0CBeic38JQPtR+Yo/QwxAXIVJJ+0bDEDlsiwmn7kLQIgK30a9YAxAtx8SeI1hCkBOxjJ/FAkKQMkiahT6JglAxyFph/FYB0AnjatpIRQHQHRe7AnYughAcN+3cyUdCUBPxqJafAkJQIq5KujKawlAMBLdqdLBD0BNBDuBLtsRQCe1AkcqWhRAiSO4jW8QFEDt5dIRdLMSQEX69X83qRNAQQ0wrhQ9E0B2YidGqDMSQDfhrSjczCZAQdU2M5wgIkAWRoMXGb4gQFkS+Bw75B9AJcyQOGa4HkC3FbFXVWAdQPHbhuT5rh1AYERzeeSRHEBsgnH6AtMZQH3Rgn1V2BhA81S5Q/q3GUCPFun3zjAZQJqwOYPGBSBASYSUkZYNG0A89YdhSGcYQMnCl4Q7shVAbE6xWO35GkAIr1sFHZMZQJ2Sz26w7xtArhbR1KdlHEAjSdhikmocQPDIAHQ/QxxAAajqd9f+GkAS60BpTJIbQCfNbjWfuRtADBP28oicGkBQSb8pa/UZQJghge+nESFABzLMVPKMIEAkMfjIO5kgQGME2hRWDCJAK96H8I23JEC7p45DEHgjQDW2S38qOCNAAHdvsuSBI0AgEm7J09wjQHsc19w/3ShAbnXxG8JyKkAnjp3CHHEoQD530vR3RClAVIunwFlZJkAwolAiua0kQE86fmY3qSNAEpmXLXSzIkCK6I4ppG4iQN0gURWbKCVAQJ5m5xxPJ0Dg3dSZYgUnQCqVGbFvMiVALS0tLWttJUBzKFILM+QjQCsDpVbG2iJAIQkls2vlIECOEwDxo24iQNPS0tILsyNAAQAAwM6oJED3JLlln+0kQETDVnRVUCRAPGpQKYULJEAOozNJNw8nQLEgpPzFhChARDockHzFJkBRuB5ZxmInQIQWYqTODihArk8LW/F6KEBNMN7KKeIoQLoMKKyn/yhAELZ85pqOKEBfTsGbP7snQFHf2QibSiZA4kl9YlGtJUBTZDxnkp4lQNSmNt2j1CVAux8cszuQJEAxEndvc38pQBf+5cQCsShAKIf1bOAiJ0ARCCXiwXsmQP9SLJ4llSRAVS/YHqh3JEA7lrbLsAEkQAxkEXUQeCNAyaZlodOPJUDdNSR+IdAkQCx1baghriNAhnHzCulGI0BWlOAPTYIiQK93UyafMSdAztHWvNs7JkCtfsoshQskQMPhuOzKwSNA/1IsniWVJEDBmaAOsQEkQE7sxPC9vyJA+WOA7ki9IkAhHSGUa+UgQGaJAu9v7iJAs3ndMwNUIUAEK8vEOwggQP9HZPRUHBtAI455ws64HUC7+EgLB/4cQMh70gN4zB1ACp3B6lCbHUALzwPr0jkbQMmMeLZm7BdADLO3MDv2F0BxTOGTjR0YQA8PDw/22RRAft8uob1QE0AlTu/4uM8VQPHdxhNeHhZAaCapI4FGFEB08HS0tJIaQGMn0Ayf/R1AL7roItsHHUAHPP+6jaUcQGM+G69r5SBAVZBRRAsHH0BUqFAJgeAgQF2wE3BNPiBAXnqOxSUNIEAoMQgcJekfQESXt942uRxAkAtpJ5+5G0D9euA5LusaQDcGvAZa0SFAoYQEY0TWIUBvjrGYe9UfQNsb8kuWcx5ARZ2hZqN+G0BMlqDuhF8fQOcggGPOuB1AsnyKruCaIkAFmnY5gSQjQMtNPx+bKCVAJl5aERlGJUB000gG8hQlQDSCbMgy5CNAYuPMZi79IkCEamQkWqEjQBt7luA9SSVAppk2o28yJUCBBX61PiIqQL+D8NXROylA/GugYxQhKUBWRylGSLUsQBYqvOANQi1AoFTU6ebkKUCPRw4MoDoqQP+RwQ+8kihA8fVrojijKkDSMIshFKktQE4f3njCAixAp1UCiz25KkBzDdqrNMYrQNR10LUdbC5APYsfO9HDLUCj+S3BPAguQLf9ZZs8IC1Aas/zsq2SLEDlMDAKalwsQFnQqFJ8qSxA7DG//8BILEBn2sZkm10rQEbeuyu5PytAs2una5gxKUBAYaeu/ncoQJ1XQoO9TChAckby6IY1KUBqqpHyc5coQGyxxMYjkydAEPvNAT4ZJ0BNHrn9TAonQNHRI6bQMiZApYF/7gbqKECuqKeKBJcrQOdI5Spw8ypAdQkbiJZfKkCzx9+fJQUqQIHALWbImSpAETVSTSj4KkDMeOUcn9EqQKUUs2BTkilAVJCA0eieKUAz5oEOa/UpQPaUa2biBytApiE+dzHTKkB6aO3j1/MpQEnA5GzMPShAn32HbebDJ0D+SeC33tIlQBSXr/IHSiVATk9paBe8I0AeyThwnlgiQM3RJE/LfCJAmR1nNM/wIUCLTwb4TQMhQG/+rAGO3SBA0zbHptvXHkDpXDi2UrkkQGOZV/P/0StA4R2r1axBLEA188ivZBYuQK5bt2FiOyxAETij6wnFKkAohBOqQHwtQBmJclyVfi9Apa4ExLDVMEBSPNuwY8QwQFwen6MhSDBAu0c9f+tIMEC8yLIbfbIvQN8/Z9GWZzBAAE5jbX/sMEDUDnbiqiYzQNVlwk0r2zJANqzWQwd6M0DPwd/inG40QNBMqEVxBDRAnxJDl0TgM0CkXw+vkHA1QAJ9PYpO9DRApYcK2UVSNkBdPBnxNnk1QL6FNjHCWTVAT/sL6c6oNEBCHrb2UWg0QFfgM/UQVTNA1nXEDJvMM0CYpKdwrMgzQHQbK5mW7zRAimG6pU9dNEDbWn2qZyk0QJmXXtZtqDNAD/xF4bClMkCrzkEClBQzQPDUrvDKEzNAWCZJdeKOMkC5rofwklozQJ17vc+WNzJA0csyC47dMEDiU3CYCBMxQAtI2dh3nC9Aas+oATXmMEBW3Rp3uUcxQJnKEE9nODBADPlpYoGOMUB46gTpIMcxQJdYB1/TtTFAJ8KAaUQoMUCFF6QjEZ0wQMUHFobcVzBACPw5ZoqBMECsvpDc7VMwQALuWQo7Ni9A5I/K9/OjLkDPcoaJTbMtQC22ie5JbyxAaDtcFl0lLEDh8ZSTAaQqQBqAbM47/ypAEt6Pp/Y+KUDuVE+0ZngnQNOUB09SICdACExaQRJ/KECKqxiGpYAoQISso/L7hCdAlHEFOf/4JkBmS8PY8B8mQCSLerIX9SRABWXM9tVIJkA4cP3dBuElQNG4dTWo6yRAqvoFhnyZI0A09HgYEQ0mQFvtzbXRmyVAhQ8Otj+jKEC7q7ABHHInQGkxCX/xiCVAv5Y//Y62JUAzAf7uKUIlQNgSf9FzDyRAY/h56BheJECUR39KCRwkQMFSv0BMASRA17ySn55YIkCsisjpOk0hQEc/C6V3syFA5GKq/wuHIEBj6TunXV4dQMbrw5uu4xxAp2ooA4ngHECgP5FvU5IZQJ8Xkd3q0BRAUQrj/tUYGEDgcogerGgXQNu5YT4YzhlA5BN7wDI8GkDu6IWIw5sZQKnT2IRrjhdA8EhhKVifFkCTq3NyGC4WQK1uSKV5XhVAiC9UhnYaFEBs0M2Z7QsTQE6zGgdO0xJA6MDn0ZMMDUBUYZQEVm0LQOeggtojYwlAg9bDQ32iBkA527BAfDkHQOeTtLHywQZAvbOBCrBVD0B9gqXgBloOQDahvv1dXg1ASiKJ5l7HDEBW5+U3afMMQDNY4CiXsApAqu1ZSWQ9CUBn3e5pcaQHQNtgu6Y8XwdAx6Mzj/ztBkCepyNLMjMHQPNlRKVslwpA/5BgBOMfCkA/ISQAeZUJQLGzQYRuaQlANJmDKNyXB0DO7OQGPcgGQGi7YsESrwZA0BVizx1EBkCCm25fBxoHQCj1DKdmeAdAGzLb0P6/BUDFbKoF/lYGQFRH9zV03wVAJHj0lz8DBUDSVdByF7wDQOjJiIA3qQNAEa0vwrkvAkBpWRLE8VgHQB2sgsqJoAVAoMdZYwcaB0CNoTgyq58LQPfUMX90iAxA6bLCPet5C0CLWL3UYisTQGEvJ363XRNAs4InAJI6DkAGo/rXbJcKQB/ZlrMU4RFAPZ1JZcY2FECY48IznB0UQKg/ns+EihVAl6Z1gPMqFkB0mfV3IH8UQAMxv1ckIxJAeH9+GORIEkBE0GawQMwQQNKQWxjK2hFA09I/RjagEEDgPJam/4gRQA2gfnKmqRBA78/W5To2D0CN4GiZNwkQQE05ebNk5g9AjmVY1eSaD0C8ZJfP+lsPQDr+uNvSfQ1A97WH4gZaDkCH0mDny6wQQDgiJF3vxg9Ag+4NKydHDkB7HjRdT44PQP9etxWcZg5A7Pofif7/DEBFt+TH4bYKQGSWox436QpAmtEnpKJFCkBU9YZq14oKQNoWQ3ijrglAXrnV52M9CUD4yuUKAqQKQOarI83DmwlAlzJQcFp6CED0R2gjMGEIQFBQpYAPtA9AnawYPUViD0CHbJY2RWIPQOL82ijxmA5At7tupMZ/DkBNqBBuUWAOQAAMYSwrCxFA8VsCIkBjEUDeiBjybikSQHKZYwZFeRFAb+QFlBA0EUBeg3KHjv8PQOuRJAMQNBFANhTSkaAqEUCE4ICaSo8RQAPFVEb2xRBAzlWDRAyHEEA9VBXi65kQQCcVkamBphBAXXnQC/zbEEAvscGwf9QRQENDPu3qMBFAXrurgDy/E0DYndWzN1IaQMYSPUQUIRlA4X/OHc7HGUCpevGCGM4ZQBCzV4UhSCBA5WbvwC5/IEDV2DpZuPYgQPgRScQldR9A9RVO1kT5H0DdoYv67OsdQEOIPtP/cR9AsJQmEJi5HUCWXpCb3hIdQAQtS8FkRhxAH7Vj1b6OHECexv1o2JMdQNbWQynXKh5AmbKCpWw3HkAOKCz2IMgeQOOVm4GROh5Ap5YjmDhbHUDLTdjQYJkbQKde/clngRpAVtqHr6JFGkCIkkMH0nQaQIyGHuYW/BpAjcDZ+XIWGkCBLP7k8VgXQM1sxyVRtxdAT3ehdvPKGUAUZUhTarwYQO8lCEiG/BdAkQAeWjtWFEDHiapAbO4TQG5OW50mnhdAxMnDbULeFkDfYuzhWAgWQGZ+wdP31xZAqJVVj4K4FkAGXkcVc3YWQBtNRNq0whhAdkGzEGYPGECUhDsPYfkXQBmhVkvf2xhAO1oE74DmF0Dkzm2EdyMXQOC/M8wzBRZA1c2C8sl6FUD+bAaiXKwTQCrhmkDgpBRAL/bPBQaoFECX/1Zy4KQUQMMclWHGNhRATiutQKDKFEBIvPPOxGQVQJjkZ60/AxVAZPH2H+A7FUABAADgtCIVQLGvqrhMChdAwSgeDNM9FkAdkljMMpwWQC2CmQdYnxZA8OYugwzQGkCGKQEDAw0aQCtkvcJhaxpA0+NzORQhGUC3SinnD3QYQKyRtMVaehhANq82TLedGkCBT4fkwjIaQBa0wGliaxpAFUYKxlIpGkDyuqclaVMZQHBGUkJkPRlAtt+TDHMWGkDZ0Wnip1saQLwUROk+OhlAJzStJy0mGkAgtepF8fgaQMlAPvAILB1AjpUrb472HED1OpXENSAfQHg7VEmVfh9A1eETJ9cqHkAV9+m+cOQeQJ17WtZX3x1A8eXM6ojgHEANdjj90+YcQJkyR8wUKhxAK/BYFgDSG0BrAZMAsLUbQJbgEKu7ShtAqieTSTotHEBnn53UkqMdQCMWdyNuCR1ACVxHSqNOHUBBjgoXSJ0dQLCPC3HKIxxAM5MaXxupG0BwJGXlxA0cQHHabMzf5BtAQPMnLZDIG0DbMohGISgbQK2tPVeWRxtA38o8rdeKGkDfPp2uEk8aQMKblumy8BlAUfbdQzBqG0BxvsiFC2cbQH/KMEcfPSBAb11TwyFIIEA26Q0Kl2cgQCPuu+X2LiBAiWY9a+mOIECU7pmM/EQgQHKfahlgOR9AYw9q1VffHUC3WZUB2fwcQJJbTV2TDB1AXqz4IXDbG0A5rjE5eZ4cQH9KeM5FwhtAdWs2o9s3G0DcLTAQgu8aQKMHUprCMhpA48jAkE58GUAUnzaPsLUbQKNyJig9aBpA4+EChyKRGkA7Znyk14oaQEfaKqICDRpA1aQ1sIYFG0C3sLTqN1IaQOV5XgbtSxpAIqofQm0AGkBt83JJWhocQGyttdbSfR1AWuIjXQmVHEBQVWg0IL8bQACQ8qkwahtAggJYRSY+G0BRkHGxMjwaQI4nxhOUbBlANmExQaktGUBZwYepNA4ZQPOEKcmEkxhA1UjaQjBhGEA6zWFpdVEYQGt6anTDmxlAqgIMH0/lGEBAtV1uZD0ZQGTPMiW5bxlAiCL377pBGEBxaiaeYWIXQGNMaWSdjxZAYnsh7BguFkA3FYX2Hq0VQK3HRqaQiBRAVWVDA8KJE0BirulG54wTQH81u2D3zhNAQ+7+RMKJE0C26y2QY5QSQE0NRvXeMhJAtof464kAEkDmAId5skcTQNIoRPGIlxJAvouAMLrYCECI9aULzscJQDi578y4bwlAmbolRyV1D0Ai4aa3xK0PQGCdQWcm3g5AHmfpTQ+0D0Dq2JpQBvEOQNR1Eal6JxFAl244a68DEkCqcE0BytoRQCJ4g24U4RFA9j0ZpTAhEUC8IhtJgxgTQPCqmpBoqhJAJ0dpEv8fEkAcy+LxT6URQAjQKuuV/hBAde/ZrqAqEUDMakjeimkRQKjCNcWJABJAEIO1RKrtEUDZOv2PYisTQPAPNeVz3xVA/wgeR3iMFkCbsTDkoqUWQN8/B83k8RhAYbyPDKqWGEAEUocL9gUYQLK+3CUaQBxA0/VroCRsHEB80bwhFMEcQMgXWQqqNhxA8jyjwH60HEDSMVyoHYQdQMgQ358imh1APXzv0A6rHEDNr24Lqc0cQHAc5LDuvRxAOGkLBxUqHECiMIZjqjYcQI7R0vdc9R1AracibS4vHUAIprSyaVwcQI2Dny0bqRtAUWSzYCEoG0CQjvoOx98aQKsgokuyhxpArWOYSlfWGkA095rW8fgaQNgwuvvCMhpAa8DjYz9DHEAhNC5jRFkcQBId2edZuh9AuFdb3g+0H0ADZ9HYgQ8gQOrklOFUpB9AEUyVt6QHIEBv8UpmzU4hQKE+1MI55CFA//0D52+SIUC5VqJkEDQhQK5HNADjDyFAfiD59HURIUDWHV9k9CMgQOJXM2R/vR9AT6UxlInpH0C/z3Mz+vIfQFXNNagLBx9Aay+nK2a4HkDeg7zS4VYeQEUVBM2wvh5AQjpV45bnHkCBdPuJcOQeQOePqbDGfx5ARR6ToVffHUCZ9hDtJ7AdQKvSalCNjR1AaDkXPxTBHEBXPDdMFMEcQBNQxII5xBxAdsAsS8hRHUDVZBrzSAYdQJhInkGfoRxAmwGi6MV2G0BO7zRxV9YaQDEMo2BNExpAQevDBTFqG0AtF2ODMGobQIDODaJqxRtA400wxzbpGkBqWYbKcEQbQNxXkOTG3xpA0suDM5+hHECvOhByVQQcQEeu88Y+4x9Ac7Qr4/O6IEDHd/uBdREhQCXcxMWw1SBAIizsp+UaIUAIt/FC1tggQKhe2UWIXiFAgN1yNgKUIUD+g88k9sUgQA4geeWdHyFANj4Uqg0pIUDnQJChMYogQCrKNMWjniBAT6wHxQ6SIEAtxBDh/4ghQG2aol7ahSFAzq4UG3WoIUDP9kkhgaYgQFtPfgjkeCBA0CwPQZRcIEB5/Z/NuV8gQA92/0LxryBAA0heId75IED8ewUiRXkhQG7mUyFocSFApPGJSPpyIUD8KXijs7AiQOPwAIpZaCJAAaOc5LMZIkCwNPzk8eghQOovyiZEECJAHWD5SZvkIkDgLHij0csjQL35/gEMJyRAEeA1o7iWJEAP0QOmiGckQLtYmgIedCRA2yXmr4hnJECrHtW/YFkkQBp4Q+tGuyVAF2jQLp9hJUCFl0lhKKAkQH6Gl2kDnSRAX6f9Da5qJEDeKMyosd4jQMutbOCpvSNAb+s7YxzSI0A0svLMkfEjQCFUJmdn2CNAVAWpDjlLJEDQTOFNh8UjQGTNhuYCnSRAJIxiK0SwJUASrnXrLE0lQGVl4mWKCSVA84tSTBXqJEA7e3iEyxwmQKDwxIJcfCVAPgc0QjRuJUBe67liI1omQCZHCwJaQSdALw+I5a5zJ0DZ1HFivuUlQLVeg2JVlCZAnqCEbcCHJkAMXzMh0z0mQEPcxGJbEyZAYYCz4KrGJkDbyKCj77YmQCqx1AelsCZAGgdkg7VbJkBWCywMrGgnQKHuCOcXxSZAJPm1Kge6KkD6b3NkWkoqQPnWq9L6uytAzrMj4kMgK0BZTQmqUFcrQIR4KkoHiixA9jenp5r0K0BXaQq53+QrQN38Vz8D3StAylTTDdOtK0BbArxkbjkrQNvYu8vHIS9AXt+MjrsaLUBJHuQp/2gsQPyI5cPMLixARTOKA7kPLUBQwefKRcsuQHOiVC4fJi5Agiaq5P+hLUB7gTKD59UtQBkVXc8imi1AaF6VGCPTLkD3jFvNkTouQJZOrkDBaS5A36ONgIakMUAzUYLl/bYyQLaTto1efjJAS5vDYi5PMkCwGmXj8egxQNbz4fFh8jFAjGjOhH/UMUAHjc0jYCAzQNbXOqJiKzNA/LCUT6gbM0C8TK3E5lMyQKUWKpFTUjJAIHBa/AgTMUDeuORNwYAwQI3VhpzP2S9Apxw1KLvqLkCAfTMGvbwtQLebVrYcGy5AqDYW0RwbLkAPXD0B+IAtQHWSoiH4gC1A2kICiFSbLEAwpRGXITEuQK/61VlzHy1AffYJPv9oLECwYtB0YJkrQImTsoNngSpALtFw7kyqKkDAvKp0zccpQA9JrQnaxShAhc3Sq9YhK0A3v2XbNukqQJeVQh0j+ilAEviV4pnrKEBom753BN8oQKfbqU1MqipA8+DqY3fDKkAdA1Oz4h8qQF7JjNSzWSlATe4Q9Gm8KEBLV2G6EN0nQLN3DH4ccidAUGdlh6MOJkDzGpbJrTomQO3aHpbKgyhA8aui2YfOJkB4OGOr8I8rQPv2qvTG3ypAfLIT/tCrLkAs1nzMxn8uQG2kfE9OHC1A765OglmYMEAGSXWr6Y4wQH+PJGK0STBAkH+awPHoMUAtacEsBZ8xQKnE0HAQNDFAAKaGhO07MUDXbNsoI7oyQPHmDAN+AjNAoO29K7vRMkCrGHaoVfQyQMDKIqR2SjJAp21PyyEYMkCY87XsogUzQBzO4ocuHzRAETF1IZT8M0CQSYPj6tA0QOOXCIurXzRA/YdyNcY2NECpHnuKtOkzQB4wRiEtfTNASCnIYJ4oNED4S3ZYoMo0QGgovH1HJDVAkDnDpR7dM0AbHRLf1rE1QMVIgMiBfzVAUeWdR7BFNkBV+kvIepc2QMSmK3zolTZAE+gwb5h5NkAFSOXjnY82QPmyYy3gdDZAxrw3YxENNkCVtgKElqc3QEUl8mbeojdAjTd9Ln9EN0DWEeTj1N82QLAVawQqEjdAsCgQRWfhNkD28wCQqsY2QGcjtiCBFjZAY8J+VoSKNUDXn5ArgN00QOPW5GLHbzVAtikKRLnPNUBx5biin2E1QBXVB0kdCzVAo/xUJofFM0BxgFyS0GI0QBeqLGc3qTNA7gAbldU/M0AQ0/j/TDo1QNmMT+76EjVAtuhND3OmNEBBlufkmx00QL6UrwM5SzRAFGgxxstMNECD89MJnB00QCBn0CjCiTNASjFmPxUaM0AFI9IpsaUyQDj1r4is+DFAgXUv6WWfMkB7oMkrQDMzQJXy5C3JcTJA8jWTwszlMUDGYJ7CL7gxQP6BnGK6mDFAbp/ToLWCMUAh2GaB+nIxQLIwUkGOrTJAse2qJq6aMkD7woYFtyQyQCJc34yWNzJAs0Yc5IHfMUBTQNLDB6oxQPj4B59vkjFA54JYCTP8MkBezKGD050yQDYq6urLfDJA1Pl/AUm9MkB8jGco0CkzQDHwJQISpjNAeW95xVGAM0A6ZHcn/oY0QNFBT0pLmDRA/HivJJOTNEAKvrsJ/oY0QBfP8dI/AzVA5Ay8x7qhNECogPXBFIE1QOrBS2XHbzVA61h0yMRkNUCKqOPwjrY1QG76JPS5ODVAf1vDxMyFNUBIeMTkZT82QK90D2VwazZAWe8y5aeLOEANOIIDhZM4QFUdwfq3BjpAhsD1LpD4OUB/3cDi4u87QEOf5+FkRjxAtn6a5TvPPEBi5KpBgig8QOghn0pvcjxA3HAt7YQzPEDMdNrQJ+A7QNYX9WFLQTtA0UjqNiYOPUA3CtSLzzk8QKnnDaz4sDtAcLffTCY+O0CXXvU7q587QAemtgJdVTpAt4Vu4UK3O0CfgJjkL9E9QAD868l84j1AYj4uk8FpPkAFHkaAmCFAQIwrnIFYR0BAnsdDx/1mP0D2iVVPp8s/QHQlV2TpGkBACAa5L0wyP0BBH8MOKlI+QN9AgsSaxD1AoDEGbo9GQEAGKvXjV68/QFMoeuKnyz9ADpBlwRkPQUC2o4UKvgxBQJ7OlVL1XEFA3KRBXEDvQECBbvfIQ0tBQCmV4LLlGkFAS3qdcQTaQEDEen8GOCpCQBJB9wO2R0JAA4qOxbC9QUD0W1bYC/tAQHdpOH8uf0BACo/plY10QUBPzq7WSHlAQJ7FFhxz1z9AXV90W1W8PkAQFbAjFeI+QNLWx8VidD1AU36yCnd7PUDt51b2yGk8QBYCkbAl1TtAbOBf3t+EP0A1i/rD2p49QEQE9s7bvz9AqT9JaXMeQECL+r/SGnhAQJz+aIaHJUBA8pnSYNf6P0AVTA9WaWZAQIxJmaxerkBABCs0Ej8qQEDXO0OPA84/QLcSLTwAcj9AMQ0cKfGYPkAAwLWMj0c9QAE0zNQl1TtAxDsITHF0OUA3oQQZHZM5QL7mqnwYFjdAVoNYMj4xNkBTIewJIsE4QF373iNF6TZA2c0sQl21NkDYB9yC+Uk5QFLD1DpEgDdAmgFLaLm3NkBi9b6hfDk3QM2KoRh/LDhAvTMJBTDBNEBKRawy8OY0QF/WYjOBRjRAjuGEMNzfNEAiU2WmNe8zQOgpDCSCrzNAzg8CYpJaM0C/ANlWVkUzQCnECvjYyzFAJ+MWVp22MUBhAsMkdD8yQBzj9BTSEzFAwGwkiW96MkCuwSpCTDEyQFdm7GSwVDJADSAJUrpoM0Cy4GWDd5syQCBKw1KMCzJAifrln1S7MUCSbWAzrPgxQJPTvC9OAzFAvHmbRBmmMUBO9PGfCPsxQJk/ZDHD8jJAawnIKcx8MkBhpqFmzJ00QIRtSW+00TRAbI5OhfhwNEChIlHV9wc1QJgWbMyARjRAUBg5i3WBNkC3yZVmp4I1QBAJZ4pawjVAemKWKV4eNkDergXCor01QLVKg7P87TZATRjwpSwdN0CHnV1LIaA2QBry40V+CzZAz1edUjs+NUClpUmW7Io0QEX3bsnNBjRAazwMAk67M0A/ABNCcm0zQDSxJLERpjNAdhVSCGu1MkDZ/xLkW3MyQPXSiC9oWTJAEML3RWu1MkAEiz9IrPgxQDWmVgfdkDFA+U5vbX0yMUDovq+Zy+wnQGHT21s8XydANOlEpU1zJkDXI2xKrjomQMIjwIO+5SVALOxImR6tJUAUYJtEbzIlQPklcqWuoyVAtQfLpd87JUCcIBA3n2ElQL9baJG+5SVAPTTYn9caJUC+3K2tkIgkQN4IZ0oB+yNA437U44f+JEAAIJ/TPwMlQEpt0up/3SRA5iH5D8NiKEDa+0Tp4H0pQD7DE6T5SSlACve8xVHwKECSda8UutgoQCrnC8RSWShAZzIHsVvjJ0AAG7EZdK8nQEh/ytglZSZAb5Z0AphAJUAASNmYjrYlQKXWPpJIjSRAfJedBTEqJEDpYLw/u9EiQHlBcDhsHiJAXLZPKIDdJECoLBTMQGwkQCVGqf3P+SRADNQdJSpyI0Bvl10MIlEjQGJYmhNFeSFA5cHRxg+0H0BvWZZUgvgdQPOrQ6L0PBxAmRMyLCHIHkAc/ZAL9NMcQDCcv0vjKB1A/qNuLIUzHEADqdgweCwaQNlfa2gpeRlAvgDeVc8gIECtgl4LL38gQEaA3Q8/4x9AIVx4JUOHHUDXPK6aXq4gQJSA5ZaSox1AVpkluJXeG0AvlzhPNRccQB3vDgh4LBpARxU8PhdlGkBXaTwOSs8YQFjaPhs9yBZAJGbcSngsGkCFl8+BhZwbQPaacX2HbhpAfcoeAOZjG0CjIjvD9aUbQMh2M12wVR9AWnJWYT/jH0B/NVX1dREhQGRGeSnAlx9AFu3uQD/jH0DOpZ3R4r8dQJNd4IHkkRxAfsNXE5R1HEDVobuu5oMgQAZ4qEcgXx9AhBB30FD3HkAGfeQdwzsdQGn/OEW2NBtAPJXJ5IJhHUDYYkPRr1UfQCbSjbZxTR5A8EQHZGweIkDg/hKUPO8hQHSEL+ovoR9AQ6ZDENN9HUCxzHPLkToeQJmlrwp0iBxAt9JkJBGGHkDL+kxMUskdQAOWiuewvh5ArVnWo0C1HkBZQ6w5dD8iQEoEPkgL7iJAc5kB/yrbIkC0rQqme2AiQP7rSsZjlCJAwQsmq/OKIkCjB9TjU1IiQFATvqfYgyRABmDwqXbqJUArszVMyNgkQP2lOs6PHyVA0lKGb6DKJEB6ZfMKsXUkQD430QuGLCZARYS/cVb9JUAFKf35bsklQPJZN1iSWiNARxq7/sTEIUC9dnz4BnEgQDYPOEK6aCNAHgoGhAJkI0CtylwmMSokQGu2pcmpvSNAkq04DflwJEC7dCbHZqglQE9z1g+A3SRAnc8DCcC3JEBdCWGiUK4kQFVFZ8dZoSNATPWEP59hJUBXTYbNl0AlQP4sUiJg8CRA8AbIQVk4JEAjhSWRmRIkQDw8ZFkKhSNAdIjeQWu1IkCSefxDUoAjQIZe/swFeCZAeqRYo1PCJ0Bt6vdlO/YnQNZcfA+SyihA8O1XxeB9KUAMKGr3cHQpQH2PtCpzRihAfNGPc3F0KUDffJNl8/onQMipvm9RhylAkVHHwVbWKkDJRpEUv74qQMUDyOO5SC5AKjpyX5KjLUD2u+/wQR4uQNiXomGjTi1A5yVQh/xdLEARQeoDpSAsQGTpzctcJSxAy9H5NZ3/K0A+bSvIhgUrQOpBVhI2gCtAhAnA9IWcK0D61gOqGM4pQHSr1Z+goylAX3tBhpD4KUAFQ7SdB7oqQH1tcvJYqClAMDYNSBqgKEAyyIqIEK0pQK8yw0ypLSlA0uzcVfEoKUBJzWtJMmwoQD/EHrJ70CdAmQ7ErA2ZJkB+WNC4lAUnQGq06MKNTSZAES8CdeLmKECkAmTIyRopQLAMhR/ZXClABLidg1kRKUDzj9ZJwmIoQJ7QziOzIChAV1BYwuvZJ0D/GLLBeJUpQNkGV3qbLS1AYF7ncHMfLUCQlt1wxKQsQJvuoUjQQi9AVm8hKIhHL0DA9LVBPsEwQKhnOqbupDBAcYBgwkk+MUAskvM/Gg8xQCjs76XNTjFAeKdJiSEwMUD1PBuHfpswQCH9tj+jTTBA5p1Nas8gMEDVSriM1/ovQA5T+G3oDi9A/Bs/E0G1LkCqsEoi4e0uQEvI1Uk6/S1AcISRxkjWLkDOlRhMKVIuQGF9K8LSfDBA7RufRqATL0CagNaf8ZguQG1SdgSJsC5A/Bs/E0G1LkCVt0bo0RQuQOS7swewVS9AVWlCa2A5L0DoT2//IMguQE62saufqi9AE6jKNAMVMEBO33qkfwQwQCuCEGQ3wi9A0BnRb3K1MEDxAxwtt1QwQKgISLpuWTBADpBtQz8qMECoQtNDcx4wQPP74yEnXjBAux+chPcuMEA6F3OGFxwwQD34Zshf0C9A5IAfaUhtL0AK4owiN6AwQFTErEbP2S9AmUuuZOCEL0DNxrI4B5MvQM5jRSdhoi5AxD/rblFgLkC3IUbiKVIuQHC71ou7Gi1AI8i/+YQzLEAK/miK14oqQNRz9tLPaSpAR4E5bJZHK0CNFtGfR5QqQKwkiOapLSlAiR0KfWslKED6SR6S9GMnQMPD1LSaVChA39Tc8bnYKEDuoigvW+MnQHwCLEwVuiZAyGr8RiZlJkDm/jvv1xolQCTdrE/AtyRAx01UcI62JUANvZ0E39IlQKrbTB6dJidA3TTMvd1pJkBILMx5D2slQAPu+2UooCRA2xCGxACSJEBxXzhycQQkQFYBjq+SWiNAu6LCp9I0I0D1epCEu9EiQCKrORbyuCNAqTJPgoIYI0AsBmGwPwMlQPZiMq5gWSRADg6zvWHCI0BcZVF1kfEjQHUNtoi6aCNArRHPJVKAI0DfCPrGevciQNdWq0yFUyFAsPyz6O07IUA4cx/KrsogQB9FToJ8ySFAMQc5TEV5IUAMDChnXq4gQBe3/8J1ESFA+/Vkx6NuIkCf/XCrO4YiQNDrRo+jbiJADpo15rSCIUAcdSUhjXQhQGN6Do76QiNAL90wB5vkIkBSwfGfKnIjQD+RfibKqiNAADIQzITDJkA0aiJiFiMmQOAXyjKGLCZAUg7U+pbXJUBFPRSo/yglQE9wthmA3SRAj9fphUn2I0AkbUBGCRwkQDQGfImo6yRA9MQwYvDmJEAQuO9/ENQkQHZ70GoQ1CRAsRj8Rr18JkDmzGlChiwmQC5/csGNTSZAt0jk40wKJ0Ab6wFEzFUnQJoKf0s6jShAyPLJCJy9J0CdHFtkWREpQGUNsojZXClAXGR/L3ZaK0Bc/OWRraorQAVsPeotXytAkEoE0qbyKkB1QBqGR5QqQC2ykaZHlCpAlUoYph20K0CeTHaB9aUrQPnB8GMLNy1AFGWarlZFM0AN+q6GI3I1QGotP7E7PjVAE7ukSpTkNEDDu3SOpbA2QGJ53ipZ8DZAa48JcWmbNkBc+QOqk5w3QFO6xlHMVTdA7ieQMwGzNkCn/ysR7hQ2QJwuHk5i4zVA1DPybdNVNUC/zIoiwdg2QFtGvtb6YzVAXYAaRMdvNUAsM/XzZqg1QF1OTReo6zRAJQyucdnsM0CGHalr1pAzQBaFHISeQDNA2YKYiVZFM0B8Vn62bhEzQELUQqhQ9jFA/Vw1se07MUClv+2/SqcwQAKw0YPGljBAAg4pj863MED3iH6FxpYwQO6k8edaUjBA9mPesRThMUAHPYIENc4xQHh+EbU0zjFAsMzh/wUIMUB701XM7TsxQLQKXW32xTBAXptMR/NpMEB4cfAFW1IwQCAdnU9mzzBAScxO9B49MEB/6WsjetYwQAbLzmFerjBA1EDZwTU3MUB9/lkHckwxQP3q+sEU4TFAEjHTDbvRMkC8lZjUrPgxQNRZe8RRXzFAKa5DBGhZMkDE2mrCU1IyQLu2FNPksTFAiAs5TlLIMEDb1PM/10EwQCh/4Wk+wTBAVRnkf4a8MEAkMHkS2GIyQMB5HULRqjFApP7Zh5laMUBuicBIOvwwQJ9rryNSyDBAhBexyrKPMEC29bdm9y4wQNRj52c3CTBAHzqJYk+OL0C7BfU/eJwvQDOCwic4Ky9AzbrN/ODtLkBgMQrfITEuQGocKUIc4ixAKvDBgws3LUC5p56UKrstQEycRI8jAy1A5LMXLSq7LUCLHYjLe0AtQBsYpl/bBy1AQssvhJyWLEBTQ0xLBegrQMVbycQFUStAWfu7KQ5yK0AtHqKd1iErQDKfZ0SYGSpAg4QKSWDJKUD41bPpf00qQK6i5Z9uOStAA6nYMHgsKkC417ch36sqQCWXdRXnzCpAUm3OpkFFKUAEjpm3XbUmQEUIKonkISdA2Zp3PHZaK0BXO3PJCl4oQCyktytjBChAW0AQjuWKJkDTUuP/rqMlQPMDkiOuOiZAW71A6JpUKECQsRUObI4nQFfxzH+KqShA4gEO1UhmKUDt2oMqct0oQEbEhqTL7CdAAQAA4A9EKkAh/hVHaOopQAFYwOWDyixAorkiRAygLEDCwzIkVQQsQPgl4tusQSxA33VvUr5VK0B4kwX16J4pQCd25cU4uylAjBW17k8eKkCybx04wZApQBpVsJypLSlA1vWDTpu9J0DtvI8XhcMmQCe92YGGBStAU9Vr7cV2K0CTBmCia/4sQH6zp/jDpCxAYGXpkOSRLEAs/KPRtjQrQFvFuwN/5CpAVqJTLk5MK0B+U7dFjiYrQKRNIW0l1StAjBiICshIKkDPiycSeCwqQJtcnnOOJitAJuw9yj4KK0DQFXNLhZwrQPLnwv826SpAIOQsOZ/RKkAMW4ZqKBAqQG6ADxY2gCtAlg7z6Q9EKkAsLPXtGnktQGCh1VpjdC1AkYAR7+uyLEDFVptKZa8rQAMg6wHH3ypAEb8BvdYhK0Ctj2ow0NIpQBwkeVBxdClAylJk5DEDKUAT/FPUMQMpQN/o32YpeSlApzBjaWeBKkDJp4NkAAIqQEcptC1o6ilA9aHwAVmoKUAOLtfLp1sqQGo8F0dmGCtAbujQv57RKkDfqsiLtjQrQG/FGIU/cypAhRFNJug1KkCigbpqGM4pQMAcPXTIsSlAm1cbps9pKkC+8eqy/cYrQExz1wN2WitAVO5VoqWJK0CcRQ7CIwMtQIKWFch5bi5AlUKya+K/LUDNpmwoYgsuQIiM0qvZNS5ANZbGf+FWLkABJsW/CzctQEWyYOfyai1AMhSDZly8LEDG2humvIMsQCj6VupEWSxAtLNo8FwlLEBGIv8DxnYrQJt8McxVbStA43JuU95CK0DnuwbC9g4rQN46D0ZX1ipAw3U04tRPLED9YrRxlHUsQNlPJycuXytAodrZgT4KK0CGITxpZ4EqQHBX6d8/cypAZ4e28J7RKkCk6cDrx0gqQJKBdOJA3ClA0bzwARGtKUC5aglC0TspQITyQVJpUylAS/UukqJ1KEAY7yPDQhcoQIJmMq4qSyhAS0poq5u9J0ATuzls5CEnQFxyXsLcACdAJGakaaRHJ0AvPjssksooQDtrxwWTMyhAzRSLa6v/J0AeOSsmJJMnQHHj0/Y7XydAPavjR32iJkBhBm+wBA8nQOeS7t8MMCdA5ZRhR1QrJ0BvQ7KGlW4mQBVCFi4+MSZAnwcKX1QrJ0BU5nOKBA8nQEC4Ha9MCidAP+2Rpd1pJkC+YO8d2sUoQFkoB1Pz+idA+vubNTGaKUAP6bhBQUUpQL7NheV5/ihAlQgcZjqNKEC/PBAL+xsoQGdmxIortCdAU4e4ASX8JkB9mFxrXEwnQByphe8iKihARJH7Zzv2J0B+ZRFH8pEoQGeWe8e52ChAqH42rMkaKUDKc4z/ByMqQJmwslMl1StAejqQzOVjK0CDl6jlFvwqQCg5p0UmPitAs5K7g2YYK0A+r3UR7+0qQF6g7Sx/5CpAGuCi7O9WKkD83MQF4BQqQHLoFFm5bylAhZPaX/KRKEC16SWE0qQoQOaOG2JBRSlAirvfFMGQKUDyEunBGTcpQK0orvKYgilAkYu16BmgKEC766st+rIoQArRwIFSWShAW71A6JpUKEAuKhuzqS0pQBSigWMybChArbd6LwM9KED6DkanA6YnQMnS4QEkkydAD443QhRRJ0AEINNHYwQoQJy0AjiEWidAqwPE6t1pJkBND/cL1d8mQIXQn2PFnSZAsRj8Rr18JkBqtOjCjU0mQD1mUog8XydAf+URYtMNKECfPmtsw8snQHJVhGREgCdAl3xOGUSAJ0CZd8hLdYEmQBWF1iFO3CVASWXeki7vJUBWSjAiV2YlQBGi8WnnXCVA2UalB3B7JUCQlAeW38cmQCE+mGYlUSZA65OIbON7JkAxJm9O5kImQIu6Z4MmPiZA6UaL5pWKJ0AKyQ422UwnQOxKuMZVjydABTLlixsiJ0BZf8dHXuQmQJuRmBJgviZAnCZy70tgKECN5/WF074nQOVC7DUYWydAIyY8Z97aJkDujHZx38cmQFIHu2efzCZAQckX92KFJkBQI4g8oLkmQB8GZ3nijiZAhkhDeCKKJkAfNc0d2UwnQOMs7eAd6SZAIsglB9/aJkDP4+UgX9EmQBURAStf0SZAAQAAgJ3yJkAaOq/R2xMnQEat4JBUoidAVuWLHdhfJ0ATZ6qx3e0mQLg5F4IZSCdAc9w2KFgKKEC09hDLyQAoQL7+4iet7SdAJloUKzrMJ0AcXG4AcXEnQDY1NQhxcSdAHK3Nq6lsJ0DcXE4NqmwnQDazcKYe5CdAgV0WDYwuJ0CHuBdMGOImQGOOGkRwRidAhFdEFZNbKECZmlanyQAoQPhqv9us7SdAbQjn47MaKUBun32Km7MpQKaapEO58SlACkIopGPjKUC0SN/RRtApQK//MTS/8ypAJrt+pGxmK0C1Qe3YIBosQB1eNJefSytAG43Om6V7K0CjvXZ9n0srQOczmJ7OLitA9uZGBtJGK0Bwf+7MmBsrQJOvfl2MuypAvhcQwr62KkDTMBqmMA0rQHyb7JdsUCtA3FSg1EOdK0BFhcQrNz0rQHEZn5RWqCpAUzv5VSfFKkADzobX+vkqQEbVVxHumSpAG3GVXriGKkBvMg2l9MkqQJXrqExAhStAfZLeHNuOK0B6Mup+1V4rQONxBYhmICtA3ndm2pLrKkDA7U05YwgrQHzZJjPF5ipAvOGCveTWK0AHU0RhwlMsQPhRC/ZmPixALDFk1Kf/K0BTBiuAAPYrQFakNWDe3StAiKxRQLLiK0Ca31kK7C8sQPn8Ap/wCC5AktQhyvrrLUC2BNNUg0wuQE1VMl4/HC5AEsKy1InALUBCMrq+4rYtQKOtDwABYC1AYNqJc4ZRLUBdTVcehlEtQICC2+VZVi1AxfZeVJA0LUBtAiD/uSouQKqGkHRT4i1AAGAevzutLUCzSt6eskwtQN9YaLPpKi1A2bwZSj6yLEDUxzoANM8sQETzgbTluyxAa24mymDKLECZxvYjr90sQFyLV9yn/ytAx9sriuK2LUDd4trS37EuQPv6FirY0y1AtXodUSScLUB50WLYpEktQPHBH/cdGS1ANbLhrkK5LUBNXLkV98ItQMvFRLs62y1A4kXAorJPLkB3iG9JKx8uQGKp6o5ZUy1AdpV20pWNLUDpfwo1+B0tQClkDaw0syxAlyA56nYVLkA2qOBFURouQOM8PEW6LS5AjT8woSsfLkBZlpnk7okuQPNg0KB+8y1AnutkQYbRLUChDUbiqnEuQPOqx6tfey5AY/DwPNhKLkCwJ47H5wYuQHGQEpQGfy1AApnMOCx6LUClAAi0WPgtQKVHvXFZUy1Ae8tF+yX8MECmfdu3isUxQFc4iEdF5jFAHKzrqVXQMUATA2G3xoQxQE/Xl+eVxjFAMFa/V2aTMUDut3DJZmwxQAKxF74GezFAAr9tapgDMUCo12eSNdUxQNEaTHhWqTFAetIPL7bBMUD6NOkLZroxQF5QL+7XIDFA1XZXFzgSMUBHTOuutcExQMGmzSSV7TFAWzu80dQKMkC4yFSihdwxQNp92e7GXTFA6fxlSuamMUCvmL70o0wyQJCW3ADF+TFAPi6NlMXSMUAnhYwRJsQxQKDi/3QV2jFAi21T4SXEMUC587Y3tegxQM8Rsou2czFAkoH4EPdpMUCPzVxn5zExQHfUdl4fqDFAl3cHwWSDMUCsiyRYACUyQN6CEWwKOzJASB5wS3MnMkALhCUYlzgyQHTRldGl3DJAPXyPF6pkMkCnaD4M31oyQN1MwOv93TFA16dUUdrMMUAGwWXx9g4yQF6JjrOl1jFAoQxnE4maMkCz4B613BMyQPPfST5x4DFAZXv+bwWtMUApvi0BkGMxQOGrLw67QzFAtm75u6cXMUBu25BhNRUxQNIZyPau5jBAq05JLBEEMUC0Zo8KPzEyQPFMq2HvPzJAhViR57WKMkA2Zp7RHXIyQGlMtIdHaDJA+z7kzRaSMkDreIXCD7IyQBjlSiVVOTNAK5chN5MqM0DY8SnXFu0yQMEDZqbK4DJAHiH1iIW0MkAuVHA6R8MyQGzK0K0ybTJA61AeO+a7MkCBC5JyhbQyQJ5vCplVKDJAkYuYQizXMUCTY2Z+CcExQMXqoMcChjFA66gHSsSUMUCOTM96xJQxQKLzTY/SVDFAeS1KJkF3MUCsy78EaxIxQFNJ1hk0SzBAIiOKIl33MEAQWzn4TpIxQGeqHGUJHDJANWcmyuYFMkDDvbZxaTQzQKjWa3BbdDNADxwa/4ulM0Byyy0yRx4zQDge80iM7zJAPm8n2AHyMkAr5InHYmQzQGTeBNEezDNAqYbFtjNANEDDvqN5CCU0QC1/2ljXXTRA+SSqlI1MNEAEcngOK/EzQAFdY/YCrDNAqPsf3zdJM0DTlcMtHCkzQJ76M8iL3DJA2wIVBAOsM0DpK1tN2jM0QCyPObWT+DNAQDNDGmyzM0ASGMGUe64zQB0tIurLazNAPR98FzsfM0AH+S57NaYyQO8Dn9o3STNA6sqKryskM0Btv0slDS4zQNt4/JtiZDNA4D44hciVM0CVygGmlCszQEKQBR3G8jJA9qriMMW/M0AqLmRbrEI0QNQ9dukZkDVAIXdUXnOcNUAgQBlkKYs1QJzDafYfhTVArEecdkpxNUA+tSceMbk1QOus28KSAzZAmOXzoINGNkCCfqiaf4Q2QC3V/T99DTZAb51RA0LtNUCo1qEiRq81QAhcrRqnzTRApQjuiEy8NEB0AeQ74HY0QH9kbk2d/jVARQK3DKHANUDDgK8ajMo1QJ/yRbP1mDVAOYAIRNanNUAiCIJjpYI1QFL2rPrEczVAc308gpIDNkB2trlc/NE1QDS6jkbFczVAeb0Ygh9ZNECj1xBxr1E0QFMudPbbtDRAUHXLro+gNEDkY67LMns0QLzRkq4yezRAzahKl8xfNECxx3kA9zI0QA+GzMqyijVA804UiJujNUCIUbnH02c1QGEZZIEnlzVAuswmjTEENUDQM1ksO/o0QC5cpgziWDVAy8RL7mhRNUBEns0v/jo1QJVbKOQRnjRAGgvqm75uNEBiNmK+M/IzQKsrSu5wsTNAk7fRJJoNNECfwHu37rMzQOpm95wdgjNAA1x4gPQlM0BInpyYsmszQPyvqgs1aTNAFLObVT5fM0BOeFwCz00zQHKRAhaNkzNAYC+TFRmHM0BPuQlmex4zQNmr1rNaQTNAEnAG5JGOM0Bdgq77XE40QHzrSdes+TNAIu8s+7gbN0DQhx34c902QJ8usSgLsDZAxUSKOoWFNkA43ojcejU2QGdu9DPifjVAzJ1tVtUfNUBOMwMo9xk2QNTiG5dcVDVA85cPd/QFNkA1QhvJXmM1QOatNFp7OjZArBVJtPs8NkCfspdoFPY2QFXCWY4EfjZA9Rjy9JsvN0CYTVM9mBE3QE9Z21S7FThAMssGCCpPO0D5YhWUqUw7QGZGqlpB/jtAOwh4AUD0O0BJGGF0MpA7QPOq8Ew94DtAhpOxzLnEO0DThzlgMYY7QPLa/kgQSj5Av3pruIofPkCAVJhm/b09QKkX09N8uz1ATHfsrf7HPUBwtdtwqIo+QCR8A9i1Cj9AnTByC7oVQEBApEo3tBBAQF6OTBK8i0BAPa9Y+uFzQEAPXL1R5QJAQDkTfzF0SkBAe4CqVhDRP0D3/sms1S5AQCHj7OpvgEBAevSDm4RZQEAkysu0UixAQO3KJ0F3uj9AuWYF+jkmPkCMm3C2phQ+QOCzC1knoT1Aj5ymsF7TPUCXY+IQv/06QLtenlZoIztAc6RKsL3kO0ARVFdW+hs8QFc8QBtnCjxAxNC5pFhxPEA9yqhBkbw7QAyZajiGsjtAhOsWe0l7O0B3FYK4ooc5QKmIuHQ5KDlAqNW4KIZTP0DY0nDHoWw/QGbB2ziVHT9AQ8cU/FMxQEAXo+E6VDFAQC1xZh8Z3T9ADyhRGGGCP0AK6NFWa4c/QMTVRZmzaz9AfPbVnWg7QEAC1G4b161BQDEBV7We8EFA7/wuPr6BQUCViudepJRBQG4BvP3rt0FA+PKnvno9QkCVVLUyx0NCQJIgTz/h8UFA9S5SPLP6QUCBt1j9VgxCQKZ2avP/P0JAVpzp2Di+QUCWhqtfQ4RBQDkO6RmQS0FAw50pXzlAQUBquCze125BQLiAD6C9wEFAINbg1T3gQUD6EFM+bOlFQNM6lH7Jc0ZA19xa3dkIR0CtVZHivv5GQP5SYKej9EZA9ctahObdRkBQMZ6FiRpHQEv/c15VfkdA8qU6ZEiRR0CeMfP3A2BHQDYR/9Ic8kZArAJetdZgRkANvq/9lL9GQBzsZYixEUdAFBwlC5gaSkBzmnkucFNKQGcbPekuskpA0tFyWq8vTEAa/Xj2M7pLQKh+Eu95S0xA2PMAWoYgTEA5Tn8DLR1NQG5r+Bf3IE1AMPyn9PdQTUD2F4YhXyRPQFzrykWUCE9AhuWB/vHjTkB5B8ogNCpPQHXbDSaYNU9A7mY2foWhTkBuA9EuBcpOQNAoel8xm05AGC1RoPGGTkDjeBDZk0hPQLtllvoDG09ArfgVl0GgTkDcfpEbZ/VNQCfM5kfAGU9A1Dhhd1LWT0CFMzjDUCBQQPS4Oc90F1BA67/ys97vUEC/7ab5xPFQQMl/QmKmBlFAgrOck6GpUEBBjsZZrcFQQBgVR4pXnFBAC4r+ixeIUED+MWl+QjpQQEs/dRbmWVBA7oUrMiRPUEAdumpCAvlRQK9VjFURjlFAUFer/mCnUUAdoxNh8jJRQPrKAH9OE1FAmD0W+viuUUBMqDIJz6tRQJd/W+U8xlVAjuSUN+lBV0CrNXUvvV9XQIRj0xwfRVdAkiEPw8UrV0BWsGlZtsxWQAmoeo6JkFdA+/RMIMxRV0CNZWRvHz5WQE1vdsZ8m11Aj/XLiqeQW0DbwI1ENdhZQPyTRYJy4FlAv8hg4k+wWkB6mUvOmj1aQOEWOlNvzVlAbSyyPYKlWUB1PWwxfH9ZQDI5//OsQlpApZjLNeX+WkCDz7pvZ3VbQEkGcI18lFxA/UdlVpdsXUAlP3ByZrBdQFEcK+jvEVxA5oBZW3EUW0BVSPJuAJ5bQCGSVTpbJlpA856sn/D5WUA5k1Dg2blZQADQ9ZtmWVlAwikAq59uWEDVOVhrx/VYQGEErbadsFhACzBKOb9fWUDKMWHjlPRaQIZdH88gtVpAyX1qcIoCW0BuKXsNB9haQBAJBzVbxFpAsGxVTxQFW0CYyHxlRQFbQBRon6caoVlAq8O5fBUKWUBKOoSaNOBYQLUQkrMRUlhAWqsRAn3gV0AhpIudXMlYQL4t1/kuhVlAzoqdPAgZWkBfUSk8eR1aQN2WK5aHKVpArbD5NOfmWUB8z8EFwNxZQIWen/u4h1lA0iCJzpCeYEBqabiGGgBhQOJbNRvnVGFAaeJKy+t8YUCchaxxbl5hQDBawF3oMmJAXWw2VOr8YUC0eohLGOVhQABoH+nLVmJAtKuoxi1wZECcMek5xydjQFDAQyax82JA29vNCtS6Y0DKzgS5SNNjQP46Zmy2r2NA2jfOnOo/Y0CKNPPOxMliQF5iF+AWr2JApHgGh9JIYkBshz7i0f5hQEuhmYXqOGRA9ojbkq2iZEBKm/KfraJkQLjDIoAa5GRA3fA8+I3NZEDtcHktS+BkQDGTpfaHdmRAwlDjxEGQZEAUPH0WqcRkQIG3wgLJkmVAIdcRK9dbZUAFNp8xzX5jQAeV+1EX62RA/3tCOrLKZEA43jT7ZnJkQBdMC+wxTmRAxs8gPLgoZEBKpJ5uzr9kQCISxic+omRAsfJE0X7oZECnm9vVQcRkQMk+5eZVoGRAPs0ruv0bZUDLKi0dSUhnQL0kO4gBjmZAshEoAmljZkAN5TWcWRJmQOj3y4gG6WVACLs3cFvbZUDoLtHwoDxmQHW6duVNc2ZAGB9O5f+UZkAJdsZwNsVnQHch3ukVumdAKmCzgo6ZaEAH22goo6VoQOjQn1kRj2hAB7tazdB4aEB3UeJq2/5pQBiIJ99dlGlAteEf41NOakCzb6nsstZqQLHoU22BUWpAx9GRdj9yakC0JiDPIJBqQAtrwVXU9mpArfObyLAAa0Am481UiKJqQBDT+K55GGpAdKjKFBvEaEBwYKECpdtoQCNT95mCG2hATg8VkjP4Z0CUKbpqeutnQNZWyCMqi2hA3SdY6eOQaEAKkQHgtnhoQIw7EsuRnmhAEvf3NxGpaEBHY0NaYs9qQK89eubgnGtANKri0E/1a0DeEqzCxshrQOdE3aIX12tAwnr6Ye2zbUBQTLIb2JJtQOvrydkIc21A+bJfg+40bECtvEldAIdsQMp+CGTJD21AiyEK8cuabUA3NKma3T5tQEGmAZs9fm5AltZpzVNGb0BE85TjGi5uQF5xCOt7z25AEbix1BqmbkB5RDh2ARRuQIuI67wbNW5AriOy6O9Eb0D4Kaq7AARvQCn6ZHuU225AmxrCzt3/bkDpXCCPMJZuQIjNTjaaI25AmtgFieTNbkBgeGxLEd5rQI2FiqjNcGxA2t0yR+JSbEBSrJP8WGxsQJZspZdwAmtAid6YxcD0akCMVexRSUNsQKDxymwhfW1ASug3kT/RbEBv4yN2nNBsQGa6CibEhmxAZbGzZDb3a0Cg4EHNm1prQLBoqLP+iGxAtF+i8Bk5bEA8YHZaazlsQNxWnPu31m9A8Z/AzFBub0BAeLk9dg9vQKYrDfywEW9AFGbHX1tvbkAzOz+7FnxwQI8Z/oCmSHBAQEgaooFWcEDvX+CSHTtwQCVTklrLZXBApi+GitELcEDimrjwu69uQCkRMhfHUW5A49QGtF5TbkAsEt/6FktuQPH7RwfeT25AbkSL8/Akb0CxDoCWgQpvQC9BfWt+WW9AAQAAABrhbkBgLu27ZoZvQHIGzb3mV29A9dsRurIUb0DnRBmwbUVvQHtvBNS4429AdfivCuxsb0A5gSjzxB5wQGbuASSdUHBAfiKplbhKcEC5/mu+EXhvQCIa3+DYJXFAlNI4qQqdcUDEmFSrtUlxQDUEzlqi+3BAHn1ahwbhcEBhhpMgGyRxQBsgPas7D3FAkVH/hw+fcECslYy2cJpwQDXr1aLqt3BAfbjqg52zcECtRX4m2vBxQGHdqLTmAXJAy440z17BcUA7YoBkJ1JxQPklABZMlnBAqaC5Os5CcECFHRVRRCVuQIhVNW9Rn25AkMWDDOPpbkA6S7t325puQFLlsI8zGG5AzUWf1TvKbEAbCU0hKFNrQI7Z09GSr2hAbijIWpRkaUAgne7tbhprQBVnnGT/r2pABIB1/E5SakDL35HgtlBqQJuQdcqGJGlAGLxtSjGuaUBA4NMkySNkQBlRPTNMP2NA1istY9jvY0BwU2/0xYFlQLsbZ2+x9mRAoK52jbi+Y0BQ+JqgNmJjQPMDmgMOymJAOj/eOttXYkByiqD3AxliQBDFM4LcI2JAKjk+JX03YUArveoIsfdgQNUm4AMh32BAtzObZMWrYEBqzCfOREdiQGjylyX/6GJAiYrnEczPYkCSr8ad/2ZjQMa5p+zA0GJA8kQwpQ33YEBmRHG75tRiQJrjlH7yTWRA1qJW5UaNY0B2AFQ23NFjQD1rVbiBQWRAogpWMP+/Y0D36xgv1oBjQMY6uxlyVWNAXfrb2z21Y0Ctqf2afHpjQG3L20zp2GJA0roodiwUZUCQobEe6VZlQFyqx6QdEGZA3doyCm7OZkA57at9i+9lQHe4wzN1Y2ZA2fVkmK8wZkA1bz2lgiVmQAHwPeDTcWZARYqvStfbZkAsIF+khdtmQIO1Mc4cwWdAlJm3/k/5Z0AJsxNDDRZoQE8sfpd7qWdALrpvou2mZ0CtykwJJmVnQMdKolqxpGdAgoTUM2qKZkBOWw07DddmQFl3go925GZA5ZdqoK8wZkC1nbuw01hlQOmO6DvlEmVABSy3+N1kZEB00D0KuO5jQDQbtQg1xWNAEAX9bTYHY0CZFaw2jCVjQAbQgA/jq2JAZIA9LXp4YkAxfFemljFiQGRUDrl9o2FAhYw5x3qFYUBo8OTjIyBhQBUOr77R+GBAW2ewwWs6YkBuWltFG9ZiQKBSJ/FIm2JA+ajusLdEY0AhmcLerZNjQOI/k4ckK2NAPC8a0q4WY0DG3QhDx5pkQGpLe4fHjGVAa6FaQsOqZEBvcvG4RmBkQC9fdF+5B2RAc+smupC1Y0BAQPqbYwllQIuq6i2bcWVA2IL8QBQaZkBXDyZkP8BlQEmWb7AgH2VAembtvbs0Y0D4OcOguzRjQGv3j3CQjmNAv8B7Zb/9YkCJqmiQLAtjQDtXom/J1WJANFZ81YVMZUACK6u9aG5lQOUsJXd4B2VAQ9IodEeuZEBte51UZdpkQAAAACCFG2VAAAAAYI+SZEAAAACgmVlmQAAAAGBmRmdAAAAAoEeZZkAAAABACodmQAAAAMDMHGZAAAAAQDMDZkAAAABA4TpmQAAAAMAe9WVAAAAAAADgZUAAAAAA16NlQAAAAGCPEmdAAAAA4HqUZkAAAADAHk1nQAAAAAAAYGhAAAAAAACAaEAAAACA60loQAAAAKCZyWhAAAAAIFzHaUAAAAAAAIBpQAAAAMAeRWlA\",\"dtype\":\"float64\",\"shape\":[2610]},\"x\":{\"__ndarray__\":\"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\",\"dtype\":\"float64\",\"shape\":[2610]}},\"selected\":{\"id\":\"1074\",\"type\":\"Selection\"},\"selection_policy\":{\"id\":\"1073\",\"type\":\"UnionRenderers\"}},\"id\":\"1046\",\"type\":\"ColumnDataSource\"},{\"attributes\":{\"overlay\":{\"id\":\"1068\",\"type\":\"BoxAnnotation\"}},\"id\":\"1025\",\"type\":\"BoxZoomTool\"},{\"attributes\":{},\"id\":\"1067\",\"type\":\"YearsTicker\"},{\"attributes\":{},\"id\":\"1026\",\"type\":\"SaveTool\"},{\"attributes\":{\"bottom_units\":\"screen\",\"fill_alpha\":{\"value\":0.5},\"fill_color\":{\"value\":\"lightgrey\"},\"left_units\":\"screen\",\"level\":\"overlay\",\"line_alpha\":{\"value\":1.0},\"line_color\":{\"value\":\"black\"},\"line_dash\":[4,4],\"line_width\":{\"value\":2},\"render_mode\":\"css\",\"right_units\":\"screen\",\"top_units\":\"screen\"},\"id\":\"1068\",\"type\":\"BoxAnnotation\"},{\"attributes\":{},\"id\":\"1027\",\"type\":\"ResetTool\"},{\"attributes\":{},\"id\":\"1069\",\"type\":\"UnionRenderers\"},{\"attributes\":{\"text\":\"\"},\"id\":\"1003\",\"type\":\"Title\"},{\"attributes\":{\"bottom\":{\"field\":\"bottom\"},\"fill_color\":{\"value\":\"#F2583E\"},\"top\":{\"field\":\"top\"},\"width\":{\"value\":43200000},\"x\":{\"field\":\"x\"}},\"id\":\"1047\",\"type\":\"VBar\"},{\"attributes\":{\"mantissas\":[1,2,5],\"max_interval\":500.0,\"num_minor_ticks\":0},\"id\":\"1056\",\"type\":\"AdaptiveTicker\"},{\"attributes\":{},\"id\":\"1028\",\"type\":\"HelpTool\"},{\"attributes\":{},\"id\":\"1070\",\"type\":\"Selection\"},{\"attributes\":{\"callback\":null},\"id\":\"1005\",\"type\":\"DataRange1d\"},{\"attributes\":{\"x0\":{\"field\":\"x0\"},\"x1\":{\"field\":\"x1\"},\"y0\":{\"field\":\"y0\"},\"y1\":{\"field\":\"y1\"}},\"id\":\"1037\",\"type\":\"Segment\"},{\"attributes\":{\"bottom\":{\"field\":\"bottom\"},\"fill_alpha\":{\"value\":0.1},\"fill_color\":{\"value\":\"#1f77b4\"},\"line_alpha\":{\"value\":0.1},\"line_color\":{\"value\":\"#1f77b4\"},\"top\":{\"field\":\"top\"},\"width\":{\"value\":43200000},\"x\":{\"field\":\"x\"}},\"id\":\"1048\",\"type\":\"VBar\"},{\"attributes\":{\"active_drag\":\"auto\",\"active_inspect\":\"auto\",\"active_multi\":null,\"active_scroll\":\"auto\",\"active_tap\":\"auto\",\"tools\":[{\"id\":\"1023\",\"type\":\"PanTool\"},{\"id\":\"1024\",\"type\":\"WheelZoomTool\"},{\"id\":\"1025\",\"type\":\"BoxZoomTool\"},{\"id\":\"1026\",\"type\":\"SaveTool\"},{\"id\":\"1027\",\"type\":\"ResetTool\"},{\"id\":\"1028\",\"type\":\"HelpTool\"}]},\"id\":\"1029\",\"type\":\"Toolbar\"},{\"attributes\":{},\"id\":\"1071\",\"type\":\"UnionRenderers\"},{\"attributes\":{\"callback\":null},\"id\":\"1007\",\"type\":\"DataRange1d\"},{\"attributes\":{\"data_source\":{\"id\":\"1046\",\"type\":\"ColumnDataSource\"},\"glyph\":{\"id\":\"1047\",\"type\":\"VBar\"},\"hover_glyph\":null,\"muted_glyph\":null,\"nonselection_glyph\":{\"id\":\"1048\",\"type\":\"VBar\"},\"selection_glyph\":null,\"view\":{\"id\":\"1050\",\"type\":\"CDSView\"}},\"id\":\"1049\",\"type\":\"GlyphRenderer\"},{\"attributes\":{},\"id\":\"1072\",\"type\":\"Selection\"},{\"attributes\":{},\"id\":\"1009\",\"type\":\"LinearScale\"},{\"attributes\":{\"source\":{\"id\":\"1036\",\"type\":\"ColumnDataSource\"}},\"id\":\"1040\",\"type\":\"CDSView\"},{\"attributes\":{\"source\":{\"id\":\"1046\",\"type\":\"ColumnDataSource\"}},\"id\":\"1050\",\"type\":\"CDSView\"},{\"attributes\":{},\"id\":\"1073\",\"type\":\"UnionRenderers\"},{\"attributes\":{},\"id\":\"1011\",\"type\":\"LinearScale\"},{\"attributes\":{\"bottom\":{\"field\":\"bottom\"},\"fill_color\":{\"value\":\"#D5E1DD\"},\"top\":{\"field\":\"top\"},\"width\":{\"value\":43200000},\"x\":{\"field\":\"x\"}},\"id\":\"1042\",\"type\":\"VBar\"},{\"attributes\":{},\"id\":\"1074\",\"type\":\"Selection\"},{\"attributes\":{\"formatter\":{\"id\":\"1053\",\"type\":\"DatetimeTickFormatter\"},\"major_label_orientation\":0.7853981633974483,\"ticker\":{\"id\":\"1014\",\"type\":\"DatetimeTicker\"}},\"id\":\"1013\",\"type\":\"DatetimeAxis\"},{\"attributes\":{},\"id\":\"1055\",\"type\":\"BasicTickFormatter\"},{\"attributes\":{\"base\":60,\"mantissas\":[1,2,5,10,15,20,30],\"max_interval\":1800000.0,\"min_interval\":1000.0,\"num_minor_ticks\":0},\"id\":\"1057\",\"type\":\"AdaptiveTicker\"},{\"attributes\":{\"callback\":null,\"data\":{\"bottom\":{\"__ndarray__\":\"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\",\"dtype\":\"float64\",\"shape\":[2579]},\"top\":{\"__ndarray__\":\"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\",\"dtype\":\"float64\",\"shape\":[2579]},\"x\":{\"__ndarray__\":\"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\",\"dtype\":\"float64\",\"shape\":[2579]}},\"selected\":{\"id\":\"1072\",\"type\":\"Selection\"},\"selection_policy\":{\"id\":\"1071\",\"type\":\"UnionRenderers\"}},\"id\":\"1041\",\"type\":\"ColumnDataSource\"},{\"attributes\":{\"num_minor_ticks\":5,\"tickers\":[{\"id\":\"1056\",\"type\":\"AdaptiveTicker\"},{\"id\":\"1057\",\"type\":\"AdaptiveTicker\"},{\"id\":\"1058\",\"type\":\"AdaptiveTicker\"},{\"id\":\"1059\",\"type\":\"DaysTicker\"},{\"id\":\"1060\",\"type\":\"DaysTicker\"},{\"id\":\"1061\",\"type\":\"DaysTicker\"},{\"id\":\"1062\",\"type\":\"DaysTicker\"},{\"id\":\"1063\",\"type\":\"MonthsTicker\"},{\"id\":\"1064\",\"type\":\"MonthsTicker\"},{\"id\":\"1065\",\"type\":\"MonthsTicker\"},{\"id\":\"1066\",\"type\":\"MonthsTicker\"},{\"id\":\"1067\",\"type\":\"YearsTicker\"}]},\"id\":\"1014\",\"type\":\"DatetimeTicker\"},{\"attributes\":{\"base\":24,\"mantissas\":[1,2,4,6,8,12],\"max_interval\":43200000.0,\"min_interval\":3600000.0,\"num_minor_ticks\":0},\"id\":\"1058\",\"type\":\"AdaptiveTicker\"},{\"attributes\":{\"grid_line_alpha\":0.3,\"ticker\":{\"id\":\"1014\",\"type\":\"DatetimeTicker\"}},\"id\":\"1017\",\"type\":\"Grid\"},{\"attributes\":{\"days\":[1,2,3,4,5,6,7,8,9,10,11,12,13,14,15,16,17,18,19,20,21,22,23,24,25,26,27,28,29,30,31]},\"id\":\"1059\",\"type\":\"DaysTicker\"},{\"attributes\":{\"formatter\":{\"id\":\"1055\",\"type\":\"BasicTickFormatter\"},\"ticker\":{\"id\":\"1019\",\"type\":\"BasicTicker\"}},\"id\":\"1018\",\"type\":\"LinearAxis\"},{\"attributes\":{\"days\":[1,4,7,10,13,16,19,22,25,28]},\"id\":\"1060\",\"type\":\"DaysTicker\"},{\"attributes\":{},\"id\":\"1019\",\"type\":\"BasicTicker\"},{\"attributes\":{\"days\":[1,8,15,22]},\"id\":\"1061\",\"type\":\"DaysTicker\"},{\"attributes\":{\"bottom\":{\"field\":\"bottom\"},\"fill_alpha\":{\"value\":0.1},\"fill_color\":{\"value\":\"#1f77b4\"},\"line_alpha\":{\"value\":0.1},\"line_color\":{\"value\":\"#1f77b4\"},\"top\":{\"field\":\"top\"},\"width\":{\"value\":43200000},\"x\":{\"field\":\"x\"}},\"id\":\"1043\",\"type\":\"VBar\"},{\"attributes\":{\"dimension\":1,\"grid_line_alpha\":0.3,\"ticker\":{\"id\":\"1019\",\"type\":\"BasicTicker\"}},\"id\":\"1022\",\"type\":\"Grid\"},{\"attributes\":{\"line_alpha\":{\"value\":0.1},\"line_color\":{\"value\":\"#1f77b4\"},\"x0\":{\"field\":\"x0\"},\"x1\":{\"field\":\"x1\"},\"y0\":{\"field\":\"y0\"},\"y1\":{\"field\":\"y1\"}},\"id\":\"1038\",\"type\":\"Segment\"},{\"attributes\":{\"days\":[1,15]},\"id\":\"1062\",\"type\":\"DaysTicker\"},{\"attributes\":{\"data_source\":{\"id\":\"1041\",\"type\":\"ColumnDataSource\"},\"glyph\":{\"id\":\"1042\",\"type\":\"VBar\"},\"hover_glyph\":null,\"muted_glyph\":null,\"nonselection_glyph\":{\"id\":\"1043\",\"type\":\"VBar\"},\"selection_glyph\":null,\"view\":{\"id\":\"1045\",\"type\":\"CDSView\"}},\"id\":\"1044\",\"type\":\"GlyphRenderer\"}],\"root_ids\":[\"1002\"]},\"title\":\"Bokeh Application\",\"version\":\"1.3.4\"}};\n",
       "  var render_items = [{\"docid\":\"c6f7dd69-47d7-47f4-9fb5-a532efb85844\",\"roots\":{\"1002\":\"cc05b183-6b89-495a-8242-6433b199f14f\"}}];\n",
       "  root.Bokeh.embed.embed_items_notebook(docs_json, render_items);\n",
       "\n",
       "  }\n",
       "  if (root.Bokeh !== undefined) {\n",
       "    embed_document(root);\n",
       "  } else {\n",
       "    var attempts = 0;\n",
       "    var timer = setInterval(function(root) {\n",
       "      if (root.Bokeh !== undefined) {\n",
       "        embed_document(root);\n",
       "        clearInterval(timer);\n",
       "      }\n",
       "      attempts++;\n",
       "      if (attempts > 100) {\n",
       "        console.log(\"Bokeh: ERROR: Unable to run BokehJS code because BokehJS library is missing\");\n",
       "        clearInterval(timer);\n",
       "      }\n",
       "    }, 10, root)\n",
       "  }\n",
       "})(window);"
      ],
      "application/vnd.bokehjs_exec.v0+json": ""
     },
     "metadata": {
      "application/vnd.bokehjs_exec.v0+json": {
       "id": "1002"
      }
     },
     "output_type": "display_data"
    },
    {
     "data": {
      "text/html": [
       "<h2>Distribución de diferenciales de precio para distintas ventanas de tiempo</h2>"
      ],
      "text/plain": [
       "<IPython.core.display.HTML object>"
      ]
     },
     "metadata": {},
     "output_type": "display_data"
    },
    {
     "data": {
      "text/html": [
       "\n",
       "\n",
       "\n",
       "\n",
       "\n",
       "\n",
       "  <div class=\"bk-root\" id=\"97ef4d6d-aac2-4d82-ae0b-178ec1cbbd82\" data-root-id=\"1336\"></div>\n"
      ]
     },
     "metadata": {},
     "output_type": "display_data"
    },
    {
     "data": {
      "application/javascript": [
       "(function(root) {\n",
       "  function embed_document(root) {\n",
       "    \n",
       "  var docs_json = {\"df8c0626-4c60-4131-b26b-f364584598b6\":{\"roots\":{\"references\":[{\"attributes\":{\"children\":[{\"id\":\"1219\",\"subtype\":\"Figure\",\"type\":\"Plot\"},{\"id\":\"1258\",\"subtype\":\"Figure\",\"type\":\"Plot\"},{\"id\":\"1297\",\"subtype\":\"Figure\",\"type\":\"Plot\"}]},\"id\":\"1336\",\"type\":\"Row\"},{\"attributes\":{\"overlay\":{\"id\":\"1382\",\"type\":\"BoxAnnotation\"}},\"id\":\"1320\",\"type\":\"BoxZoomTool\"},{\"attributes\":{},\"id\":\"1321\",\"type\":\"SaveTool\"},{\"attributes\":{},\"id\":\"1322\",\"type\":\"ResetTool\"},{\"attributes\":{},\"id\":\"1323\",\"type\":\"HelpTool\"},{\"attributes\":{\"bottom\":{\"value\":0},\"fill_alpha\":{\"value\":0.1},\"fill_color\":{\"value\":\"#1f77b4\"},\"left\":{\"field\":\"left\"},\"line_alpha\":{\"value\":0.1},\"line_color\":{\"value\":\"#1f77b4\"},\"right\":{\"field\":\"right\"},\"top\":{\"field\":\"top\"}},\"id\":\"1255\",\"type\":\"Quad\"},{\"attributes\":{\"text\":\"Price diffs histogram (5d window).\"},\"id\":\"1220\",\"type\":\"Title\"},{\"attributes\":{\"active_drag\":\"auto\",\"active_inspect\":\"auto\",\"active_multi\":null,\"active_scroll\":\"auto\",\"active_tap\":\"auto\",\"tools\":[{\"id\":\"1318\",\"type\":\"PanTool\"},{\"id\":\"1319\",\"type\":\"WheelZoomTool\"},{\"id\":\"1320\",\"type\":\"BoxZoomTool\"},{\"id\":\"1321\",\"type\":\"SaveTool\"},{\"id\":\"1322\",\"type\":\"ResetTool\"},{\"id\":\"1323\",\"type\":\"HelpTool\"}]},\"id\":\"1324\",\"type\":\"Toolbar\"},{\"attributes\":{\"data_source\":{\"id\":\"1331\",\"type\":\"ColumnDataSource\"},\"glyph\":{\"id\":\"1332\",\"type\":\"Quad\"},\"hover_glyph\":null,\"muted_glyph\":null,\"nonselection_glyph\":{\"id\":\"1333\",\"type\":\"Quad\"},\"selection_glyph\":null,\"view\":{\"id\":\"1335\",\"type\":\"CDSView\"}},\"id\":\"1334\",\"type\":\"GlyphRenderer\"},{\"attributes\":{},\"id\":\"1236\",\"type\":\"BasicTicker\"},{\"attributes\":{\"source\":{\"id\":\"1331\",\"type\":\"ColumnDataSource\"}},\"id\":\"1335\",\"type\":\"CDSView\"},{\"attributes\":{\"callback\":null},\"id\":\"1224\",\"type\":\"DataRange1d\"},{\"attributes\":{\"callback\":null},\"id\":\"1222\",\"type\":\"DataRange1d\"},{\"attributes\":{},\"id\":\"1365\",\"type\":\"BasicTickFormatter\"},{\"attributes\":{},\"id\":\"1367\",\"type\":\"BasicTickFormatter\"},{\"attributes\":{},\"id\":\"1369\",\"type\":\"BasicTickFormatter\"},{\"attributes\":{},\"id\":\"1226\",\"type\":\"LinearScale\"},{\"attributes\":{\"formatter\":{\"id\":\"1365\",\"type\":\"BasicTickFormatter\"},\"ticker\":{\"id\":\"1231\",\"type\":\"BasicTicker\"}},\"id\":\"1230\",\"type\":\"LinearAxis\"},{\"attributes\":{},\"id\":\"1371\",\"type\":\"BasicTickFormatter\"},{\"attributes\":{},\"id\":\"1228\",\"type\":\"LinearScale\"},{\"attributes\":{},\"id\":\"1373\",\"type\":\"BasicTickFormatter\"},{\"attributes\":{\"formatter\":{\"id\":\"1367\",\"type\":\"BasicTickFormatter\"},\"ticker\":{\"id\":\"1236\",\"type\":\"BasicTicker\"}},\"id\":\"1235\",\"type\":\"LinearAxis\"},{\"attributes\":{},\"id\":\"1231\",\"type\":\"BasicTicker\"},{\"attributes\":{},\"id\":\"1375\",\"type\":\"BasicTickFormatter\"},{\"attributes\":{\"bottom_units\":\"screen\",\"fill_alpha\":{\"value\":0.5},\"fill_color\":{\"value\":\"lightgrey\"},\"left_units\":\"screen\",\"level\":\"overlay\",\"line_alpha\":{\"value\":1.0},\"line_color\":{\"value\":\"black\"},\"line_dash\":[4,4],\"line_width\":{\"value\":2},\"render_mode\":\"css\",\"right_units\":\"screen\",\"top_units\":\"screen\"},\"id\":\"1376\",\"type\":\"BoxAnnotation\"},{\"attributes\":{},\"id\":\"1377\",\"type\":\"UnionRenderers\"},{\"attributes\":{\"ticker\":{\"id\":\"1231\",\"type\":\"BasicTicker\"}},\"id\":\"1234\",\"type\":\"Grid\"},{\"attributes\":{},\"id\":\"1378\",\"type\":\"Selection\"},{\"attributes\":{\"bottom\":{\"value\":0},\"fill_alpha\":{\"value\":0.5},\"fill_color\":{\"value\":\"navy\"},\"left\":{\"field\":\"left\"},\"line_alpha\":{\"value\":0.5},\"line_color\":{\"value\":\"white\"},\"right\":{\"field\":\"right\"},\"top\":{\"field\":\"top\"}},\"id\":\"1254\",\"type\":\"Quad\"},{\"attributes\":{\"bottom_units\":\"screen\",\"fill_alpha\":{\"value\":0.5},\"fill_color\":{\"value\":\"lightgrey\"},\"left_units\":\"screen\",\"level\":\"overlay\",\"line_alpha\":{\"value\":1.0},\"line_color\":{\"value\":\"black\"},\"line_dash\":[4,4],\"line_width\":{\"value\":2},\"render_mode\":\"css\",\"right_units\":\"screen\",\"top_units\":\"screen\"},\"id\":\"1379\",\"type\":\"BoxAnnotation\"},{\"attributes\":{\"overlay\":{\"id\":\"1376\",\"type\":\"BoxAnnotation\"}},\"id\":\"1242\",\"type\":\"BoxZoomTool\"},{\"attributes\":{},\"id\":\"1241\",\"type\":\"WheelZoomTool\"},{\"attributes\":{},\"id\":\"1380\",\"type\":\"UnionRenderers\"},{\"attributes\":{},\"id\":\"1240\",\"type\":\"PanTool\"},{\"attributes\":{},\"id\":\"1381\",\"type\":\"Selection\"},{\"attributes\":{\"data_source\":{\"id\":\"1253\",\"type\":\"ColumnDataSource\"},\"glyph\":{\"id\":\"1254\",\"type\":\"Quad\"},\"hover_glyph\":null,\"muted_glyph\":null,\"nonselection_glyph\":{\"id\":\"1255\",\"type\":\"Quad\"},\"selection_glyph\":null,\"view\":{\"id\":\"1257\",\"type\":\"CDSView\"}},\"id\":\"1256\",\"type\":\"GlyphRenderer\"},{\"attributes\":{\"callback\":null,\"data\":{\"left\":{\"__ndarray__\":\"AAAAAGyTTMDsUbh+JatLwNejcP3ewkrAw/UofJjaScCuR+H6UfJIwJqZmXkLCkjAhetR+MQhR8BxPQp3fjlGwFyPwvU3UUXASOF6dPFoRMA0MzPzqoBDwB+F63FkmELACtej8B2wQcD2KFxv18dAwMP1KNwhvz/AmpmZ2ZTuPcBxPQrXBx48wEjhetR6TTrAIIXr0e18OMD2KFzPYKw2wM7MzMzT2zTApHA9ykYLM8B8FK7HuToxwKRwPYpZ1C7AVLgehT8zK8AAAACAJZInwLBH4XoL8SPAXI/CdfFPIMAYrkfhrl0ZwHA9Ctd6GxLAoJmZmY2yBcBA4XoUlrjsv8CjcD0KWe0/MArXo6raBUDA9ShciS8SQGBmZma9cRlAgOtRuPhZIEDYo3C9EvsjQChcj8IsnCdAeBSux0Y9K0DIzMzMYN4uQJDC9Wi9PzFAuB6Fa0oQM0DgehRu1+A0QAjXo3BksTZANDMzc/GBOEBcj8J1flI6QITrUXgLIzxArEfhepjzPUDUo3B9JcQ/QA==\",\"dtype\":\"float64\",\"shape\":[50]},\"right\":{\"__ndarray__\":\"7FG4fiWrS8DXo3D93sJKwMP1KHyY2knArkfh+lHySMCamZl5CwpIwIXrUfjEIUfAcT0Kd345RsBcj8L1N1FFwEjhenTxaETANDMz86qAQ8AfhetxZJhCwArXo/AdsEHA9ihcb9fHQMDD9SjcIb8/wJqZmdmU7j3AcT0K1wcePMBI4XrUek06wCCF69HtfDjA9ihcz2CsNsDOzMzM09s0wKRwPcpGCzPAfBSux7k6McCkcD2KWdQuwFS4HoU/MyvAAAAAgCWSJ8CwR+F6C/EjwFyPwnXxTyDAGK5H4a5dGcBwPQrXehsSwKCZmZmNsgXAQOF6FJa47L/Ao3A9ClntPzAK16Oq2gVAwPUoXIkvEkBgZmZmvXEZQIDrUbj4WSBA2KNwvRL7I0AoXI/CLJwnQHgUrsdGPStAyMzMzGDeLkCQwvVovT8xQLgehWtKEDNA4HoUbtfgNEAI16NwZLE2QDQzM3PxgThAXI/CdX5SOkCE61F4CyM8QKxH4XqY8z1A1KNwfSXEP0AAAABAWcpAQA==\",\"dtype\":\"float64\",\"shape\":[50]},\"top\":{\"__ndarray__\":\"MgadBLedGz8AAAAAAAAAADIGnQS3nRs/EwadBLedGz8AAAAAAAAAAAAAAAAAAAAAMgadBLedKz8TBp0Et50rPzIGnQS3nSs/AAAAAAAAAAAAAAAAAAAAAAAAAAAAAAAAAAAAAAAAAAAjBp0Et50bP5rEdUNJtjQ/AAAAAAAAAACaxHVDSbY0PzIGnQS3nSs/UWUJJAAqSD+lxHVDSbY0P8wj4mKSQkE/bGUJJAAqSD/VpjDlbRFPPwiVv7MkcFY/LfQr0238Uj9C9CvTbfxiP5w7vaqkZXA/bGUJJAAqaD9e3FCLW9lzP8avz4Yb1IA/QYGg5MWwrj9VKtHX1xnWPx1GEIm7VrI/7leBugT4ij+6dcYY4JyAPyEJ0o+b3nY/5I5VnVvubz/HvgstgDRuP9esmvs2k2U/+KYw5W0RTz+KO72qpGVgP6XEdUNJtlQ/pcR1Q0m2RD9sZQkkACpIP7kj4mKSQkE/MgadBLedGz+lxHVDSbY0P6XEdUNJtjQ/MgadBLedGz/1BZ0Et50bPw==\",\"dtype\":\"float64\",\"shape\":[50]}},\"selected\":{\"id\":\"1378\",\"type\":\"Selection\"},\"selection_policy\":{\"id\":\"1377\",\"type\":\"UnionRenderers\"}},\"id\":\"1253\",\"type\":\"ColumnDataSource\"},{\"attributes\":{\"bottom_units\":\"screen\",\"fill_alpha\":{\"value\":0.5},\"fill_color\":{\"value\":\"lightgrey\"},\"left_units\":\"screen\",\"level\":\"overlay\",\"line_alpha\":{\"value\":1.0},\"line_color\":{\"value\":\"black\"},\"line_dash\":[4,4],\"line_width\":{\"value\":2},\"render_mode\":\"css\",\"right_units\":\"screen\",\"top_units\":\"screen\"},\"id\":\"1382\",\"type\":\"BoxAnnotation\"},{\"attributes\":{},\"id\":\"1383\",\"type\":\"UnionRenderers\"},{\"attributes\":{\"active_drag\":\"auto\",\"active_inspect\":\"auto\",\"active_multi\":null,\"active_scroll\":\"auto\",\"active_tap\":\"auto\",\"tools\":[{\"id\":\"1240\",\"type\":\"PanTool\"},{\"id\":\"1241\",\"type\":\"WheelZoomTool\"},{\"id\":\"1242\",\"type\":\"BoxZoomTool\"},{\"id\":\"1243\",\"type\":\"SaveTool\"},{\"id\":\"1244\",\"type\":\"ResetTool\"},{\"id\":\"1245\",\"type\":\"HelpTool\"}]},\"id\":\"1246\",\"type\":\"Toolbar\"},{\"attributes\":{},\"id\":\"1384\",\"type\":\"Selection\"},{\"attributes\":{},\"id\":\"1245\",\"type\":\"HelpTool\"},{\"attributes\":{},\"id\":\"1244\",\"type\":\"ResetTool\"},{\"attributes\":{},\"id\":\"1243\",\"type\":\"SaveTool\"},{\"attributes\":{\"callback\":null},\"id\":\"1261\",\"type\":\"DataRange1d\"},{\"attributes\":{\"callback\":null},\"id\":\"1263\",\"type\":\"DataRange1d\"},{\"attributes\":{\"source\":{\"id\":\"1253\",\"type\":\"ColumnDataSource\"}},\"id\":\"1257\",\"type\":\"CDSView\"},{\"attributes\":{\"callback\":null,\"data\":{\"left\":{\"__ndarray__\":\"AAAAwMMyUcBcj8LV5qhQwLgehesJH1DAKVyPAloqT8DhehQuoBZOwJqZmVnmAk3AUrgehSzvS8AK16OwcttKwML1KNy4x0nAexSuB/+zSMAzMzMzRaBHwOxRuF6LjEbApHA9itF4RcBcj8K1F2VEwBSuR+FdUUPAzczMDKQ9QsCF61E46ilBwD0K12MwFkDA7FG4Hu0EPsBcj8J1ed07wMzMzMwFtjnAPgrXI5KON8CuR+F6Hmc1wB6F69GqPzPAkML1KDcYMcAAAAAAh+EtwOB6FK6fkinAwPUoXLhDJcCkcD0K0fQgwAjXo3DTSxnA0MzMzASuEMAghetRbCAAwAD2KFwPs8E/4KNwPc5WAkAwXI/CNckRQHBmZmYEZxpAULgehWmCIUBwPQrXUNElQJDC9Sg4ICpAsEfheh9vLkBoZmZmA18xQPgoXA93hjNAhOtRuOqtNUAUrkdhXtU3QKRwPQrS/DlANDMzs0UkPEDE9ShcuUs+QCpcj4KWOUBAcD0KV1BNQUC4HoUrCmFCQA==\",\"dtype\":\"float64\",\"shape\":[50]},\"right\":{\"__ndarray__\":\"XI/C1eaoUMC4HoXrCR9QwClcjwJaKk/A4XoULqAWTsCamZlZ5gJNwFK4HoUs70vACtejsHLbSsDC9SjcuMdJwHsUrgf/s0jAMzMzM0WgR8DsUbhei4xGwKRwPYrReEXAXI/CtRdlRMAUrkfhXVFDwM3MzAykPULAhetROOopQcA9CtdjMBZAwOxRuB7tBD7AXI/CdXndO8DMzMzMBbY5wD4K1yOSjjfArkfheh5nNcAehevRqj8zwJDC9Sg3GDHAAAAAAIfhLcDgehSun5IpwMD1KFy4QyXApHA9CtH0IMAI16Nw00sZwNDMzMwErhDAIIXrUWwgAMAA9ihcD7PBP+CjcD3OVgJAMFyPwjXJEUBwZmZmBGcaQFC4HoVpgiFAcD0K11DRJUCQwvUoOCAqQLBH4Xofby5AaGZmZgNfMUD4KFwPd4YzQITrUbjqrTVAFK5HYV7VN0CkcD0K0vw5QDQzM7NFJDxAxPUoXLlLPkAqXI+CljlAQHA9CldQTUFAuB6FKwphQkAAAAAAxHRDQA==\",\"dtype\":\"float64\",\"shape\":[50]},\"top\":{\"__ndarray__\":\"zfOQ0KBDJz8AAAAAAAAAAAAAAAAAAAAAzfOQ0KBDJz8AAAAAAAAAAAAAAAAAAAAAzfOQ0KBDFz/N85DQoEMXP+PzkNCgQyc/zfOQ0KBDFz/j85DQoEMXP83zkNCgQyc/zfOQ0KBDFz/BMLUEiRQ9P+PzkNCgQxc/2rZsnLhyMT8AAAAAAAAAAOPzkNCgQyc/2rZsnLhyMT9HEqPqFCxKP+q2bJy4ckE/VNV+tixbVD/N85DQoENXPyEDmt3at1g/wTC1BIkUTT/atmycuHJRP83zkNCgQ1c/peSHw2bPZT/mCbgsAURzP0RsDMqDiXY/I/3caseglj8QTIBu4XrHP/iCTIv/OsY/2mLAL10slz8LcyoZqhWBPxeaJ/Ex5no/5gm4LAFEcz/atmycuHJxP1+4OQumzm0/bHsV1739Zz/atmycuHJhP3gSo+oULFo/F8Z1qfLmUj9HEqPqFCxKP8EwtQSJFE0/2rZsnLhyMT/N85DQoEMnP/nzkNCgQyc/2rZsnLhyQT/N85DQoEMXPw==\",\"dtype\":\"float64\",\"shape\":[50]}},\"selected\":{\"id\":\"1381\",\"type\":\"Selection\"},\"selection_policy\":{\"id\":\"1380\",\"type\":\"UnionRenderers\"}},\"id\":\"1292\",\"type\":\"ColumnDataSource\"},{\"attributes\":{\"text\":\"Price diffs histogram (10d window).\"},\"id\":\"1259\",\"type\":\"Title\"},{\"attributes\":{},\"id\":\"1265\",\"type\":\"LinearScale\"},{\"attributes\":{\"below\":[{\"id\":\"1308\",\"type\":\"LinearAxis\"}],\"center\":[{\"id\":\"1312\",\"type\":\"Grid\"},{\"id\":\"1317\",\"type\":\"Grid\"}],\"left\":[{\"id\":\"1313\",\"type\":\"LinearAxis\"}],\"plot_height\":350,\"plot_width\":350,\"renderers\":[{\"id\":\"1334\",\"type\":\"GlyphRenderer\"}],\"title\":{\"id\":\"1298\",\"type\":\"Title\"},\"toolbar\":{\"id\":\"1324\",\"type\":\"Toolbar\"},\"x_range\":{\"id\":\"1300\",\"type\":\"DataRange1d\"},\"x_scale\":{\"id\":\"1304\",\"type\":\"LinearScale\"},\"y_range\":{\"id\":\"1302\",\"type\":\"DataRange1d\"},\"y_scale\":{\"id\":\"1306\",\"type\":\"LinearScale\"}},\"id\":\"1297\",\"subtype\":\"Figure\",\"type\":\"Plot\"},{\"attributes\":{},\"id\":\"1267\",\"type\":\"LinearScale\"},{\"attributes\":{\"formatter\":{\"id\":\"1369\",\"type\":\"BasicTickFormatter\"},\"ticker\":{\"id\":\"1270\",\"type\":\"BasicTicker\"}},\"id\":\"1269\",\"type\":\"LinearAxis\"},{\"attributes\":{},\"id\":\"1270\",\"type\":\"BasicTicker\"},{\"attributes\":{\"ticker\":{\"id\":\"1270\",\"type\":\"BasicTicker\"}},\"id\":\"1273\",\"type\":\"Grid\"},{\"attributes\":{\"formatter\":{\"id\":\"1371\",\"type\":\"BasicTickFormatter\"},\"ticker\":{\"id\":\"1275\",\"type\":\"BasicTicker\"}},\"id\":\"1274\",\"type\":\"LinearAxis\"},{\"attributes\":{},\"id\":\"1275\",\"type\":\"BasicTicker\"},{\"attributes\":{\"dimension\":1,\"ticker\":{\"id\":\"1275\",\"type\":\"BasicTicker\"}},\"id\":\"1278\",\"type\":\"Grid\"},{\"attributes\":{\"bottom\":{\"value\":0},\"fill_alpha\":{\"value\":0.1},\"fill_color\":{\"value\":\"#1f77b4\"},\"left\":{\"field\":\"left\"},\"line_alpha\":{\"value\":0.1},\"line_color\":{\"value\":\"#1f77b4\"},\"right\":{\"field\":\"right\"},\"top\":{\"field\":\"top\"}},\"id\":\"1294\",\"type\":\"Quad\"},{\"attributes\":{\"bottom\":{\"value\":0},\"fill_alpha\":{\"value\":0.5},\"fill_color\":{\"value\":\"navy\"},\"left\":{\"field\":\"left\"},\"line_alpha\":{\"value\":0.5},\"line_color\":{\"value\":\"white\"},\"right\":{\"field\":\"right\"},\"top\":{\"field\":\"top\"}},\"id\":\"1293\",\"type\":\"Quad\"},{\"attributes\":{\"data_source\":{\"id\":\"1292\",\"type\":\"ColumnDataSource\"},\"glyph\":{\"id\":\"1293\",\"type\":\"Quad\"},\"hover_glyph\":null,\"muted_glyph\":null,\"nonselection_glyph\":{\"id\":\"1294\",\"type\":\"Quad\"},\"selection_glyph\":null,\"view\":{\"id\":\"1296\",\"type\":\"CDSView\"}},\"id\":\"1295\",\"type\":\"GlyphRenderer\"},{\"attributes\":{},\"id\":\"1279\",\"type\":\"PanTool\"},{\"attributes\":{},\"id\":\"1280\",\"type\":\"WheelZoomTool\"},{\"attributes\":{\"dimension\":1,\"ticker\":{\"id\":\"1236\",\"type\":\"BasicTicker\"}},\"id\":\"1239\",\"type\":\"Grid\"},{\"attributes\":{\"overlay\":{\"id\":\"1379\",\"type\":\"BoxAnnotation\"}},\"id\":\"1281\",\"type\":\"BoxZoomTool\"},{\"attributes\":{},\"id\":\"1282\",\"type\":\"SaveTool\"},{\"attributes\":{},\"id\":\"1283\",\"type\":\"ResetTool\"},{\"attributes\":{},\"id\":\"1284\",\"type\":\"HelpTool\"},{\"attributes\":{\"below\":[{\"id\":\"1269\",\"type\":\"LinearAxis\"}],\"center\":[{\"id\":\"1273\",\"type\":\"Grid\"},{\"id\":\"1278\",\"type\":\"Grid\"}],\"left\":[{\"id\":\"1274\",\"type\":\"LinearAxis\"}],\"plot_height\":350,\"plot_width\":350,\"renderers\":[{\"id\":\"1295\",\"type\":\"GlyphRenderer\"}],\"title\":{\"id\":\"1259\",\"type\":\"Title\"},\"toolbar\":{\"id\":\"1285\",\"type\":\"Toolbar\"},\"x_range\":{\"id\":\"1261\",\"type\":\"DataRange1d\"},\"x_scale\":{\"id\":\"1265\",\"type\":\"LinearScale\"},\"y_range\":{\"id\":\"1263\",\"type\":\"DataRange1d\"},\"y_scale\":{\"id\":\"1267\",\"type\":\"LinearScale\"}},\"id\":\"1258\",\"subtype\":\"Figure\",\"type\":\"Plot\"},{\"attributes\":{\"active_drag\":\"auto\",\"active_inspect\":\"auto\",\"active_multi\":null,\"active_scroll\":\"auto\",\"active_tap\":\"auto\",\"tools\":[{\"id\":\"1279\",\"type\":\"PanTool\"},{\"id\":\"1280\",\"type\":\"WheelZoomTool\"},{\"id\":\"1281\",\"type\":\"BoxZoomTool\"},{\"id\":\"1282\",\"type\":\"SaveTool\"},{\"id\":\"1283\",\"type\":\"ResetTool\"},{\"id\":\"1284\",\"type\":\"HelpTool\"}]},\"id\":\"1285\",\"type\":\"Toolbar\"},{\"attributes\":{\"source\":{\"id\":\"1292\",\"type\":\"ColumnDataSource\"}},\"id\":\"1296\",\"type\":\"CDSView\"},{\"attributes\":{\"bottom\":{\"value\":0},\"fill_alpha\":{\"value\":0.1},\"fill_color\":{\"value\":\"#1f77b4\"},\"left\":{\"field\":\"left\"},\"line_alpha\":{\"value\":0.1},\"line_color\":{\"value\":\"#1f77b4\"},\"right\":{\"field\":\"right\"},\"top\":{\"field\":\"top\"}},\"id\":\"1333\",\"type\":\"Quad\"},{\"attributes\":{\"text\":\"Price diffs histogram (30d window).\"},\"id\":\"1298\",\"type\":\"Title\"},{\"attributes\":{\"callback\":null},\"id\":\"1300\",\"type\":\"DataRange1d\"},{\"attributes\":{\"below\":[{\"id\":\"1230\",\"type\":\"LinearAxis\"}],\"center\":[{\"id\":\"1234\",\"type\":\"Grid\"},{\"id\":\"1239\",\"type\":\"Grid\"}],\"left\":[{\"id\":\"1235\",\"type\":\"LinearAxis\"}],\"plot_height\":350,\"plot_width\":350,\"renderers\":[{\"id\":\"1256\",\"type\":\"GlyphRenderer\"}],\"title\":{\"id\":\"1220\",\"type\":\"Title\"},\"toolbar\":{\"id\":\"1246\",\"type\":\"Toolbar\"},\"x_range\":{\"id\":\"1222\",\"type\":\"DataRange1d\"},\"x_scale\":{\"id\":\"1226\",\"type\":\"LinearScale\"},\"y_range\":{\"id\":\"1224\",\"type\":\"DataRange1d\"},\"y_scale\":{\"id\":\"1228\",\"type\":\"LinearScale\"}},\"id\":\"1219\",\"subtype\":\"Figure\",\"type\":\"Plot\"},{\"attributes\":{\"callback\":null},\"id\":\"1302\",\"type\":\"DataRange1d\"},{\"attributes\":{},\"id\":\"1304\",\"type\":\"LinearScale\"},{\"attributes\":{},\"id\":\"1306\",\"type\":\"LinearScale\"},{\"attributes\":{\"formatter\":{\"id\":\"1373\",\"type\":\"BasicTickFormatter\"},\"ticker\":{\"id\":\"1309\",\"type\":\"BasicTicker\"}},\"id\":\"1308\",\"type\":\"LinearAxis\"},{\"attributes\":{},\"id\":\"1309\",\"type\":\"BasicTicker\"},{\"attributes\":{\"ticker\":{\"id\":\"1309\",\"type\":\"BasicTicker\"}},\"id\":\"1312\",\"type\":\"Grid\"},{\"attributes\":{\"formatter\":{\"id\":\"1375\",\"type\":\"BasicTickFormatter\"},\"ticker\":{\"id\":\"1314\",\"type\":\"BasicTicker\"}},\"id\":\"1313\",\"type\":\"LinearAxis\"},{\"attributes\":{},\"id\":\"1314\",\"type\":\"BasicTicker\"},{\"attributes\":{\"dimension\":1,\"ticker\":{\"id\":\"1314\",\"type\":\"BasicTicker\"}},\"id\":\"1317\",\"type\":\"Grid\"},{\"attributes\":{\"bottom\":{\"value\":0},\"fill_alpha\":{\"value\":0.5},\"fill_color\":{\"value\":\"navy\"},\"left\":{\"field\":\"left\"},\"line_alpha\":{\"value\":0.5},\"line_color\":{\"value\":\"white\"},\"right\":{\"field\":\"right\"},\"top\":{\"field\":\"top\"}},\"id\":\"1332\",\"type\":\"Quad\"},{\"attributes\":{\"callback\":null,\"data\":{\"left\":{\"__ndarray__\":\"AAAAQE8kXsBSuB5FyTxdwKRwPUpDVVzA9ihcT71tW8BI4XpUN4ZawJqZmVmxnlnA7FG4Xiu3WMA9Ctdjpc9XwI/C9Wgf6FbA4XoUbpkAVsAzMzNzExlVwIXrUXiNMVTA16NwfQdKU8ApXI+CgWJSwHoUrof7elHAzMzMjHWTUMA9Ctcj31dPwOF6FC7TiE3AhOtROMe5S8AoXI9Cu+pJwMzMzEyvG0jAcD0KV6NMRsAUrkdhl31EwLgehWuLrkLAXI/CdX/fQMAAAAAA5yA+wEjhehTPgjrAjML1KLfkNsDUo3A9n0YzwDgK16MOUS/AyMzMzN4UKMBYj8L1rtggwNCjcD3+OBPAwKNwPXoC87/go3A9gm8DQNDMzMwgMBhA4KNwPUBUI0BQ4XoUcJAqQGCPwvVP5jBAGK5H4WeENEDQzMzMfyI4QIjrUbiXwDtAQArXo69eP0B8FK7HY35BQNijcL1vTUNANDMzs3scRUCQwvWoh+tGQOxRuJ6TukhASOF6lJ+JSkCkcD2Kq1hMQA==\",\"dtype\":\"float64\",\"shape\":[50]},\"right\":{\"__ndarray__\":\"UrgeRck8XcCkcD1KQ1VcwPYoXE+9bVvASOF6VDeGWsCamZlZsZ5ZwOxRuF4rt1jAPQrXY6XPV8CPwvVoH+hWwOF6FG6ZAFbAMzMzcxMZVcCF61F4jTFUwNejcH0HSlPAKVyPgoFiUsB6FK6H+3pRwMzMzIx1k1DAPQrXI99XT8DhehQu04hNwITrUTjHuUvAKFyPQrvqScDMzMxMrxtIwHA9ClejTEbAFK5HYZd9RMC4HoVri65CwFyPwnV/30DAAAAAAOcgPsBI4XoUz4I6wIzC9Si35DbA1KNwPZ9GM8A4CtejDlEvwMjMzMzeFCjAWI/C9a7YIMDQo3A9/jgTwMCjcD16AvO/4KNwPYJvA0DQzMzMIDAYQOCjcD1AVCNAUOF6FHCQKkBgj8L1T+YwQBiuR+FnhDRA0MzMzH8iOECI61G4l8A7QEAK16OvXj9AfBSux2N+QUDYo3C9b01DQDQzM7N7HEVAkML1qIfrRkDsUbiek7pIQEjhepSfiUpApHA9iqtYTEAAAACAtydOQA==\",\"dtype\":\"float64\",\"shape\":[50]},\"top\":{\"__ndarray__\":\"Tc6V5K20Cz9NzpXkrbQLPwAAAAAAAAAAAAAAAAAAAABNzpXkrbQLP03OleSttBs/AAAAAAAAAABNzpXkrbQLP03OleSttBs/Tc6V5K20Kz9NzpXkrbQbP03OleSttBs/ulpwa4LHND8uzpXkrbQbP7pacGuCxyQ/+qDdruxQMT+6WnBrgsckPz7OleSttCs/Tc6V5K20Kz+DFAMoGD44P4MUAygYPjg/8KDdruxQMT9NzpXkrbQrP7pacGuCxzQ/ulpwa4LHND+DFAMoGD44P92g3a7sUDE/n7e5Sc2CRj8WiCihQys/PywJldonpVU/E3cDLdtFaz9xKfDooEODP15zsCxziaU/19aZVSv5wj+9v22gWUOiP3LfL6XO/YA/KfhvZr+/cT9ncUwGY/lpP/OxAiNVNmU/m6aU1WSdYj+DFAMoGD5oP7dJS/cZ4mA/Z3FMBmP5WT/woN2u7FBRP5+3uUnNgkY/n7e5Sc2CRj+DFAMoGD44P03OleSttAs/ulpwa4LHND9NzpXkrbQLPw==\",\"dtype\":\"float64\",\"shape\":[50]}},\"selected\":{\"id\":\"1384\",\"type\":\"Selection\"},\"selection_policy\":{\"id\":\"1383\",\"type\":\"UnionRenderers\"}},\"id\":\"1331\",\"type\":\"ColumnDataSource\"},{\"attributes\":{},\"id\":\"1318\",\"type\":\"PanTool\"},{\"attributes\":{},\"id\":\"1319\",\"type\":\"WheelZoomTool\"}],\"root_ids\":[\"1336\"]},\"title\":\"Bokeh Application\",\"version\":\"1.3.4\"}};\n",
       "  var render_items = [{\"docid\":\"df8c0626-4c60-4131-b26b-f364584598b6\",\"roots\":{\"1336\":\"97ef4d6d-aac2-4d82-ae0b-178ec1cbbd82\"}}];\n",
       "  root.Bokeh.embed.embed_items_notebook(docs_json, render_items);\n",
       "\n",
       "  }\n",
       "  if (root.Bokeh !== undefined) {\n",
       "    embed_document(root);\n",
       "  } else {\n",
       "    var attempts = 0;\n",
       "    var timer = setInterval(function(root) {\n",
       "      if (root.Bokeh !== undefined) {\n",
       "        embed_document(root);\n",
       "        clearInterval(timer);\n",
       "      }\n",
       "      attempts++;\n",
       "      if (attempts > 100) {\n",
       "        console.log(\"Bokeh: ERROR: Unable to run BokehJS code because BokehJS library is missing\");\n",
       "        clearInterval(timer);\n",
       "      }\n",
       "    }, 10, root)\n",
       "  }\n",
       "})(window);"
      ],
      "application/vnd.bokehjs_exec.v0+json": ""
     },
     "metadata": {
      "application/vnd.bokehjs_exec.v0+json": {
       "id": "1336"
      }
     },
     "output_type": "display_data"
    }
   ],
   "source": [
    "show_stock_analysis(df_NVDA)"
   ]
  },
  {
   "cell_type": "markdown",
   "metadata": {},
   "source": [
    "-------------------------\n",
    "\n",
    "\n",
    "# Definición del escenario de inversión:\n",
    "\n",
    "- Se dispone de capital inicial para comprar una única acción y siempre se opera \"all-in\"\n",
    "- Sólo se puede operar con un único activo\n",
    "- 6 meses de horizonte (01/04 al 30/09)\n",
    "- Se trabajará con el precio de cierre como referencia\n",
    "- No existen costos o fees por operación"
   ]
  },
  {
   "cell_type": "markdown",
   "metadata": {},
   "source": [
    "### Filtro para backtesting"
   ]
  },
  {
   "cell_type": "code",
   "execution_count": 4,
   "metadata": {
    "ExecuteTime": {
     "end_time": "2019-11-01T15:24:03.443982Z",
     "start_time": "2019-11-01T15:24:03.439758Z"
    }
   },
   "outputs": [],
   "source": [
    "backtesting_min = pd.datetime(2019, 4, 1)\n",
    "backtesting_max = pd.datetime(2019, 9, 30)\n",
    "test_filter = (df_NVDA.index >= backtesting_min) & (df_NVDA.index <= backtesting_max)"
   ]
  },
  {
   "cell_type": "markdown",
   "metadata": {},
   "source": [
    "### Cálculo de rendimiento"
   ]
  },
  {
   "cell_type": "code",
   "execution_count": 5,
   "metadata": {
    "ExecuteTime": {
     "end_time": "2019-11-01T15:24:04.665978Z",
     "start_time": "2019-11-01T15:24:04.662090Z"
    }
   },
   "outputs": [],
   "source": [
    "def get_pnl(df):\n",
    "    return df[df.order == 'sell'].close.sum() - df[df.order == 'buy'].close.sum()"
   ]
  },
  {
   "cell_type": "markdown",
   "metadata": {},
   "source": [
    "------------------\n",
    "\n",
    "# 1. Estrategia \"buy and hold\""
   ]
  },
  {
   "cell_type": "code",
   "execution_count": 6,
   "metadata": {
    "ExecuteTime": {
     "end_time": "2019-11-01T15:24:05.170221Z",
     "start_time": "2019-11-01T15:24:05.166039Z"
    }
   },
   "outputs": [],
   "source": [
    "def buy_and_hold(df):\n",
    "    df['order'] = 'hold'\n",
    "    \n",
    "    # Enviar opción de compra el día 1\n",
    "    df.iloc[0, df.columns.get_loc('order')] = 'buy'\n",
    "    \n",
    "    # Enviar opción de venta el último día\n",
    "    df.iloc[-1, df.columns.get_loc('order')] = 'sell'\n",
    "    \n",
    "    return df"
   ]
  },
  {
   "cell_type": "code",
   "execution_count": 7,
   "metadata": {
    "ExecuteTime": {
     "end_time": "2019-11-01T15:24:05.367172Z",
     "start_time": "2019-11-01T15:24:05.356755Z"
    }
   },
   "outputs": [
    {
     "data": {
      "text/plain": [
       "-7.822113037109375"
      ]
     },
     "execution_count": 7,
     "metadata": {},
     "output_type": "execute_result"
    }
   ],
   "source": [
    "df_NVDA_bah = buy_and_hold(df_NVDA[test_filter].copy())\n",
    "pnl_bah = get_pnl(df_NVDA_bah)\n",
    "pnl_bah"
   ]
  },
  {
   "cell_type": "code",
   "execution_count": 8,
   "metadata": {
    "ExecuteTime": {
     "end_time": "2019-11-01T15:24:05.533463Z",
     "start_time": "2019-11-01T15:24:05.522713Z"
    },
    "scrolled": true
   },
   "outputs": [
    {
     "data": {
      "text/html": [
       "<div>\n",
       "<style scoped>\n",
       "    .dataframe tbody tr th:only-of-type {\n",
       "        vertical-align: middle;\n",
       "    }\n",
       "\n",
       "    .dataframe tbody tr th {\n",
       "        vertical-align: top;\n",
       "    }\n",
       "\n",
       "    .dataframe thead th {\n",
       "        text-align: right;\n",
       "    }\n",
       "</style>\n",
       "<table border=\"1\" class=\"dataframe\">\n",
       "  <thead>\n",
       "    <tr style=\"text-align: right;\">\n",
       "      <th></th>\n",
       "      <th>open</th>\n",
       "      <th>high</th>\n",
       "      <th>low</th>\n",
       "      <th>close</th>\n",
       "      <th>volume</th>\n",
       "      <th>dividends</th>\n",
       "      <th>stock_splits</th>\n",
       "      <th>order</th>\n",
       "    </tr>\n",
       "    <tr>\n",
       "      <th>Date</th>\n",
       "      <th></th>\n",
       "      <th></th>\n",
       "      <th></th>\n",
       "      <th></th>\n",
       "      <th></th>\n",
       "      <th></th>\n",
       "      <th></th>\n",
       "      <th></th>\n",
       "    </tr>\n",
       "  </thead>\n",
       "  <tbody>\n",
       "    <tr>\n",
       "      <th>2019-04-01</th>\n",
       "      <td>182.870031</td>\n",
       "      <td>183.109526</td>\n",
       "      <td>179.986181</td>\n",
       "      <td>181.892120</td>\n",
       "      <td>12095600.0</td>\n",
       "      <td>0.0</td>\n",
       "      <td>0.0</td>\n",
       "      <td>buy</td>\n",
       "    </tr>\n",
       "    <tr>\n",
       "      <th>2019-09-30</th>\n",
       "      <td>172.800003</td>\n",
       "      <td>174.479996</td>\n",
       "      <td>171.539993</td>\n",
       "      <td>174.070007</td>\n",
       "      <td>4654600.0</td>\n",
       "      <td>0.0</td>\n",
       "      <td>0.0</td>\n",
       "      <td>sell</td>\n",
       "    </tr>\n",
       "  </tbody>\n",
       "</table>\n",
       "</div>"
      ],
      "text/plain": [
       "                  open        high         low       close      volume  \\\n",
       "Date                                                                     \n",
       "2019-04-01  182.870031  183.109526  179.986181  181.892120  12095600.0   \n",
       "2019-09-30  172.800003  174.479996  171.539993  174.070007   4654600.0   \n",
       "\n",
       "            dividends  stock_splits order  \n",
       "Date                                       \n",
       "2019-04-01        0.0           0.0   buy  \n",
       "2019-09-30        0.0           0.0  sell  "
      ]
     },
     "execution_count": 8,
     "metadata": {},
     "output_type": "execute_result"
    }
   ],
   "source": [
    "df_NVDA_bah[df_NVDA_bah.order != 'hold']"
   ]
  },
  {
   "cell_type": "code",
   "execution_count": 9,
   "metadata": {
    "ExecuteTime": {
     "end_time": "2019-11-01T15:24:05.755021Z",
     "start_time": "2019-11-01T15:24:05.691990Z"
    }
   },
   "outputs": [
    {
     "data": {
      "text/html": [
       "\n",
       "\n",
       "\n",
       "\n",
       "\n",
       "\n",
       "  <div class=\"bk-root\" id=\"e66d7005-008b-4290-8931-f01ab41cd965\" data-root-id=\"1529\"></div>\n"
      ]
     },
     "metadata": {},
     "output_type": "display_data"
    },
    {
     "data": {
      "application/javascript": [
       "(function(root) {\n",
       "  function embed_document(root) {\n",
       "    \n",
       "  var docs_json = {\"9532e84a-0715-458e-be38-495d90198006\":{\"roots\":{\"references\":[{\"attributes\":{\"below\":[{\"id\":\"1538\",\"type\":\"DatetimeAxis\"}],\"center\":[{\"id\":\"1542\",\"type\":\"Grid\"},{\"id\":\"1547\",\"type\":\"Grid\"}],\"left\":[{\"id\":\"1543\",\"type\":\"LinearAxis\"}],\"plot_height\":300,\"plot_width\":900,\"renderers\":[{\"id\":\"1564\",\"type\":\"GlyphRenderer\"},{\"id\":\"1569\",\"type\":\"GlyphRenderer\"},{\"id\":\"1574\",\"type\":\"GlyphRenderer\"}],\"title\":{\"id\":\"1624\",\"type\":\"Title\"},\"toolbar\":{\"id\":\"1554\",\"type\":\"Toolbar\"},\"x_range\":{\"id\":\"1530\",\"type\":\"DataRange1d\"},\"x_scale\":{\"id\":\"1534\",\"type\":\"LinearScale\"},\"y_range\":{\"id\":\"1532\",\"type\":\"DataRange1d\"},\"y_scale\":{\"id\":\"1536\",\"type\":\"LinearScale\"}},\"id\":\"1529\",\"subtype\":\"Figure\",\"type\":\"Plot\"},{\"attributes\":{\"callback\":null},\"id\":\"1532\",\"type\":\"DataRange1d\"},{\"attributes\":{\"days\":[1,8,15,22]},\"id\":\"1635\",\"type\":\"DaysTicker\"},{\"attributes\":{\"line_alpha\":0.1,\"line_color\":\"#1f77b4\",\"line_width\":2,\"x\":{\"field\":\"x\"},\"y\":{\"field\":\"y\"}},\"id\":\"1563\",\"type\":\"Line\"},{\"attributes\":{\"days\":[1,15]},\"id\":\"1636\",\"type\":\"DaysTicker\"},{\"attributes\":{\"line_color\":\"#1f77b4\",\"line_width\":2,\"x\":{\"field\":\"x\"},\"y\":{\"field\":\"y\"}},\"id\":\"1562\",\"type\":\"Line\"},{\"attributes\":{\"source\":{\"id\":\"1571\",\"type\":\"ColumnDataSource\"}},\"id\":\"1575\",\"type\":\"CDSView\"},{\"attributes\":{\"months\":[0,1,2,3,4,5,6,7,8,9,10,11]},\"id\":\"1637\",\"type\":\"MonthsTicker\"},{\"attributes\":{\"months\":[0,2,4,6,8,10]},\"id\":\"1638\",\"type\":\"MonthsTicker\"},{\"attributes\":{},\"id\":\"1548\",\"type\":\"PanTool\"},{\"attributes\":{\"fill_alpha\":{\"value\":0.1},\"fill_color\":{\"value\":\"#1f77b4\"},\"line_alpha\":{\"value\":0.1},\"line_color\":{\"value\":\"#1f77b4\"},\"size\":{\"units\":\"screen\",\"value\":10},\"x\":{\"field\":\"x\"},\"y\":{\"field\":\"y\"}},\"id\":\"1568\",\"type\":\"Triangle\"},{\"attributes\":{\"fill_alpha\":{\"value\":0.5},\"fill_color\":{\"value\":\"green\"},\"line_alpha\":{\"value\":0.5},\"line_color\":{\"value\":\"green\"},\"size\":{\"units\":\"screen\",\"value\":10},\"x\":{\"field\":\"x\"},\"y\":{\"field\":\"y\"}},\"id\":\"1567\",\"type\":\"Triangle\"},{\"attributes\":{\"months\":[0,4,8]},\"id\":\"1639\",\"type\":\"MonthsTicker\"},{\"attributes\":{},\"id\":\"1549\",\"type\":\"WheelZoomTool\"},{\"attributes\":{\"data_source\":{\"id\":\"1571\",\"type\":\"ColumnDataSource\"},\"glyph\":{\"id\":\"1572\",\"type\":\"Triangle\"},\"hover_glyph\":null,\"muted_glyph\":null,\"nonselection_glyph\":{\"id\":\"1573\",\"type\":\"Triangle\"},\"selection_glyph\":null,\"view\":{\"id\":\"1575\",\"type\":\"CDSView\"}},\"id\":\"1574\",\"type\":\"GlyphRenderer\"},{\"attributes\":{\"callback\":null},\"id\":\"1530\",\"type\":\"DataRange1d\"},{\"attributes\":{\"months\":[0,6]},\"id\":\"1640\",\"type\":\"MonthsTicker\"},{\"attributes\":{\"overlay\":{\"id\":\"1642\",\"type\":\"BoxAnnotation\"}},\"id\":\"1550\",\"type\":\"BoxZoomTool\"},{\"attributes\":{},\"id\":\"1641\",\"type\":\"YearsTicker\"},{\"attributes\":{},\"id\":\"1551\",\"type\":\"SaveTool\"},{\"attributes\":{},\"id\":\"1534\",\"type\":\"LinearScale\"},{\"attributes\":{\"source\":{\"id\":\"1566\",\"type\":\"ColumnDataSource\"}},\"id\":\"1570\",\"type\":\"CDSView\"},{\"attributes\":{\"callback\":null,\"data\":{\"x\":{\"__ndarray__\":\"AABAIWOddkI=\",\"dtype\":\"float64\",\"shape\":[1]},\"y\":{\"__ndarray__\":\"AAAAQIy8ZkA=\",\"dtype\":\"float64\",\"shape\":[1]}},\"selected\":{\"id\":\"1646\",\"type\":\"Selection\"},\"selection_policy\":{\"id\":\"1645\",\"type\":\"UnionRenderers\"}},\"id\":\"1566\",\"type\":\"ColumnDataSource\"},{\"attributes\":{\"bottom_units\":\"screen\",\"fill_alpha\":{\"value\":0.5},\"fill_color\":{\"value\":\"lightgrey\"},\"left_units\":\"screen\",\"level\":\"overlay\",\"line_alpha\":{\"value\":1.0},\"line_color\":{\"value\":\"black\"},\"line_dash\":[4,4],\"line_width\":{\"value\":2},\"render_mode\":\"css\",\"right_units\":\"screen\",\"top_units\":\"screen\"},\"id\":\"1642\",\"type\":\"BoxAnnotation\"},{\"attributes\":{},\"id\":\"1552\",\"type\":\"ResetTool\"},{\"attributes\":{\"callback\":null,\"data\":{\"x\":{\"__ndarray__\":\"AADAd/fXdkI=\",\"dtype\":\"float64\",\"shape\":[1]},\"y\":{\"__ndarray__\":\"AAAAgD3CZUA=\",\"dtype\":\"float64\",\"shape\":[1]}},\"selected\":{\"id\":\"1648\",\"type\":\"Selection\"},\"selection_policy\":{\"id\":\"1647\",\"type\":\"UnionRenderers\"}},\"id\":\"1571\",\"type\":\"ColumnDataSource\"},{\"attributes\":{},\"id\":\"1643\",\"type\":\"UnionRenderers\"},{\"attributes\":{},\"id\":\"1553\",\"type\":\"HelpTool\"},{\"attributes\":{\"source\":{\"id\":\"1561\",\"type\":\"ColumnDataSource\"}},\"id\":\"1565\",\"type\":\"CDSView\"},{\"attributes\":{},\"id\":\"1644\",\"type\":\"Selection\"},{\"attributes\":{\"active_drag\":\"auto\",\"active_inspect\":\"auto\",\"active_multi\":null,\"active_scroll\":\"auto\",\"active_tap\":\"auto\",\"tools\":[{\"id\":\"1548\",\"type\":\"PanTool\"},{\"id\":\"1549\",\"type\":\"WheelZoomTool\"},{\"id\":\"1550\",\"type\":\"BoxZoomTool\"},{\"id\":\"1551\",\"type\":\"SaveTool\"},{\"id\":\"1552\",\"type\":\"ResetTool\"},{\"id\":\"1553\",\"type\":\"HelpTool\"}]},\"id\":\"1554\",\"type\":\"Toolbar\"},{\"attributes\":{\"text\":\"\"},\"id\":\"1624\",\"type\":\"Title\"},{\"attributes\":{},\"id\":\"1645\",\"type\":\"UnionRenderers\"},{\"attributes\":{\"formatter\":{\"id\":\"1627\",\"type\":\"DatetimeTickFormatter\"},\"ticker\":{\"id\":\"1539\",\"type\":\"DatetimeTicker\"}},\"id\":\"1538\",\"type\":\"DatetimeAxis\"},{\"attributes\":{},\"id\":\"1646\",\"type\":\"Selection\"},{\"attributes\":{},\"id\":\"1627\",\"type\":\"DatetimeTickFormatter\"},{\"attributes\":{\"angle\":{\"units\":\"rad\",\"value\":3.141592653589793},\"fill_alpha\":{\"value\":0.5},\"fill_color\":{\"value\":\"red\"},\"line_alpha\":{\"value\":0.5},\"line_color\":{\"value\":\"red\"},\"size\":{\"units\":\"screen\",\"value\":10},\"x\":{\"field\":\"x\"},\"y\":{\"field\":\"y\"}},\"id\":\"1572\",\"type\":\"Triangle\"},{\"attributes\":{},\"id\":\"1629\",\"type\":\"BasicTickFormatter\"},{\"attributes\":{\"data_source\":{\"id\":\"1566\",\"type\":\"ColumnDataSource\"},\"glyph\":{\"id\":\"1567\",\"type\":\"Triangle\"},\"hover_glyph\":null,\"muted_glyph\":null,\"nonselection_glyph\":{\"id\":\"1568\",\"type\":\"Triangle\"},\"selection_glyph\":null,\"view\":{\"id\":\"1570\",\"type\":\"CDSView\"}},\"id\":\"1569\",\"type\":\"GlyphRenderer\"},{\"attributes\":{\"num_minor_ticks\":5,\"tickers\":[{\"id\":\"1630\",\"type\":\"AdaptiveTicker\"},{\"id\":\"1631\",\"type\":\"AdaptiveTicker\"},{\"id\":\"1632\",\"type\":\"AdaptiveTicker\"},{\"id\":\"1633\",\"type\":\"DaysTicker\"},{\"id\":\"1634\",\"type\":\"DaysTicker\"},{\"id\":\"1635\",\"type\":\"DaysTicker\"},{\"id\":\"1636\",\"type\":\"DaysTicker\"},{\"id\":\"1637\",\"type\":\"MonthsTicker\"},{\"id\":\"1638\",\"type\":\"MonthsTicker\"},{\"id\":\"1639\",\"type\":\"MonthsTicker\"},{\"id\":\"1640\",\"type\":\"MonthsTicker\"},{\"id\":\"1641\",\"type\":\"YearsTicker\"}]},\"id\":\"1539\",\"type\":\"DatetimeTicker\"},{\"attributes\":{},\"id\":\"1647\",\"type\":\"UnionRenderers\"},{\"attributes\":{\"mantissas\":[1,2,5],\"max_interval\":500.0,\"num_minor_ticks\":0},\"id\":\"1630\",\"type\":\"AdaptiveTicker\"},{\"attributes\":{\"formatter\":{\"id\":\"1629\",\"type\":\"BasicTickFormatter\"},\"ticker\":{\"id\":\"1544\",\"type\":\"BasicTicker\"}},\"id\":\"1543\",\"type\":\"LinearAxis\"},{\"attributes\":{},\"id\":\"1648\",\"type\":\"Selection\"},{\"attributes\":{\"base\":60,\"mantissas\":[1,2,5,10,15,20,30],\"max_interval\":1800000.0,\"min_interval\":1000.0,\"num_minor_ticks\":0},\"id\":\"1631\",\"type\":\"AdaptiveTicker\"},{\"attributes\":{\"data_source\":{\"id\":\"1561\",\"type\":\"ColumnDataSource\"},\"glyph\":{\"id\":\"1562\",\"type\":\"Line\"},\"hover_glyph\":null,\"muted_glyph\":null,\"nonselection_glyph\":{\"id\":\"1563\",\"type\":\"Line\"},\"selection_glyph\":null,\"view\":{\"id\":\"1565\",\"type\":\"CDSView\"}},\"id\":\"1564\",\"type\":\"GlyphRenderer\"},{\"attributes\":{},\"id\":\"1536\",\"type\":\"LinearScale\"},{\"attributes\":{\"angle\":{\"units\":\"rad\",\"value\":3.141592653589793},\"fill_alpha\":{\"value\":0.1},\"fill_color\":{\"value\":\"#1f77b4\"},\"line_alpha\":{\"value\":0.1},\"line_color\":{\"value\":\"#1f77b4\"},\"size\":{\"units\":\"screen\",\"value\":10},\"x\":{\"field\":\"x\"},\"y\":{\"field\":\"y\"}},\"id\":\"1573\",\"type\":\"Triangle\"},{\"attributes\":{\"base\":24,\"mantissas\":[1,2,4,6,8,12],\"max_interval\":43200000.0,\"min_interval\":3600000.0,\"num_minor_ticks\":0},\"id\":\"1632\",\"type\":\"AdaptiveTicker\"},{\"attributes\":{\"ticker\":{\"id\":\"1539\",\"type\":\"DatetimeTicker\"}},\"id\":\"1542\",\"type\":\"Grid\"},{\"attributes\":{\"callback\":null,\"data\":{\"x\":{\"__ndarray__\":\"AABAIWOddkIAAACHtZ12QgAAwOwHnnZCAACAUlqedkIAAEC4rJ52QgAAgOmjn3ZCAABAT/afdkIAAAC1SKB2QgAAwBqboHZCAACAgO2gdkIAAMCx5KF2QgAAgBc3onZCAABAfYmidkIAAADj26J2QgAAAHolpHZCAADA33ekdkIAAIBFyqR2QgAAQKscpXZCAAAAEW+ldkIAAEBCZqZ2QgAAAKi4pnZCAADADQundkIAAIBzXad2QgAAQNmvp3ZCAACACqeodkIAAEBw+ah2QgAAANZLqXZCAADAO56pdkIAAICh8Kl2QgAAwNLnqnZCAACAODqrdkIAAECejKt2QgAAAATfq3ZCAADAaTGsdkIAAACbKK12QgAAwAB7rXZCAACAZs2tdkIAAEDMH652QgAAADJyrnZCAAAAybuvdkIAAMAuDrB2QgAAgJRgsHZCAABA+rKwdkIAAIArqrF2QgAAQJH8sXZCAAAA906ydkIAAMBcobJ2QgAAgMLzsnZCAADA8+qzdkIAAIBZPbR2QgAAQL+PtHZCAAAAJeK0dkIAAMCKNLV2QgAAALwrtnZCAADAIX62dkIAAICH0LZ2QgAAQO0it3ZCAAAAU3W3dkIAAECEbLh2QgAAAOq+uHZCAADATxG5dkIAAIC1Y7l2QgAAQBu2uXZCAACATK26dkIAAECy/7p2QgAAABhSu3ZCAACA4/a7dkIAAMAU7rx2QgAAgHpAvXZCAABA4JK9dkIAAABG5b12QgAAwKs3vnZCAAAA3S6/dkIAAMBCgb92QgAAgKjTv3ZCAABADibAdkIAAAB0eMB2QgAAQKVvwXZCAAAAC8LBdkIAAMBwFMJ2QgAAgNZmwnZCAABAPLnCdkIAAIBtsMN2QgAAQNMCxHZCAAAAOVXEdkIAAMCep8R2QgAAgAT6xHZCAADANfHFdkIAAICbQ8Z2QgAAQAGWxnZCAAAAZ+jGdkIAAMDMOsd2QgAAAP4xyHZCAADAY4TIdkIAAIDJ1sh2QgAAQC8pyXZCAAAAlXvJdkIAAEDGcsp2QgAAACzFynZCAADAkRfLdkIAAID3act2QgAAQF28y3ZCAACAjrPMdkIAAED0Bc12QgAAAFpYzXZCAADAv6rNdkIAAIAl/c12QgAAgLxGz3ZCAABAIpnPdkIAAACI6892QgAAwO090HZCAAAAHzXRdkIAAMCEh9F2QgAAgOrZ0XZCAABAUCzSdkIAAAC2ftJ2QgAAQOd103ZCAAAATcjTdkIAAMCyGtR2QgAAgBht1HZCAABAfr/UdkIAAICvttV2QgAAQBUJ1nZCAAAAe1vWdkIAAMDgrdZ2QgAAgEYA13ZCAADAd/fXdkI=\",\"dtype\":\"float64\",\"shape\":[127]},\"y\":{\"__ndarray__\":\"AAAAQIy8ZkAAAAAAitNmQAAAACD/hmdAAAAAIIB7Z0AAAADAZdFnQAAAAIA47GdAAAAAwG6bZ0AAAACgHvZnQAAAAMA85GdAAAAAwGGzZ0AAAADA0glnQAAAAIDneWdAAAAA4IZcZ0AAAAAg6jxnQAAAAOA0gmdAAAAA4HTIZ0AAAABAbNhnQAAAAIBkUGdAAAAAwMA2ZkAAAABgWV5mQAAAAOCsk2ZAAAAAYMCCZkAAAAAgm9lmQAAAAMDb02ZAAAAAIPRuZkAAAACAu5dlQAAAAOCYsWVAAAAA4H06ZUAAAACgvg5lQAAAAGCcw2NAAAAAAD82ZEAAAACgsedjQAAAACAs+2NAAAAAIE2GY0AAAADAqu1iQAAAAIBcV2NAAAAAQAn8YkAAAABgNWBiQAAAAKDqGmJAAAAAAM3gYUAAAADgUoFhQAAAACAeX2FAAAAAAG/qYEAAAAAAurRgQAAAAIB522FAAAAAQH2kYUAAAAAAafRhQAAAAEBlK2JAAAAAABCJYkAAAADAOtNiQAAAAADGQWJAAAAAwKCDYkAAAAAg5w9iQAAAAOBeHGJAAAAAgFIXY0AAAACg/h5jQAAAAOBSPmNAAAAAgITzYkAAAAAAShBjQAAAAACR6mJAAAAAwEfjY0AAAADAMWJkQAAAAKApgmRAAAAAgC7AZEAAAADgOUJkQAAAAIDZUmRAAAAAIEoCZEAAAADAvqFjQAAAACDxpGNAAAAA4Nr8Y0AAAADAssNkQAAAAEA37mRAAAAAwFjjZEAAAADgRd1kQAAAAIBZMWVAAAAA4F9AZUAAAAAAwAhlQAAAAKDRZGVAAAAAwI/vZUAAAABgd09mQAAAAGCspmVAAAAAQLPcZUAAAABAtdRlQAAAAADZ6GVAAAAAYLMRZUAAAACgOJhkQAAAAMD6IGRAAAAAIILUYkAAAAAAYQZjQAAAAECcN2NAAAAAwE/DY0AAAACA4UBjQAAAAICb6WJAAAAAgKl8Y0AAAADAfb1iQAAAAKDuk2JAAAAA4N7sY0AAAABAjlNlQAAAACCH9mRAAAAAAPFhZUAAAAAA72llQAAAAIDwSGRAAAAAACqpZEAAAADgejRkQAAAAEAKJ2RAAAAAAADgZEAAAADgUfBkQAAAAKBwhWRAAAAA4FEYZUAAAAAgrndmQAAAAMDMVGZAAAAAAACQZkAAAACAwuVmQAAAAGCPCmdAAAAA4KMIZ0AAAACAFL5mQAAAAGC4hmZAAAAAgD2iZkAAAAAgXH9mQAAAAIAUHmZAAAAAgBSWZUAAAABA4dplQAAAAMD1kGVAAAAAIFxHZkAAAABA4SpmQAAAAOBReGVAAAAAgD3CZUA=\",\"dtype\":\"float64\",\"shape\":[127]}},\"selected\":{\"id\":\"1644\",\"type\":\"Selection\"},\"selection_policy\":{\"id\":\"1643\",\"type\":\"UnionRenderers\"}},\"id\":\"1561\",\"type\":\"ColumnDataSource\"},{\"attributes\":{\"days\":[1,2,3,4,5,6,7,8,9,10,11,12,13,14,15,16,17,18,19,20,21,22,23,24,25,26,27,28,29,30,31]},\"id\":\"1633\",\"type\":\"DaysTicker\"},{\"attributes\":{},\"id\":\"1544\",\"type\":\"BasicTicker\"},{\"attributes\":{\"days\":[1,4,7,10,13,16,19,22,25,28]},\"id\":\"1634\",\"type\":\"DaysTicker\"},{\"attributes\":{\"dimension\":1,\"ticker\":{\"id\":\"1544\",\"type\":\"BasicTicker\"}},\"id\":\"1547\",\"type\":\"Grid\"}],\"root_ids\":[\"1529\"]},\"title\":\"Bokeh Application\",\"version\":\"1.3.4\"}};\n",
       "  var render_items = [{\"docid\":\"9532e84a-0715-458e-be38-495d90198006\",\"roots\":{\"1529\":\"e66d7005-008b-4290-8931-f01ab41cd965\"}}];\n",
       "  root.Bokeh.embed.embed_items_notebook(docs_json, render_items);\n",
       "\n",
       "  }\n",
       "  if (root.Bokeh !== undefined) {\n",
       "    embed_document(root);\n",
       "  } else {\n",
       "    var attempts = 0;\n",
       "    var timer = setInterval(function(root) {\n",
       "      if (root.Bokeh !== undefined) {\n",
       "        embed_document(root);\n",
       "        clearInterval(timer);\n",
       "      }\n",
       "      attempts++;\n",
       "      if (attempts > 100) {\n",
       "        console.log(\"Bokeh: ERROR: Unable to run BokehJS code because BokehJS library is missing\");\n",
       "        clearInterval(timer);\n",
       "      }\n",
       "    }, 10, root)\n",
       "  }\n",
       "})(window);"
      ],
      "application/vnd.bokehjs_exec.v0+json": ""
     },
     "metadata": {
      "application/vnd.bokehjs_exec.v0+json": {
       "id": "1529"
      }
     },
     "output_type": "display_data"
    }
   ],
   "source": [
    "show_strategy_actions(df_NVDA_bah)"
   ]
  },
  {
   "cell_type": "markdown",
   "metadata": {},
   "source": [
    "------------------\n",
    "\n",
    "# 2. Estrategia TA (medias móviles)"
   ]
  },
  {
   "cell_type": "code",
   "execution_count": 10,
   "metadata": {
    "ExecuteTime": {
     "end_time": "2019-11-01T15:24:06.719623Z",
     "start_time": "2019-11-01T15:24:05.998911Z"
    }
   },
   "outputs": [],
   "source": [
    "df_NVDA_with_ti = add_technical_indicators(df_NVDA.copy())"
   ]
  },
  {
   "cell_type": "code",
   "execution_count": 11,
   "metadata": {
    "ExecuteTime": {
     "end_time": "2019-11-01T15:24:06.745323Z",
     "start_time": "2019-11-01T15:24:06.721305Z"
    }
   },
   "outputs": [
    {
     "data": {
      "text/html": [
       "<div>\n",
       "<style scoped>\n",
       "    .dataframe tbody tr th:only-of-type {\n",
       "        vertical-align: middle;\n",
       "    }\n",
       "\n",
       "    .dataframe tbody tr th {\n",
       "        vertical-align: top;\n",
       "    }\n",
       "\n",
       "    .dataframe thead th {\n",
       "        text-align: right;\n",
       "    }\n",
       "</style>\n",
       "<table border=\"1\" class=\"dataframe\">\n",
       "  <thead>\n",
       "    <tr style=\"text-align: right;\">\n",
       "      <th></th>\n",
       "      <th>open</th>\n",
       "      <th>high</th>\n",
       "      <th>low</th>\n",
       "      <th>close</th>\n",
       "      <th>volume</th>\n",
       "      <th>dividends</th>\n",
       "      <th>stock_splits</th>\n",
       "      <th>ti_macd</th>\n",
       "      <th>ti_macd_diff</th>\n",
       "      <th>ti_macd_dm1</th>\n",
       "      <th>...</th>\n",
       "      <th>ti_rsi_oversold</th>\n",
       "      <th>ti_cmf</th>\n",
       "      <th>ti_cmf_dm1</th>\n",
       "      <th>ti_cmf_dm2</th>\n",
       "      <th>ti_vpi</th>\n",
       "      <th>ti_bb</th>\n",
       "      <th>ti_atr</th>\n",
       "      <th>ti_ic</th>\n",
       "      <th>ti_mfi</th>\n",
       "      <th>ti_cr</th>\n",
       "    </tr>\n",
       "    <tr>\n",
       "      <th>Date</th>\n",
       "      <th></th>\n",
       "      <th></th>\n",
       "      <th></th>\n",
       "      <th></th>\n",
       "      <th></th>\n",
       "      <th></th>\n",
       "      <th></th>\n",
       "      <th></th>\n",
       "      <th></th>\n",
       "      <th></th>\n",
       "      <th></th>\n",
       "      <th></th>\n",
       "      <th></th>\n",
       "      <th></th>\n",
       "      <th></th>\n",
       "      <th></th>\n",
       "      <th></th>\n",
       "      <th></th>\n",
       "      <th></th>\n",
       "      <th></th>\n",
       "      <th></th>\n",
       "    </tr>\n",
       "  </thead>\n",
       "  <tbody>\n",
       "    <tr>\n",
       "      <th>1999-08-23</th>\n",
       "      <td>2.035221</td>\n",
       "      <td>2.035221</td>\n",
       "      <td>1.872019</td>\n",
       "      <td>1.939220</td>\n",
       "      <td>12699600.0</td>\n",
       "      <td>0.0</td>\n",
       "      <td>0.0</td>\n",
       "      <td>0.111494</td>\n",
       "      <td>1.827726</td>\n",
       "      <td>0.105751</td>\n",
       "      <td>...</td>\n",
       "      <td>False</td>\n",
       "      <td>0.281796</td>\n",
       "      <td>0.307199</td>\n",
       "      <td>0.290394</td>\n",
       "      <td>-849241.026471</td>\n",
       "      <td>0.0</td>\n",
       "      <td>0.109016</td>\n",
       "      <td>1.855219</td>\n",
       "      <td>79.504389</td>\n",
       "      <td>-6.237050</td>\n",
       "    </tr>\n",
       "    <tr>\n",
       "      <th>2018-10-19</th>\n",
       "      <td>240.756294</td>\n",
       "      <td>241.543023</td>\n",
       "      <td>226.754669</td>\n",
       "      <td>228.218567</td>\n",
       "      <td>15340200.0</td>\n",
       "      <td>0.0</td>\n",
       "      <td>0.0</td>\n",
       "      <td>-9.085014</td>\n",
       "      <td>237.303580</td>\n",
       "      <td>-7.904408</td>\n",
       "      <td>...</td>\n",
       "      <td>False</td>\n",
       "      <td>-0.189750</td>\n",
       "      <td>-0.166595</td>\n",
       "      <td>-0.139714</td>\n",
       "      <td>-853744.749079</td>\n",
       "      <td>0.0</td>\n",
       "      <td>0.000000</td>\n",
       "      <td>253.174527</td>\n",
       "      <td>30.850912</td>\n",
       "      <td>-4.421464</td>\n",
       "    </tr>\n",
       "  </tbody>\n",
       "</table>\n",
       "<p>2 rows × 23 columns</p>\n",
       "</div>"
      ],
      "text/plain": [
       "                  open        high         low       close      volume  \\\n",
       "Date                                                                     \n",
       "1999-08-23    2.035221    2.035221    1.872019    1.939220  12699600.0   \n",
       "2018-10-19  240.756294  241.543023  226.754669  228.218567  15340200.0   \n",
       "\n",
       "            dividends  stock_splits   ti_macd  ti_macd_diff  ti_macd_dm1  ...  \\\n",
       "Date                                                                      ...   \n",
       "1999-08-23        0.0           0.0  0.111494      1.827726     0.105751  ...   \n",
       "2018-10-19        0.0           0.0 -9.085014    237.303580    -7.904408  ...   \n",
       "\n",
       "            ti_rsi_oversold    ti_cmf  ti_cmf_dm1  ti_cmf_dm2         ti_vpi  \\\n",
       "Date                                                                           \n",
       "1999-08-23            False  0.281796    0.307199    0.290394 -849241.026471   \n",
       "2018-10-19            False -0.189750   -0.166595   -0.139714 -853744.749079   \n",
       "\n",
       "            ti_bb    ti_atr       ti_ic     ti_mfi     ti_cr  \n",
       "Date                                                          \n",
       "1999-08-23    0.0  0.109016    1.855219  79.504389 -6.237050  \n",
       "2018-10-19    0.0  0.000000  253.174527  30.850912 -4.421464  \n",
       "\n",
       "[2 rows x 23 columns]"
      ]
     },
     "execution_count": 11,
     "metadata": {},
     "output_type": "execute_result"
    }
   ],
   "source": [
    "df_NVDA_with_ti.sample(2)"
   ]
  },
  {
   "cell_type": "code",
   "execution_count": 12,
   "metadata": {
    "ExecuteTime": {
     "end_time": "2019-11-01T15:24:07.285365Z",
     "start_time": "2019-11-01T15:24:07.276488Z"
    }
   },
   "outputs": [],
   "source": [
    "def moving_average_convergence_divergence(df):\n",
    "    open_position = False\n",
    "    \n",
    "    df['order'] = 'hold'\n",
    "    \n",
    "    for _ix, (index, row) in enumerate(df.iloc[3:].iterrows()):\n",
    "        # MACD > 0, señal de compra.\n",
    "        if((df.iloc[_ix - 3].ti_macd < 0) & (df.iloc[_ix - 2].ti_macd < 0) & \n",
    "           (df.iloc[_ix - 1].ti_macd > 0) & (df.iloc[_ix].ti_macd > 0) & \n",
    "           (not open_position)):\n",
    "            open_position = True\n",
    "            df.loc[index, 'order'] = 'buy'\n",
    "        \n",
    "        # MACD < 0, señal de compra.\n",
    "        if((df.iloc[_ix - 3].ti_macd > 0) & (df.iloc[_ix - 2].ti_macd > 0) & \n",
    "           (df.iloc[_ix - 1].ti_macd < 0) & (df.iloc[_ix].ti_macd < 0) & \n",
    "           (open_position)):\n",
    "            open_position = False\n",
    "            df.loc[index, 'order'] = 'sell'\n",
    "    \n",
    "    if(open_position):\n",
    "        df.iloc[-1, df.columns.get_loc('order')] = 'sell'\n",
    "        \n",
    "    return df"
   ]
  },
  {
   "cell_type": "code",
   "execution_count": 13,
   "metadata": {
    "ExecuteTime": {
     "end_time": "2019-11-01T15:24:11.838180Z",
     "start_time": "2019-11-01T15:24:11.623715Z"
    }
   },
   "outputs": [
    {
     "data": {
      "text/plain": [
       "1.1411895751953125"
      ]
     },
     "execution_count": 13,
     "metadata": {},
     "output_type": "execute_result"
    }
   ],
   "source": [
    "df_NVDA_macd = moving_average_convergence_divergence(df_NVDA_with_ti[test_filter].copy())\n",
    "pnl_macd = get_pnl(df_NVDA_macd)\n",
    "pnl_macd"
   ]
  },
  {
   "cell_type": "code",
   "execution_count": 14,
   "metadata": {
    "ExecuteTime": {
     "end_time": "2019-11-01T15:24:12.016369Z",
     "start_time": "2019-11-01T15:24:11.993689Z"
    }
   },
   "outputs": [
    {
     "data": {
      "text/html": [
       "<div>\n",
       "<style scoped>\n",
       "    .dataframe tbody tr th:only-of-type {\n",
       "        vertical-align: middle;\n",
       "    }\n",
       "\n",
       "    .dataframe tbody tr th {\n",
       "        vertical-align: top;\n",
       "    }\n",
       "\n",
       "    .dataframe thead th {\n",
       "        text-align: right;\n",
       "    }\n",
       "</style>\n",
       "<table border=\"1\" class=\"dataframe\">\n",
       "  <thead>\n",
       "    <tr style=\"text-align: right;\">\n",
       "      <th></th>\n",
       "      <th>open</th>\n",
       "      <th>high</th>\n",
       "      <th>low</th>\n",
       "      <th>close</th>\n",
       "      <th>volume</th>\n",
       "      <th>dividends</th>\n",
       "      <th>stock_splits</th>\n",
       "      <th>ti_macd</th>\n",
       "      <th>ti_macd_diff</th>\n",
       "      <th>ti_macd_dm1</th>\n",
       "      <th>...</th>\n",
       "      <th>ti_cmf</th>\n",
       "      <th>ti_cmf_dm1</th>\n",
       "      <th>ti_cmf_dm2</th>\n",
       "      <th>ti_vpi</th>\n",
       "      <th>ti_bb</th>\n",
       "      <th>ti_atr</th>\n",
       "      <th>ti_ic</th>\n",
       "      <th>ti_mfi</th>\n",
       "      <th>ti_cr</th>\n",
       "      <th>order</th>\n",
       "    </tr>\n",
       "    <tr>\n",
       "      <th>Date</th>\n",
       "      <th></th>\n",
       "      <th></th>\n",
       "      <th></th>\n",
       "      <th></th>\n",
       "      <th></th>\n",
       "      <th></th>\n",
       "      <th></th>\n",
       "      <th></th>\n",
       "      <th></th>\n",
       "      <th></th>\n",
       "      <th></th>\n",
       "      <th></th>\n",
       "      <th></th>\n",
       "      <th></th>\n",
       "      <th></th>\n",
       "      <th></th>\n",
       "      <th></th>\n",
       "      <th></th>\n",
       "      <th></th>\n",
       "      <th></th>\n",
       "      <th></th>\n",
       "    </tr>\n",
       "  </thead>\n",
       "  <tbody>\n",
       "    <tr>\n",
       "      <th>2019-07-03</th>\n",
       "      <td>163.008633</td>\n",
       "      <td>163.238401</td>\n",
       "      <td>160.181430</td>\n",
       "      <td>162.589050</td>\n",
       "      <td>6165900.0</td>\n",
       "      <td>0.0</td>\n",
       "      <td>0.0</td>\n",
       "      <td>2.576859</td>\n",
       "      <td>160.012192</td>\n",
       "      <td>2.337754</td>\n",
       "      <td>...</td>\n",
       "      <td>-0.114359</td>\n",
       "      <td>-0.161624</td>\n",
       "      <td>-0.048793</td>\n",
       "      <td>-217478.483333</td>\n",
       "      <td>0.0</td>\n",
       "      <td>0.0</td>\n",
       "      <td>157.648948</td>\n",
       "      <td>69.892719</td>\n",
       "      <td>0.320020</td>\n",
       "      <td>buy</td>\n",
       "    </tr>\n",
       "    <tr>\n",
       "      <th>2019-08-12</th>\n",
       "      <td>151.929614</td>\n",
       "      <td>154.027528</td>\n",
       "      <td>150.421113</td>\n",
       "      <td>151.300232</td>\n",
       "      <td>6980000.0</td>\n",
       "      <td>0.0</td>\n",
       "      <td>0.0</td>\n",
       "      <td>-2.491427</td>\n",
       "      <td>153.791659</td>\n",
       "      <td>-1.894627</td>\n",
       "      <td>...</td>\n",
       "      <td>0.089075</td>\n",
       "      <td>0.099399</td>\n",
       "      <td>0.043065</td>\n",
       "      <td>-343894.801764</td>\n",
       "      <td>0.0</td>\n",
       "      <td>0.0</td>\n",
       "      <td>162.566576</td>\n",
       "      <td>31.232052</td>\n",
       "      <td>-1.786518</td>\n",
       "      <td>sell</td>\n",
       "    </tr>\n",
       "    <tr>\n",
       "      <th>2019-08-27</th>\n",
       "      <td>166.824869</td>\n",
       "      <td>166.934761</td>\n",
       "      <td>160.461158</td>\n",
       "      <td>161.639999</td>\n",
       "      <td>7274200.0</td>\n",
       "      <td>0.0</td>\n",
       "      <td>0.0</td>\n",
       "      <td>0.663825</td>\n",
       "      <td>160.976174</td>\n",
       "      <td>0.869555</td>\n",
       "      <td>...</td>\n",
       "      <td>-0.057091</td>\n",
       "      <td>-0.020420</td>\n",
       "      <td>-0.006572</td>\n",
       "      <td>-13066.897290</td>\n",
       "      <td>0.0</td>\n",
       "      <td>0.0</td>\n",
       "      <td>161.620011</td>\n",
       "      <td>56.326262</td>\n",
       "      <td>-2.230795</td>\n",
       "      <td>buy</td>\n",
       "    </tr>\n",
       "    <tr>\n",
       "      <th>2019-09-30</th>\n",
       "      <td>172.800003</td>\n",
       "      <td>174.479996</td>\n",
       "      <td>171.539993</td>\n",
       "      <td>174.070007</td>\n",
       "      <td>4654600.0</td>\n",
       "      <td>0.0</td>\n",
       "      <td>0.0</td>\n",
       "      <td>1.724645</td>\n",
       "      <td>172.345362</td>\n",
       "      <td>2.018918</td>\n",
       "      <td>...</td>\n",
       "      <td>0.055966</td>\n",
       "      <td>0.005328</td>\n",
       "      <td>0.043525</td>\n",
       "      <td>-222202.183872</td>\n",
       "      <td>0.0</td>\n",
       "      <td>0.0</td>\n",
       "      <td>174.535000</td>\n",
       "      <td>47.876541</td>\n",
       "      <td>1.335944</td>\n",
       "      <td>sell</td>\n",
       "    </tr>\n",
       "  </tbody>\n",
       "</table>\n",
       "<p>4 rows × 24 columns</p>\n",
       "</div>"
      ],
      "text/plain": [
       "                  open        high         low       close     volume  \\\n",
       "Date                                                                    \n",
       "2019-07-03  163.008633  163.238401  160.181430  162.589050  6165900.0   \n",
       "2019-08-12  151.929614  154.027528  150.421113  151.300232  6980000.0   \n",
       "2019-08-27  166.824869  166.934761  160.461158  161.639999  7274200.0   \n",
       "2019-09-30  172.800003  174.479996  171.539993  174.070007  4654600.0   \n",
       "\n",
       "            dividends  stock_splits   ti_macd  ti_macd_diff  ti_macd_dm1  ...  \\\n",
       "Date                                                                      ...   \n",
       "2019-07-03        0.0           0.0  2.576859    160.012192     2.337754  ...   \n",
       "2019-08-12        0.0           0.0 -2.491427    153.791659    -1.894627  ...   \n",
       "2019-08-27        0.0           0.0  0.663825    160.976174     0.869555  ...   \n",
       "2019-09-30        0.0           0.0  1.724645    172.345362     2.018918  ...   \n",
       "\n",
       "              ti_cmf  ti_cmf_dm1  ti_cmf_dm2         ti_vpi  ti_bb  ti_atr  \\\n",
       "Date                                                                         \n",
       "2019-07-03 -0.114359   -0.161624   -0.048793 -217478.483333    0.0     0.0   \n",
       "2019-08-12  0.089075    0.099399    0.043065 -343894.801764    0.0     0.0   \n",
       "2019-08-27 -0.057091   -0.020420   -0.006572  -13066.897290    0.0     0.0   \n",
       "2019-09-30  0.055966    0.005328    0.043525 -222202.183872    0.0     0.0   \n",
       "\n",
       "                 ti_ic     ti_mfi     ti_cr  order  \n",
       "Date                                                \n",
       "2019-07-03  157.648948  69.892719  0.320020    buy  \n",
       "2019-08-12  162.566576  31.232052 -1.786518   sell  \n",
       "2019-08-27  161.620011  56.326262 -2.230795    buy  \n",
       "2019-09-30  174.535000  47.876541  1.335944   sell  \n",
       "\n",
       "[4 rows x 24 columns]"
      ]
     },
     "execution_count": 14,
     "metadata": {},
     "output_type": "execute_result"
    }
   ],
   "source": [
    "df_NVDA_macd[df_NVDA_macd.order != 'hold']"
   ]
  },
  {
   "cell_type": "code",
   "execution_count": 15,
   "metadata": {
    "ExecuteTime": {
     "end_time": "2019-11-01T15:24:12.539329Z",
     "start_time": "2019-11-01T15:24:12.468184Z"
    }
   },
   "outputs": [
    {
     "data": {
      "text/html": [
       "\n",
       "\n",
       "\n",
       "\n",
       "\n",
       "\n",
       "  <div class=\"bk-root\" id=\"28541004-2fd4-4f2d-9b7a-66d07c922ef1\" data-root-id=\"1799\"></div>\n"
      ]
     },
     "metadata": {},
     "output_type": "display_data"
    },
    {
     "data": {
      "application/javascript": [
       "(function(root) {\n",
       "  function embed_document(root) {\n",
       "    \n",
       "  var docs_json = {\"803b4231-fb5e-4077-a3c7-877e8a8c4341\":{\"roots\":{\"references\":[{\"attributes\":{\"below\":[{\"id\":\"1808\",\"type\":\"DatetimeAxis\"}],\"center\":[{\"id\":\"1812\",\"type\":\"Grid\"},{\"id\":\"1817\",\"type\":\"Grid\"}],\"left\":[{\"id\":\"1813\",\"type\":\"LinearAxis\"}],\"plot_height\":300,\"plot_width\":900,\"renderers\":[{\"id\":\"1834\",\"type\":\"GlyphRenderer\"},{\"id\":\"1839\",\"type\":\"GlyphRenderer\"},{\"id\":\"1844\",\"type\":\"GlyphRenderer\"}],\"title\":{\"id\":\"1919\",\"type\":\"Title\"},\"toolbar\":{\"id\":\"1824\",\"type\":\"Toolbar\"},\"x_range\":{\"id\":\"1800\",\"type\":\"DataRange1d\"},\"x_scale\":{\"id\":\"1804\",\"type\":\"LinearScale\"},\"y_range\":{\"id\":\"1802\",\"type\":\"DataRange1d\"},\"y_scale\":{\"id\":\"1806\",\"type\":\"LinearScale\"}},\"id\":\"1799\",\"subtype\":\"Figure\",\"type\":\"Plot\"},{\"attributes\":{},\"id\":\"1821\",\"type\":\"SaveTool\"},{\"attributes\":{\"text\":\"\"},\"id\":\"1919\",\"type\":\"Title\"},{\"attributes\":{},\"id\":\"1938\",\"type\":\"UnionRenderers\"},{\"attributes\":{\"days\":[1,4,7,10,13,16,19,22,25,28]},\"id\":\"1929\",\"type\":\"DaysTicker\"},{\"attributes\":{\"formatter\":{\"id\":\"1922\",\"type\":\"DatetimeTickFormatter\"},\"ticker\":{\"id\":\"1809\",\"type\":\"DatetimeTicker\"}},\"id\":\"1808\",\"type\":\"DatetimeAxis\"},{\"attributes\":{},\"id\":\"1939\",\"type\":\"Selection\"},{\"attributes\":{\"fill_alpha\":{\"value\":0.1},\"fill_color\":{\"value\":\"#1f77b4\"},\"line_alpha\":{\"value\":0.1},\"line_color\":{\"value\":\"#1f77b4\"},\"size\":{\"units\":\"screen\",\"value\":10},\"x\":{\"field\":\"x\"},\"y\":{\"field\":\"y\"}},\"id\":\"1838\",\"type\":\"Triangle\"},{\"attributes\":{\"fill_alpha\":{\"value\":0.5},\"fill_color\":{\"value\":\"green\"},\"line_alpha\":{\"value\":0.5},\"line_color\":{\"value\":\"green\"},\"size\":{\"units\":\"screen\",\"value\":10},\"x\":{\"field\":\"x\"},\"y\":{\"field\":\"y\"}},\"id\":\"1837\",\"type\":\"Triangle\"},{\"attributes\":{},\"id\":\"1940\",\"type\":\"UnionRenderers\"},{\"attributes\":{\"dimension\":1,\"ticker\":{\"id\":\"1814\",\"type\":\"BasicTicker\"}},\"id\":\"1817\",\"type\":\"Grid\"},{\"attributes\":{\"months\":[0,2,4,6,8,10]},\"id\":\"1933\",\"type\":\"MonthsTicker\"},{\"attributes\":{\"callback\":null,\"data\":{\"x\":{\"__ndarray__\":\"AAAAGFK7dkIAAED0Bc12Qg==\",\"dtype\":\"float64\",\"shape\":[2]},\"y\":{\"__ndarray__\":\"AAAAgNlSZEAAAADgejRkQA==\",\"dtype\":\"float64\",\"shape\":[2]}},\"selected\":{\"id\":\"1941\",\"type\":\"Selection\"},\"selection_policy\":{\"id\":\"1940\",\"type\":\"UnionRenderers\"}},\"id\":\"1836\",\"type\":\"ColumnDataSource\"},{\"attributes\":{},\"id\":\"1941\",\"type\":\"Selection\"},{\"attributes\":{},\"id\":\"1823\",\"type\":\"HelpTool\"},{\"attributes\":{\"months\":[0,4,8]},\"id\":\"1934\",\"type\":\"MonthsTicker\"},{\"attributes\":{\"line_alpha\":0.1,\"line_color\":\"#1f77b4\",\"line_width\":2,\"x\":{\"field\":\"x\"},\"y\":{\"field\":\"y\"}},\"id\":\"1833\",\"type\":\"Line\"},{\"attributes\":{\"num_minor_ticks\":5,\"tickers\":[{\"id\":\"1925\",\"type\":\"AdaptiveTicker\"},{\"id\":\"1926\",\"type\":\"AdaptiveTicker\"},{\"id\":\"1927\",\"type\":\"AdaptiveTicker\"},{\"id\":\"1928\",\"type\":\"DaysTicker\"},{\"id\":\"1929\",\"type\":\"DaysTicker\"},{\"id\":\"1930\",\"type\":\"DaysTicker\"},{\"id\":\"1931\",\"type\":\"DaysTicker\"},{\"id\":\"1932\",\"type\":\"MonthsTicker\"},{\"id\":\"1933\",\"type\":\"MonthsTicker\"},{\"id\":\"1934\",\"type\":\"MonthsTicker\"},{\"id\":\"1935\",\"type\":\"MonthsTicker\"},{\"id\":\"1936\",\"type\":\"YearsTicker\"}]},\"id\":\"1809\",\"type\":\"DatetimeTicker\"},{\"attributes\":{\"active_drag\":\"auto\",\"active_inspect\":\"auto\",\"active_multi\":null,\"active_scroll\":\"auto\",\"active_tap\":\"auto\",\"tools\":[{\"id\":\"1818\",\"type\":\"PanTool\"},{\"id\":\"1819\",\"type\":\"WheelZoomTool\"},{\"id\":\"1820\",\"type\":\"BoxZoomTool\"},{\"id\":\"1821\",\"type\":\"SaveTool\"},{\"id\":\"1822\",\"type\":\"ResetTool\"},{\"id\":\"1823\",\"type\":\"HelpTool\"}]},\"id\":\"1824\",\"type\":\"Toolbar\"},{\"attributes\":{},\"id\":\"1942\",\"type\":\"UnionRenderers\"},{\"attributes\":{\"months\":[0,1,2,3,4,5,6,7,8,9,10,11]},\"id\":\"1932\",\"type\":\"MonthsTicker\"},{\"attributes\":{},\"id\":\"1943\",\"type\":\"Selection\"},{\"attributes\":{\"days\":[1,15]},\"id\":\"1931\",\"type\":\"DaysTicker\"},{\"attributes\":{\"months\":[0,6]},\"id\":\"1935\",\"type\":\"MonthsTicker\"},{\"attributes\":{\"source\":{\"id\":\"1831\",\"type\":\"ColumnDataSource\"}},\"id\":\"1835\",\"type\":\"CDSView\"},{\"attributes\":{\"line_color\":\"#1f77b4\",\"line_width\":2,\"x\":{\"field\":\"x\"},\"y\":{\"field\":\"y\"}},\"id\":\"1832\",\"type\":\"Line\"},{\"attributes\":{\"base\":60,\"mantissas\":[1,2,5,10,15,20,30],\"max_interval\":1800000.0,\"min_interval\":1000.0,\"num_minor_ticks\":0},\"id\":\"1926\",\"type\":\"AdaptiveTicker\"},{\"attributes\":{},\"id\":\"1822\",\"type\":\"ResetTool\"},{\"attributes\":{},\"id\":\"1806\",\"type\":\"LinearScale\"},{\"attributes\":{},\"id\":\"1814\",\"type\":\"BasicTicker\"},{\"attributes\":{\"bottom_units\":\"screen\",\"fill_alpha\":{\"value\":0.5},\"fill_color\":{\"value\":\"lightgrey\"},\"left_units\":\"screen\",\"level\":\"overlay\",\"line_alpha\":{\"value\":1.0},\"line_color\":{\"value\":\"black\"},\"line_dash\":[4,4],\"line_width\":{\"value\":2},\"render_mode\":\"css\",\"right_units\":\"screen\",\"top_units\":\"screen\"},\"id\":\"1937\",\"type\":\"BoxAnnotation\"},{\"attributes\":{},\"id\":\"1936\",\"type\":\"YearsTicker\"},{\"attributes\":{\"data_source\":{\"id\":\"1841\",\"type\":\"ColumnDataSource\"},\"glyph\":{\"id\":\"1842\",\"type\":\"Triangle\"},\"hover_glyph\":null,\"muted_glyph\":null,\"nonselection_glyph\":{\"id\":\"1843\",\"type\":\"Triangle\"},\"selection_glyph\":null,\"view\":{\"id\":\"1845\",\"type\":\"CDSView\"}},\"id\":\"1844\",\"type\":\"GlyphRenderer\"},{\"attributes\":{\"formatter\":{\"id\":\"1924\",\"type\":\"BasicTickFormatter\"},\"ticker\":{\"id\":\"1814\",\"type\":\"BasicTicker\"}},\"id\":\"1813\",\"type\":\"LinearAxis\"},{\"attributes\":{\"base\":24,\"mantissas\":[1,2,4,6,8,12],\"max_interval\":43200000.0,\"min_interval\":3600000.0,\"num_minor_ticks\":0},\"id\":\"1927\",\"type\":\"AdaptiveTicker\"},{\"attributes\":{\"angle\":{\"units\":\"rad\",\"value\":3.141592653589793},\"fill_alpha\":{\"value\":0.1},\"fill_color\":{\"value\":\"#1f77b4\"},\"line_alpha\":{\"value\":0.1},\"line_color\":{\"value\":\"#1f77b4\"},\"size\":{\"units\":\"screen\",\"value\":10},\"x\":{\"field\":\"x\"},\"y\":{\"field\":\"y\"}},\"id\":\"1843\",\"type\":\"Triangle\"},{\"attributes\":{\"mantissas\":[1,2,5],\"max_interval\":500.0,\"num_minor_ticks\":0},\"id\":\"1925\",\"type\":\"AdaptiveTicker\"},{\"attributes\":{\"overlay\":{\"id\":\"1937\",\"type\":\"BoxAnnotation\"}},\"id\":\"1820\",\"type\":\"BoxZoomTool\"},{\"attributes\":{\"source\":{\"id\":\"1841\",\"type\":\"ColumnDataSource\"}},\"id\":\"1845\",\"type\":\"CDSView\"},{\"attributes\":{},\"id\":\"1818\",\"type\":\"PanTool\"},{\"attributes\":{\"callback\":null,\"data\":{\"x\":{\"__ndarray__\":\"AABAIWOddkIAAACHtZ12QgAAwOwHnnZCAACAUlqedkIAAEC4rJ52QgAAgOmjn3ZCAABAT/afdkIAAAC1SKB2QgAAwBqboHZCAACAgO2gdkIAAMCx5KF2QgAAgBc3onZCAABAfYmidkIAAADj26J2QgAAAHolpHZCAADA33ekdkIAAIBFyqR2QgAAQKscpXZCAAAAEW+ldkIAAEBCZqZ2QgAAAKi4pnZCAADADQundkIAAIBzXad2QgAAQNmvp3ZCAACACqeodkIAAEBw+ah2QgAAANZLqXZCAADAO56pdkIAAICh8Kl2QgAAwNLnqnZCAACAODqrdkIAAECejKt2QgAAAATfq3ZCAADAaTGsdkIAAACbKK12QgAAwAB7rXZCAACAZs2tdkIAAEDMH652QgAAADJyrnZCAAAAybuvdkIAAMAuDrB2QgAAgJRgsHZCAABA+rKwdkIAAIArqrF2QgAAQJH8sXZCAAAA906ydkIAAMBcobJ2QgAAgMLzsnZCAADA8+qzdkIAAIBZPbR2QgAAQL+PtHZCAAAAJeK0dkIAAMCKNLV2QgAAALwrtnZCAADAIX62dkIAAICH0LZ2QgAAQO0it3ZCAAAAU3W3dkIAAECEbLh2QgAAAOq+uHZCAADATxG5dkIAAIC1Y7l2QgAAQBu2uXZCAACATK26dkIAAECy/7p2QgAAABhSu3ZCAACA4/a7dkIAAMAU7rx2QgAAgHpAvXZCAABA4JK9dkIAAABG5b12QgAAwKs3vnZCAAAA3S6/dkIAAMBCgb92QgAAgKjTv3ZCAABADibAdkIAAAB0eMB2QgAAQKVvwXZCAAAAC8LBdkIAAMBwFMJ2QgAAgNZmwnZCAABAPLnCdkIAAIBtsMN2QgAAQNMCxHZCAAAAOVXEdkIAAMCep8R2QgAAgAT6xHZCAADANfHFdkIAAICbQ8Z2QgAAQAGWxnZCAAAAZ+jGdkIAAMDMOsd2QgAAAP4xyHZCAADAY4TIdkIAAIDJ1sh2QgAAQC8pyXZCAAAAlXvJdkIAAEDGcsp2QgAAACzFynZCAADAkRfLdkIAAID3act2QgAAQF28y3ZCAACAjrPMdkIAAED0Bc12QgAAAFpYzXZCAADAv6rNdkIAAIAl/c12QgAAgLxGz3ZCAABAIpnPdkIAAACI6892QgAAwO090HZCAAAAHzXRdkIAAMCEh9F2QgAAgOrZ0XZCAABAUCzSdkIAAAC2ftJ2QgAAQOd103ZCAAAATcjTdkIAAMCyGtR2QgAAgBht1HZCAABAfr/UdkIAAICvttV2QgAAQBUJ1nZCAAAAe1vWdkIAAMDgrdZ2QgAAgEYA13ZCAADAd/fXdkI=\",\"dtype\":\"float64\",\"shape\":[127]},\"y\":{\"__ndarray__\":\"AAAAQIy8ZkAAAAAAitNmQAAAACD/hmdAAAAAIIB7Z0AAAADAZdFnQAAAAIA47GdAAAAAwG6bZ0AAAACgHvZnQAAAAMA85GdAAAAAwGGzZ0AAAADA0glnQAAAAIDneWdAAAAA4IZcZ0AAAAAg6jxnQAAAAOA0gmdAAAAA4HTIZ0AAAABAbNhnQAAAAIBkUGdAAAAAwMA2ZkAAAABgWV5mQAAAAOCsk2ZAAAAAYMCCZkAAAAAgm9lmQAAAAMDb02ZAAAAAIPRuZkAAAACAu5dlQAAAAOCYsWVAAAAA4H06ZUAAAACgvg5lQAAAAGCcw2NAAAAAAD82ZEAAAACgsedjQAAAACAs+2NAAAAAIE2GY0AAAADAqu1iQAAAAIBcV2NAAAAAQAn8YkAAAABgNWBiQAAAAKDqGmJAAAAAAM3gYUAAAADgUoFhQAAAACAeX2FAAAAAAG/qYEAAAAAAurRgQAAAAIB522FAAAAAQH2kYUAAAAAAafRhQAAAAEBlK2JAAAAAABCJYkAAAADAOtNiQAAAAADGQWJAAAAAwKCDYkAAAAAg5w9iQAAAAOBeHGJAAAAAgFIXY0AAAACg/h5jQAAAAOBSPmNAAAAAgITzYkAAAAAAShBjQAAAAACR6mJAAAAAwEfjY0AAAADAMWJkQAAAAKApgmRAAAAAgC7AZEAAAADgOUJkQAAAAIDZUmRAAAAAIEoCZEAAAADAvqFjQAAAACDxpGNAAAAA4Nr8Y0AAAADAssNkQAAAAEA37mRAAAAAwFjjZEAAAADgRd1kQAAAAIBZMWVAAAAA4F9AZUAAAAAAwAhlQAAAAKDRZGVAAAAAwI/vZUAAAABgd09mQAAAAGCspmVAAAAAQLPcZUAAAABAtdRlQAAAAADZ6GVAAAAAYLMRZUAAAACgOJhkQAAAAMD6IGRAAAAAIILUYkAAAAAAYQZjQAAAAECcN2NAAAAAwE/DY0AAAACA4UBjQAAAAICb6WJAAAAAgKl8Y0AAAADAfb1iQAAAAKDuk2JAAAAA4N7sY0AAAABAjlNlQAAAACCH9mRAAAAAAPFhZUAAAAAA72llQAAAAIDwSGRAAAAAACqpZEAAAADgejRkQAAAAEAKJ2RAAAAAAADgZEAAAADgUfBkQAAAAKBwhWRAAAAA4FEYZUAAAAAgrndmQAAAAMDMVGZAAAAAAACQZkAAAACAwuVmQAAAAGCPCmdAAAAA4KMIZ0AAAACAFL5mQAAAAGC4hmZAAAAAgD2iZkAAAAAgXH9mQAAAAIAUHmZAAAAAgBSWZUAAAABA4dplQAAAAMD1kGVAAAAAIFxHZkAAAABA4SpmQAAAAOBReGVAAAAAgD3CZUA=\",\"dtype\":\"float64\",\"shape\":[127]}},\"selected\":{\"id\":\"1939\",\"type\":\"Selection\"},\"selection_policy\":{\"id\":\"1938\",\"type\":\"UnionRenderers\"}},\"id\":\"1831\",\"type\":\"ColumnDataSource\"},{\"attributes\":{\"callback\":null},\"id\":\"1800\",\"type\":\"DataRange1d\"},{\"attributes\":{},\"id\":\"1819\",\"type\":\"WheelZoomTool\"},{\"attributes\":{\"callback\":null,\"data\":{\"x\":{\"__ndarray__\":\"AAAA/jHIdkIAAMB399d2Qg==\",\"dtype\":\"float64\",\"shape\":[2]},\"y\":{\"__ndarray__\":\"AAAAgJvpYkAAAACAPcJlQA==\",\"dtype\":\"float64\",\"shape\":[2]}},\"selected\":{\"id\":\"1943\",\"type\":\"Selection\"},\"selection_policy\":{\"id\":\"1942\",\"type\":\"UnionRenderers\"}},\"id\":\"1841\",\"type\":\"ColumnDataSource\"},{\"attributes\":{\"days\":[1,2,3,4,5,6,7,8,9,10,11,12,13,14,15,16,17,18,19,20,21,22,23,24,25,26,27,28,29,30,31]},\"id\":\"1928\",\"type\":\"DaysTicker\"},{\"attributes\":{},\"id\":\"1804\",\"type\":\"LinearScale\"},{\"attributes\":{\"data_source\":{\"id\":\"1836\",\"type\":\"ColumnDataSource\"},\"glyph\":{\"id\":\"1837\",\"type\":\"Triangle\"},\"hover_glyph\":null,\"muted_glyph\":null,\"nonselection_glyph\":{\"id\":\"1838\",\"type\":\"Triangle\"},\"selection_glyph\":null,\"view\":{\"id\":\"1840\",\"type\":\"CDSView\"}},\"id\":\"1839\",\"type\":\"GlyphRenderer\"},{\"attributes\":{\"data_source\":{\"id\":\"1831\",\"type\":\"ColumnDataSource\"},\"glyph\":{\"id\":\"1832\",\"type\":\"Line\"},\"hover_glyph\":null,\"muted_glyph\":null,\"nonselection_glyph\":{\"id\":\"1833\",\"type\":\"Line\"},\"selection_glyph\":null,\"view\":{\"id\":\"1835\",\"type\":\"CDSView\"}},\"id\":\"1834\",\"type\":\"GlyphRenderer\"},{\"attributes\":{\"ticker\":{\"id\":\"1809\",\"type\":\"DatetimeTicker\"}},\"id\":\"1812\",\"type\":\"Grid\"},{\"attributes\":{\"source\":{\"id\":\"1836\",\"type\":\"ColumnDataSource\"}},\"id\":\"1840\",\"type\":\"CDSView\"},{\"attributes\":{\"days\":[1,8,15,22]},\"id\":\"1930\",\"type\":\"DaysTicker\"},{\"attributes\":{},\"id\":\"1924\",\"type\":\"BasicTickFormatter\"},{\"attributes\":{\"angle\":{\"units\":\"rad\",\"value\":3.141592653589793},\"fill_alpha\":{\"value\":0.5},\"fill_color\":{\"value\":\"red\"},\"line_alpha\":{\"value\":0.5},\"line_color\":{\"value\":\"red\"},\"size\":{\"units\":\"screen\",\"value\":10},\"x\":{\"field\":\"x\"},\"y\":{\"field\":\"y\"}},\"id\":\"1842\",\"type\":\"Triangle\"},{\"attributes\":{\"callback\":null},\"id\":\"1802\",\"type\":\"DataRange1d\"},{\"attributes\":{},\"id\":\"1922\",\"type\":\"DatetimeTickFormatter\"}],\"root_ids\":[\"1799\"]},\"title\":\"Bokeh Application\",\"version\":\"1.3.4\"}};\n",
       "  var render_items = [{\"docid\":\"803b4231-fb5e-4077-a3c7-877e8a8c4341\",\"roots\":{\"1799\":\"28541004-2fd4-4f2d-9b7a-66d07c922ef1\"}}];\n",
       "  root.Bokeh.embed.embed_items_notebook(docs_json, render_items);\n",
       "\n",
       "  }\n",
       "  if (root.Bokeh !== undefined) {\n",
       "    embed_document(root);\n",
       "  } else {\n",
       "    var attempts = 0;\n",
       "    var timer = setInterval(function(root) {\n",
       "      if (root.Bokeh !== undefined) {\n",
       "        embed_document(root);\n",
       "        clearInterval(timer);\n",
       "      }\n",
       "      attempts++;\n",
       "      if (attempts > 100) {\n",
       "        console.log(\"Bokeh: ERROR: Unable to run BokehJS code because BokehJS library is missing\");\n",
       "        clearInterval(timer);\n",
       "      }\n",
       "    }, 10, root)\n",
       "  }\n",
       "})(window);"
      ],
      "application/vnd.bokehjs_exec.v0+json": ""
     },
     "metadata": {
      "application/vnd.bokehjs_exec.v0+json": {
       "id": "1799"
      }
     },
     "output_type": "display_data"
    }
   ],
   "source": [
    "show_strategy_actions(df_NVDA_macd)"
   ]
  },
  {
   "cell_type": "markdown",
   "metadata": {},
   "source": [
    "------------------\n",
    "\n",
    "# 3. Estrategia basada en ML"
   ]
  },
  {
   "cell_type": "code",
   "execution_count": 16,
   "metadata": {
    "ExecuteTime": {
     "end_time": "2019-11-01T15:24:16.383318Z",
     "start_time": "2019-11-01T15:24:16.022461Z"
    }
   },
   "outputs": [],
   "source": [
    "from sklearn.model_selection import TimeSeriesSplit"
   ]
  },
  {
   "cell_type": "markdown",
   "metadata": {},
   "source": [
    "### Calculamos la variable que vamos a querer predecir"
   ]
  },
  {
   "cell_type": "code",
   "execution_count": 17,
   "metadata": {
    "ExecuteTime": {
     "end_time": "2019-11-01T15:24:16.736208Z",
     "start_time": "2019-11-01T15:24:16.731368Z"
    }
   },
   "outputs": [],
   "source": [
    "def add_binary_target(df, days_window=-5, price_threshold=5):\n",
    "    df[\"target\"] = 0\n",
    "    df[\"price_diff\"] = (df.close.shift(days_window) - df.close).fillna(0)\n",
    "    # Si el precio va a aumentar más de un valor determinado, comprar (1).\n",
    "    df.loc[df[\"price_diff\"] > price_threshold, 'target'] = 1\n",
    "    # Si el precio va a bajar más de un valor determinado, vender (-1).\n",
    "    df.loc[df[\"price_diff\"] < -price_threshold, 'target'] = -1\n",
    "    \n",
    "    return df"
   ]
  },
  {
   "cell_type": "code",
   "execution_count": 19,
   "metadata": {
    "ExecuteTime": {
     "end_time": "2019-11-01T15:24:33.013010Z",
     "start_time": "2019-11-01T15:24:32.993606Z"
    }
   },
   "outputs": [
    {
     "data": {
      "text/html": [
       "<div>\n",
       "<style scoped>\n",
       "    .dataframe tbody tr th:only-of-type {\n",
       "        vertical-align: middle;\n",
       "    }\n",
       "\n",
       "    .dataframe tbody tr th {\n",
       "        vertical-align: top;\n",
       "    }\n",
       "\n",
       "    .dataframe thead th {\n",
       "        text-align: right;\n",
       "    }\n",
       "</style>\n",
       "<table border=\"1\" class=\"dataframe\">\n",
       "  <thead>\n",
       "    <tr style=\"text-align: right;\">\n",
       "      <th></th>\n",
       "      <th>close</th>\n",
       "      <th>target</th>\n",
       "      <th>price_diff</th>\n",
       "    </tr>\n",
       "    <tr>\n",
       "      <th>Date</th>\n",
       "      <th></th>\n",
       "      <th></th>\n",
       "      <th></th>\n",
       "    </tr>\n",
       "  </thead>\n",
       "  <tbody>\n",
       "    <tr>\n",
       "      <th>2019-10-23</th>\n",
       "      <td>195.089996</td>\n",
       "      <td>1</td>\n",
       "      <td>7.910004</td>\n",
       "    </tr>\n",
       "    <tr>\n",
       "      <th>2019-10-24</th>\n",
       "      <td>196.860001</td>\n",
       "      <td>0</td>\n",
       "      <td>4.160004</td>\n",
       "    </tr>\n",
       "    <tr>\n",
       "      <th>2019-10-25</th>\n",
       "      <td>204.539993</td>\n",
       "      <td>0</td>\n",
       "      <td>-2.119995</td>\n",
       "    </tr>\n",
       "    <tr>\n",
       "      <th>2019-10-28</th>\n",
       "      <td>206.789993</td>\n",
       "      <td>0</td>\n",
       "      <td>0.000000</td>\n",
       "    </tr>\n",
       "    <tr>\n",
       "      <th>2019-10-29</th>\n",
       "      <td>202.919998</td>\n",
       "      <td>0</td>\n",
       "      <td>0.000000</td>\n",
       "    </tr>\n",
       "    <tr>\n",
       "      <th>2019-10-30</th>\n",
       "      <td>203.000000</td>\n",
       "      <td>0</td>\n",
       "      <td>0.000000</td>\n",
       "    </tr>\n",
       "    <tr>\n",
       "      <th>2019-10-31</th>\n",
       "      <td>201.020004</td>\n",
       "      <td>0</td>\n",
       "      <td>0.000000</td>\n",
       "    </tr>\n",
       "    <tr>\n",
       "      <th>2019-11-01</th>\n",
       "      <td>202.419998</td>\n",
       "      <td>0</td>\n",
       "      <td>0.000000</td>\n",
       "    </tr>\n",
       "  </tbody>\n",
       "</table>\n",
       "</div>"
      ],
      "text/plain": [
       "                 close  target  price_diff\n",
       "Date                                      \n",
       "2019-10-23  195.089996       1    7.910004\n",
       "2019-10-24  196.860001       0    4.160004\n",
       "2019-10-25  204.539993       0   -2.119995\n",
       "2019-10-28  206.789993       0    0.000000\n",
       "2019-10-29  202.919998       0    0.000000\n",
       "2019-10-30  203.000000       0    0.000000\n",
       "2019-10-31  201.020004       0    0.000000\n",
       "2019-11-01  202.419998       0    0.000000"
      ]
     },
     "execution_count": 19,
     "metadata": {},
     "output_type": "execute_result"
    }
   ],
   "source": [
    "df_NVDA_with_ti_and_target = add_binary_target(df_NVDA_with_ti.copy())\n",
    "df_NVDA_with_ti_and_target.tail(8)[['close', 'target', 'price_diff']]"
   ]
  },
  {
   "cell_type": "code",
   "execution_count": 20,
   "metadata": {
    "ExecuteTime": {
     "end_time": "2019-11-01T15:24:41.665105Z",
     "start_time": "2019-11-01T15:24:41.661484Z"
    }
   },
   "outputs": [],
   "source": [
    "del df_NVDA_with_ti_and_target['price_diff']"
   ]
  },
  {
   "cell_type": "markdown",
   "metadata": {},
   "source": [
    "### Mostramos la cantidad de ejemplos en cada clase"
   ]
  },
  {
   "cell_type": "code",
   "execution_count": 21,
   "metadata": {
    "ExecuteTime": {
     "end_time": "2019-11-01T15:24:44.031869Z",
     "start_time": "2019-11-01T15:24:44.023085Z"
    }
   },
   "outputs": [
    {
     "data": {
      "text/plain": [
       " 0    4756\n",
       " 1     278\n",
       "-1     197\n",
       "Name: target, dtype: int64"
      ]
     },
     "execution_count": 21,
     "metadata": {},
     "output_type": "execute_result"
    }
   ],
   "source": [
    "df_NVDA_with_ti_and_target.target.value_counts()"
   ]
  },
  {
   "cell_type": "markdown",
   "metadata": {},
   "source": [
    "### Desarrollo estrategia y generación de predicciones"
   ]
  },
  {
   "cell_type": "code",
   "execution_count": 22,
   "metadata": {
    "ExecuteTime": {
     "end_time": "2019-11-01T15:24:49.850704Z",
     "start_time": "2019-11-01T15:24:49.844012Z"
    }
   },
   "outputs": [],
   "source": [
    "def model_based(df, prob_threshold=0.9):\n",
    "    open_position = False\n",
    "    \n",
    "    df['order'] = 'hold'\n",
    "    \n",
    "    for _ix, (index, row) in enumerate(df.iterrows()):\n",
    "        # Si el modelo nos da una probabilidad de compra fuerte, \"comprar\".\n",
    "        if(row.pred_proba_buy >= prob_threshold) & (open_position == False):\n",
    "            open_position = True\n",
    "            df.loc[index, 'order'] = 'buy'\n",
    "        else:\n",
    "            # Si el modelo nos da una probabilidad de venta fuerte, \"vender\".\n",
    "            if(row.pred_proba_sell >= prob_threshold) & (open_position == True):\n",
    "                open_position = False\n",
    "                df.loc[index, 'order'] = 'sell'\n",
    "        \n",
    "    if(open_position):\n",
    "        df.iloc[-1, df.columns.get_loc('order')] = 'sell'\n",
    "    \n",
    "    return df"
   ]
  },
  {
   "cell_type": "code",
   "execution_count": 23,
   "metadata": {
    "ExecuteTime": {
     "end_time": "2019-11-01T15:24:52.548394Z",
     "start_time": "2019-11-01T15:24:52.536678Z"
    },
    "hide_input": false
   },
   "outputs": [],
   "source": [
    "def add_model_predictions(df, model, target_column_name='target', use_scaler=False, max_train_size=1000):\n",
    "    tscv = TimeSeriesSplit(n_splits=int(max_train_size/5), max_train_size=max_train_size)\n",
    "    df_experimentation = df.copy()\n",
    "    \n",
    "    X = df_experimentation[[c for c in df_experimentation.columns if c != target_column_name]]\n",
    "    y = df_experimentation[target_column_name]\n",
    "    \n",
    "    df['pred_proba_sell'] = 0\n",
    "    df['pred_proba_buy'] = 0\n",
    "    \n",
    "    for _ix, (train_index, test_index) in enumerate(tscv.split(X)):\n",
    "        X_train, X_test = X.iloc[train_index], X.iloc[test_index]\n",
    "        y_train, y_test = y.iloc[train_index], y.iloc[test_index]\n",
    "        \n",
    "        if(y_train.nunique() > 1):       \n",
    "            if(use_scaler):\n",
    "                from sklearn.preprocessing import StandardScaler\n",
    "                scaler = StandardScaler()\n",
    "                scaler.fit(X_train)\n",
    "                X_train = scaler.transform(X_train)\n",
    "                X_test = scaler.transform(X_test)\n",
    "\n",
    "            model.fit(X_train, y_train)\n",
    "\n",
    "            y_pred = model.predict_proba(X_test)\n",
    "\n",
    "            sell_class_index = np.where(-1 == model.classes_)[0]\n",
    "\n",
    "            if(len(sell_class_index) > 0):\n",
    "                df.iloc[test_index, df.columns.get_loc('pred_proba_sell')] = y_pred[:, sell_class_index]\n",
    "\n",
    "            buy_class_index = np.where(1 == model.classes_)[0]\n",
    "\n",
    "            if(len(buy_class_index) > 0):\n",
    "                df.iloc[test_index, df.columns.get_loc('pred_proba_buy')] = y_pred[:, buy_class_index]\n",
    "    \n",
    "    return df"
   ]
  },
  {
   "cell_type": "code",
   "execution_count": 41,
   "metadata": {
    "ExecuteTime": {
     "end_time": "2019-11-01T15:29:13.445114Z",
     "start_time": "2019-11-01T15:27:33.779232Z"
    },
    "hide_input": false
   },
   "outputs": [
    {
     "data": {
      "text/html": [
       "<div>\n",
       "<style scoped>\n",
       "    .dataframe tbody tr th:only-of-type {\n",
       "        vertical-align: middle;\n",
       "    }\n",
       "\n",
       "    .dataframe tbody tr th {\n",
       "        vertical-align: top;\n",
       "    }\n",
       "\n",
       "    .dataframe thead th {\n",
       "        text-align: right;\n",
       "    }\n",
       "</style>\n",
       "<table border=\"1\" class=\"dataframe\">\n",
       "  <thead>\n",
       "    <tr style=\"text-align: right;\">\n",
       "      <th></th>\n",
       "      <th>open</th>\n",
       "      <th>high</th>\n",
       "      <th>low</th>\n",
       "      <th>close</th>\n",
       "      <th>volume</th>\n",
       "      <th>dividends</th>\n",
       "      <th>stock_splits</th>\n",
       "      <th>ti_macd</th>\n",
       "      <th>ti_macd_diff</th>\n",
       "      <th>ti_macd_dm1</th>\n",
       "      <th>...</th>\n",
       "      <th>ti_cmf_dm2</th>\n",
       "      <th>ti_vpi</th>\n",
       "      <th>ti_bb</th>\n",
       "      <th>ti_atr</th>\n",
       "      <th>ti_ic</th>\n",
       "      <th>ti_mfi</th>\n",
       "      <th>ti_cr</th>\n",
       "      <th>target</th>\n",
       "      <th>pred_proba_sell</th>\n",
       "      <th>pred_proba_buy</th>\n",
       "    </tr>\n",
       "    <tr>\n",
       "      <th>Date</th>\n",
       "      <th></th>\n",
       "      <th></th>\n",
       "      <th></th>\n",
       "      <th></th>\n",
       "      <th></th>\n",
       "      <th></th>\n",
       "      <th></th>\n",
       "      <th></th>\n",
       "      <th></th>\n",
       "      <th></th>\n",
       "      <th></th>\n",
       "      <th></th>\n",
       "      <th></th>\n",
       "      <th></th>\n",
       "      <th></th>\n",
       "      <th></th>\n",
       "      <th></th>\n",
       "      <th></th>\n",
       "      <th></th>\n",
       "      <th></th>\n",
       "      <th></th>\n",
       "    </tr>\n",
       "  </thead>\n",
       "  <tbody>\n",
       "    <tr>\n",
       "      <th>2019-10-30</th>\n",
       "      <td>204.000000</td>\n",
       "      <td>204.229996</td>\n",
       "      <td>200.259995</td>\n",
       "      <td>203.000000</td>\n",
       "      <td>5139900.0</td>\n",
       "      <td>0.0</td>\n",
       "      <td>0.0</td>\n",
       "      <td>6.932818</td>\n",
       "      <td>196.067182</td>\n",
       "      <td>6.939527</td>\n",
       "      <td>...</td>\n",
       "      <td>-0.067875</td>\n",
       "      <td>-96234.664910</td>\n",
       "      <td>0.0</td>\n",
       "      <td>0.0</td>\n",
       "      <td>193.654999</td>\n",
       "      <td>68.183480</td>\n",
       "      <td>0.039418</td>\n",
       "      <td>0</td>\n",
       "      <td>0.376013</td>\n",
       "      <td>0.519015</td>\n",
       "    </tr>\n",
       "    <tr>\n",
       "      <th>2019-10-31</th>\n",
       "      <td>202.160004</td>\n",
       "      <td>203.000000</td>\n",
       "      <td>197.809998</td>\n",
       "      <td>201.020004</td>\n",
       "      <td>5239600.0</td>\n",
       "      <td>0.0</td>\n",
       "      <td>0.0</td>\n",
       "      <td>6.690607</td>\n",
       "      <td>194.329398</td>\n",
       "      <td>6.932818</td>\n",
       "      <td>...</td>\n",
       "      <td>-0.038742</td>\n",
       "      <td>-49078.926528</td>\n",
       "      <td>0.0</td>\n",
       "      <td>0.0</td>\n",
       "      <td>194.537498</td>\n",
       "      <td>61.743817</td>\n",
       "      <td>-0.980155</td>\n",
       "      <td>0</td>\n",
       "      <td>0.347160</td>\n",
       "      <td>0.550026</td>\n",
       "    </tr>\n",
       "    <tr>\n",
       "      <th>2019-11-01</th>\n",
       "      <td>199.600006</td>\n",
       "      <td>203.889999</td>\n",
       "      <td>198.610001</td>\n",
       "      <td>202.419998</td>\n",
       "      <td>2934750.0</td>\n",
       "      <td>0.0</td>\n",
       "      <td>0.0</td>\n",
       "      <td>6.536274</td>\n",
       "      <td>195.883724</td>\n",
       "      <td>6.690607</td>\n",
       "      <td>...</td>\n",
       "      <td>-0.056895</td>\n",
       "      <td>-30666.426350</td>\n",
       "      <td>0.0</td>\n",
       "      <td>0.0</td>\n",
       "      <td>194.537498</td>\n",
       "      <td>65.539932</td>\n",
       "      <td>0.694031</td>\n",
       "      <td>0</td>\n",
       "      <td>0.271752</td>\n",
       "      <td>0.596937</td>\n",
       "    </tr>\n",
       "  </tbody>\n",
       "</table>\n",
       "<p>3 rows × 26 columns</p>\n",
       "</div>"
      ],
      "text/plain": [
       "                  open        high         low       close     volume  \\\n",
       "Date                                                                    \n",
       "2019-10-30  204.000000  204.229996  200.259995  203.000000  5139900.0   \n",
       "2019-10-31  202.160004  203.000000  197.809998  201.020004  5239600.0   \n",
       "2019-11-01  199.600006  203.889999  198.610001  202.419998  2934750.0   \n",
       "\n",
       "            dividends  stock_splits   ti_macd  ti_macd_diff  ti_macd_dm1  ...  \\\n",
       "Date                                                                      ...   \n",
       "2019-10-30        0.0           0.0  6.932818    196.067182     6.939527  ...   \n",
       "2019-10-31        0.0           0.0  6.690607    194.329398     6.932818  ...   \n",
       "2019-11-01        0.0           0.0  6.536274    195.883724     6.690607  ...   \n",
       "\n",
       "            ti_cmf_dm2        ti_vpi  ti_bb  ti_atr       ti_ic     ti_mfi  \\\n",
       "Date                                                                         \n",
       "2019-10-30   -0.067875 -96234.664910    0.0     0.0  193.654999  68.183480   \n",
       "2019-10-31   -0.038742 -49078.926528    0.0     0.0  194.537498  61.743817   \n",
       "2019-11-01   -0.056895 -30666.426350    0.0     0.0  194.537498  65.539932   \n",
       "\n",
       "               ti_cr  target  pred_proba_sell  pred_proba_buy  \n",
       "Date                                                           \n",
       "2019-10-30  0.039418       0         0.376013        0.519015  \n",
       "2019-10-31 -0.980155       0         0.347160        0.550026  \n",
       "2019-11-01  0.694031       0         0.271752        0.596937  \n",
       "\n",
       "[3 rows x 26 columns]"
      ]
     },
     "execution_count": 41,
     "metadata": {},
     "output_type": "execute_result"
    }
   ],
   "source": [
    "from sklearn.ensemble import RandomForestClassifier\n",
    "model = RandomForestClassifier(class_weight='balanced', n_estimators=100, max_depth=5)\n",
    "df_with_preds = add_model_predictions(df_NVDA_with_ti_and_target.tail(3000).copy(), \n",
    "                                      model,\n",
    "                                      max_train_size=2500)\n",
    "df_with_preds.tail(3)"
   ]
  },
  {
   "cell_type": "code",
   "execution_count": 59,
   "metadata": {
    "ExecuteTime": {
     "end_time": "2019-11-01T15:30:53.344818Z",
     "start_time": "2019-11-01T15:30:53.272526Z"
    }
   },
   "outputs": [
    {
     "data": {
      "text/html": [
       "<div>\n",
       "<style scoped>\n",
       "    .dataframe tbody tr th:only-of-type {\n",
       "        vertical-align: middle;\n",
       "    }\n",
       "\n",
       "    .dataframe tbody tr th {\n",
       "        vertical-align: top;\n",
       "    }\n",
       "\n",
       "    .dataframe thead th {\n",
       "        text-align: right;\n",
       "    }\n",
       "</style>\n",
       "<table border=\"1\" class=\"dataframe\">\n",
       "  <thead>\n",
       "    <tr style=\"text-align: right;\">\n",
       "      <th></th>\n",
       "      <th>close</th>\n",
       "      <th>order</th>\n",
       "    </tr>\n",
       "    <tr>\n",
       "      <th>Date</th>\n",
       "      <th></th>\n",
       "      <th></th>\n",
       "    </tr>\n",
       "  </thead>\n",
       "  <tbody>\n",
       "    <tr>\n",
       "      <th>2019-04-01</th>\n",
       "      <td>181.892120</td>\n",
       "      <td>buy</td>\n",
       "    </tr>\n",
       "    <tr>\n",
       "      <th>2019-04-24</th>\n",
       "      <td>190.763214</td>\n",
       "      <td>sell</td>\n",
       "    </tr>\n",
       "    <tr>\n",
       "      <th>2019-04-25</th>\n",
       "      <td>186.512268</td>\n",
       "      <td>buy</td>\n",
       "    </tr>\n",
       "    <tr>\n",
       "      <th>2019-04-26</th>\n",
       "      <td>177.711029</td>\n",
       "      <td>sell</td>\n",
       "    </tr>\n",
       "    <tr>\n",
       "      <th>2019-04-29</th>\n",
       "      <td>178.948410</td>\n",
       "      <td>buy</td>\n",
       "    </tr>\n",
       "    <tr>\n",
       "      <th>...</th>\n",
       "      <td>...</td>\n",
       "      <td>...</td>\n",
       "    </tr>\n",
       "    <tr>\n",
       "      <th>2019-09-24</th>\n",
       "      <td>172.529999</td>\n",
       "      <td>sell</td>\n",
       "    </tr>\n",
       "    <tr>\n",
       "      <th>2019-09-25</th>\n",
       "      <td>178.229996</td>\n",
       "      <td>buy</td>\n",
       "    </tr>\n",
       "    <tr>\n",
       "      <th>2019-09-26</th>\n",
       "      <td>177.339996</td>\n",
       "      <td>sell</td>\n",
       "    </tr>\n",
       "    <tr>\n",
       "      <th>2019-09-27</th>\n",
       "      <td>171.759995</td>\n",
       "      <td>buy</td>\n",
       "    </tr>\n",
       "    <tr>\n",
       "      <th>2019-09-30</th>\n",
       "      <td>174.070007</td>\n",
       "      <td>sell</td>\n",
       "    </tr>\n",
       "  </tbody>\n",
       "</table>\n",
       "<p>70 rows × 2 columns</p>\n",
       "</div>"
      ],
      "text/plain": [
       "                 close order\n",
       "Date                        \n",
       "2019-04-01  181.892120   buy\n",
       "2019-04-24  190.763214  sell\n",
       "2019-04-25  186.512268   buy\n",
       "2019-04-26  177.711029  sell\n",
       "2019-04-29  178.948410   buy\n",
       "...                ...   ...\n",
       "2019-09-24  172.529999  sell\n",
       "2019-09-25  178.229996   buy\n",
       "2019-09-26  177.339996  sell\n",
       "2019-09-27  171.759995   buy\n",
       "2019-09-30  174.070007  sell\n",
       "\n",
       "[70 rows x 2 columns]"
      ]
     },
     "execution_count": 59,
     "metadata": {},
     "output_type": "execute_result"
    }
   ],
   "source": [
    "filter_ = (df_with_preds.index >= pd.datetime(2019, 4, 1)) & (df_with_preds.index <= pd.datetime(2019, 9, 30))\n",
    "df_with_strategy = model_based(df_with_preds[filter_].copy(), prob_threshold=0.4)\n",
    "df_with_strategy[df_with_strategy.order != 'hold'][['close', 'order']]"
   ]
  },
  {
   "cell_type": "code",
   "execution_count": 60,
   "metadata": {
    "ExecuteTime": {
     "end_time": "2019-11-01T15:30:54.080306Z",
     "start_time": "2019-11-01T15:30:54.072801Z"
    }
   },
   "outputs": [
    {
     "data": {
      "text/plain": [
       "15.059860229492188"
      ]
     },
     "execution_count": 60,
     "metadata": {},
     "output_type": "execute_result"
    }
   ],
   "source": [
    "pnl_ml = get_pnl(df_with_strategy)\n",
    "pnl_ml"
   ]
  },
  {
   "cell_type": "code",
   "execution_count": 61,
   "metadata": {
    "ExecuteTime": {
     "end_time": "2019-11-01T15:30:55.509490Z",
     "start_time": "2019-11-01T15:30:55.390698Z"
    }
   },
   "outputs": [
    {
     "data": {
      "text/html": [
       "\n",
       "\n",
       "\n",
       "\n",
       "\n",
       "\n",
       "  <div class=\"bk-root\" id=\"95cb9459-f839-453f-a9c2-95509be49a30\" data-root-id=\"5874\"></div>\n"
      ]
     },
     "metadata": {},
     "output_type": "display_data"
    },
    {
     "data": {
      "application/javascript": [
       "(function(root) {\n",
       "  function embed_document(root) {\n",
       "    \n",
       "  var docs_json = {\"cfb57962-e40b-40d4-bb16-106c6cc79a9b\":{\"roots\":{\"references\":[{\"attributes\":{\"below\":[{\"id\":\"5883\",\"type\":\"DatetimeAxis\"}],\"center\":[{\"id\":\"5887\",\"type\":\"Grid\"},{\"id\":\"5892\",\"type\":\"Grid\"}],\"left\":[{\"id\":\"5888\",\"type\":\"LinearAxis\"}],\"plot_height\":300,\"plot_width\":900,\"renderers\":[{\"id\":\"5909\",\"type\":\"GlyphRenderer\"},{\"id\":\"5914\",\"type\":\"GlyphRenderer\"},{\"id\":\"5919\",\"type\":\"GlyphRenderer\"}],\"title\":{\"id\":\"6244\",\"type\":\"Title\"},\"toolbar\":{\"id\":\"5899\",\"type\":\"Toolbar\"},\"x_range\":{\"id\":\"5875\",\"type\":\"DataRange1d\"},\"x_scale\":{\"id\":\"5879\",\"type\":\"LinearScale\"},\"y_range\":{\"id\":\"5877\",\"type\":\"DataRange1d\"},\"y_scale\":{\"id\":\"5881\",\"type\":\"LinearScale\"}},\"id\":\"5874\",\"subtype\":\"Figure\",\"type\":\"Plot\"},{\"attributes\":{},\"id\":\"5879\",\"type\":\"LinearScale\"},{\"attributes\":{\"callback\":null,\"data\":{\"x\":{\"__ndarray__\":\"AACARcqkdkIAAAARb6V2QgAAANZLqXZCAACAofCpdkIAAIA4Oqt2QgAAAATfq3ZCAAAAmyitdkIAAAAycq52QgAAgHpAvXZCAAAARuW9dkIAAEAOJsB2QgAAwHAUwnZCAABAPLnCdkIAAEDTAsR2QgAAwJ6nxHZCAADANfHFdkIAAEABlsZ2QgAAwMw6x3ZCAADAY4TIdkIAAEAvKcl2QgAAQMZyynZCAADAkRfLdkIAAEBdvMt2QgAAQPQFzXZCAADAv6rNdkIAAEAimc92QgAAwO090HZCAADAhIfRdkIAAEBQLNJ2QgAAQOd103ZCAADAshrUdkIAAEB+v9R2QgAAQBUJ1nZCAADA4K3WdkIAAMB399d2Qg==\",\"dtype\":\"float64\",\"shape\":[35]},\"y\":{\"__ndarray__\":\"AAAAQGzYZ0AAAADAwDZmQAAAAOCYsWVAAAAAoL4OZUAAAAAAPzZkQAAAACAs+2NAAAAAwKrtYkAAAACg6hpiQAAAACDxpGNAAAAAwLLDZEAAAADgX0BlQAAAAGB3T2ZAAAAAQLPcZUAAAAAA2ehlQAAAAKA4mGRAAAAAIILUYkAAAABAnDdjQAAAAIDhQGNAAAAAgKl8Y0AAAACg7pNiQAAAAECOU2VAAAAAAPFhZUAAAACA8EhkQAAAAOB6NGRAAAAAAADgZEAAAADgURhlQAAAAMDMVGZAAAAAgMLlZkAAAADgowhnQAAAAGC4hmZAAAAAIFx/ZkAAAACAFJZlQAAAAMD1kGVAAAAAQOEqZkAAAACAPcJlQA==\",\"dtype\":\"float64\",\"shape\":[35]}},\"selected\":{\"id\":\"6268\",\"type\":\"Selection\"},\"selection_policy\":{\"id\":\"6267\",\"type\":\"UnionRenderers\"}},\"id\":\"5916\",\"type\":\"ColumnDataSource\"},{\"attributes\":{},\"id\":\"6247\",\"type\":\"DatetimeTickFormatter\"},{\"attributes\":{\"months\":[0,4,8]},\"id\":\"6259\",\"type\":\"MonthsTicker\"},{\"attributes\":{},\"id\":\"5896\",\"type\":\"SaveTool\"},{\"attributes\":{\"angle\":{\"units\":\"rad\",\"value\":3.141592653589793},\"fill_alpha\":{\"value\":0.5},\"fill_color\":{\"value\":\"red\"},\"line_alpha\":{\"value\":0.5},\"line_color\":{\"value\":\"red\"},\"size\":{\"units\":\"screen\",\"value\":10},\"x\":{\"field\":\"x\"},\"y\":{\"field\":\"y\"}},\"id\":\"5917\",\"type\":\"Triangle\"},{\"attributes\":{},\"id\":\"5898\",\"type\":\"HelpTool\"},{\"attributes\":{\"months\":[0,6]},\"id\":\"6260\",\"type\":\"MonthsTicker\"},{\"attributes\":{\"active_drag\":\"auto\",\"active_inspect\":\"auto\",\"active_multi\":null,\"active_scroll\":\"auto\",\"active_tap\":\"auto\",\"tools\":[{\"id\":\"5893\",\"type\":\"PanTool\"},{\"id\":\"5894\",\"type\":\"WheelZoomTool\"},{\"id\":\"5895\",\"type\":\"BoxZoomTool\"},{\"id\":\"5896\",\"type\":\"SaveTool\"},{\"id\":\"5897\",\"type\":\"ResetTool\"},{\"id\":\"5898\",\"type\":\"HelpTool\"}]},\"id\":\"5899\",\"type\":\"Toolbar\"},{\"attributes\":{},\"id\":\"6261\",\"type\":\"YearsTicker\"},{\"attributes\":{\"angle\":{\"units\":\"rad\",\"value\":3.141592653589793},\"fill_alpha\":{\"value\":0.1},\"fill_color\":{\"value\":\"#1f77b4\"},\"line_alpha\":{\"value\":0.1},\"line_color\":{\"value\":\"#1f77b4\"},\"size\":{\"units\":\"screen\",\"value\":10},\"x\":{\"field\":\"x\"},\"y\":{\"field\":\"y\"}},\"id\":\"5918\",\"type\":\"Triangle\"},{\"attributes\":{\"data_source\":{\"id\":\"5906\",\"type\":\"ColumnDataSource\"},\"glyph\":{\"id\":\"5907\",\"type\":\"Line\"},\"hover_glyph\":null,\"muted_glyph\":null,\"nonselection_glyph\":{\"id\":\"5908\",\"type\":\"Line\"},\"selection_glyph\":null,\"view\":{\"id\":\"5910\",\"type\":\"CDSView\"}},\"id\":\"5909\",\"type\":\"GlyphRenderer\"},{\"attributes\":{\"bottom_units\":\"screen\",\"fill_alpha\":{\"value\":0.5},\"fill_color\":{\"value\":\"lightgrey\"},\"left_units\":\"screen\",\"level\":\"overlay\",\"line_alpha\":{\"value\":1.0},\"line_color\":{\"value\":\"black\"},\"line_dash\":[4,4],\"line_width\":{\"value\":2},\"render_mode\":\"css\",\"right_units\":\"screen\",\"top_units\":\"screen\"},\"id\":\"6262\",\"type\":\"BoxAnnotation\"},{\"attributes\":{\"data_source\":{\"id\":\"5916\",\"type\":\"ColumnDataSource\"},\"glyph\":{\"id\":\"5917\",\"type\":\"Triangle\"},\"hover_glyph\":null,\"muted_glyph\":null,\"nonselection_glyph\":{\"id\":\"5918\",\"type\":\"Triangle\"},\"selection_glyph\":null,\"view\":{\"id\":\"5920\",\"type\":\"CDSView\"}},\"id\":\"5919\",\"type\":\"GlyphRenderer\"},{\"attributes\":{},\"id\":\"5897\",\"type\":\"ResetTool\"},{\"attributes\":{\"source\":{\"id\":\"5906\",\"type\":\"ColumnDataSource\"}},\"id\":\"5910\",\"type\":\"CDSView\"},{\"attributes\":{},\"id\":\"6263\",\"type\":\"UnionRenderers\"},{\"attributes\":{\"fill_alpha\":{\"value\":0.5},\"fill_color\":{\"value\":\"green\"},\"line_alpha\":{\"value\":0.5},\"line_color\":{\"value\":\"green\"},\"size\":{\"units\":\"screen\",\"value\":10},\"x\":{\"field\":\"x\"},\"y\":{\"field\":\"y\"}},\"id\":\"5912\",\"type\":\"Triangle\"},{\"attributes\":{\"source\":{\"id\":\"5916\",\"type\":\"ColumnDataSource\"}},\"id\":\"5920\",\"type\":\"CDSView\"},{\"attributes\":{},\"id\":\"6267\",\"type\":\"UnionRenderers\"},{\"attributes\":{\"formatter\":{\"id\":\"6249\",\"type\":\"BasicTickFormatter\"},\"ticker\":{\"id\":\"5889\",\"type\":\"BasicTicker\"}},\"id\":\"5888\",\"type\":\"LinearAxis\"},{\"attributes\":{},\"id\":\"6264\",\"type\":\"Selection\"},{\"attributes\":{\"num_minor_ticks\":5,\"tickers\":[{\"id\":\"6250\",\"type\":\"AdaptiveTicker\"},{\"id\":\"6251\",\"type\":\"AdaptiveTicker\"},{\"id\":\"6252\",\"type\":\"AdaptiveTicker\"},{\"id\":\"6253\",\"type\":\"DaysTicker\"},{\"id\":\"6254\",\"type\":\"DaysTicker\"},{\"id\":\"6255\",\"type\":\"DaysTicker\"},{\"id\":\"6256\",\"type\":\"DaysTicker\"},{\"id\":\"6257\",\"type\":\"MonthsTicker\"},{\"id\":\"6258\",\"type\":\"MonthsTicker\"},{\"id\":\"6259\",\"type\":\"MonthsTicker\"},{\"id\":\"6260\",\"type\":\"MonthsTicker\"},{\"id\":\"6261\",\"type\":\"YearsTicker\"}]},\"id\":\"5884\",\"type\":\"DatetimeTicker\"},{\"attributes\":{},\"id\":\"5894\",\"type\":\"WheelZoomTool\"},{\"attributes\":{},\"id\":\"6249\",\"type\":\"BasicTickFormatter\"},{\"attributes\":{},\"id\":\"6265\",\"type\":\"UnionRenderers\"},{\"attributes\":{},\"id\":\"6266\",\"type\":\"Selection\"},{\"attributes\":{\"mantissas\":[1,2,5],\"max_interval\":500.0,\"num_minor_ticks\":0},\"id\":\"6250\",\"type\":\"AdaptiveTicker\"},{\"attributes\":{\"line_alpha\":0.1,\"line_color\":\"#1f77b4\",\"line_width\":2,\"x\":{\"field\":\"x\"},\"y\":{\"field\":\"y\"}},\"id\":\"5908\",\"type\":\"Line\"},{\"attributes\":{\"dimension\":1,\"ticker\":{\"id\":\"5889\",\"type\":\"BasicTicker\"}},\"id\":\"5892\",\"type\":\"Grid\"},{\"attributes\":{\"base\":60,\"mantissas\":[1,2,5,10,15,20,30],\"max_interval\":1800000.0,\"min_interval\":1000.0,\"num_minor_ticks\":0},\"id\":\"6251\",\"type\":\"AdaptiveTicker\"},{\"attributes\":{\"callback\":null,\"data\":{\"x\":{\"__ndarray__\":\"AABAIWOddkIAAACHtZ12QgAAwOwHnnZCAACAUlqedkIAAEC4rJ52QgAAgOmjn3ZCAABAT/afdkIAAAC1SKB2QgAAwBqboHZCAACAgO2gdkIAAMCx5KF2QgAAgBc3onZCAABAfYmidkIAAADj26J2QgAAAHolpHZCAADA33ekdkIAAIBFyqR2QgAAQKscpXZCAAAAEW+ldkIAAEBCZqZ2QgAAAKi4pnZCAADADQundkIAAIBzXad2QgAAQNmvp3ZCAACACqeodkIAAEBw+ah2QgAAANZLqXZCAADAO56pdkIAAICh8Kl2QgAAwNLnqnZCAACAODqrdkIAAECejKt2QgAAAATfq3ZCAADAaTGsdkIAAACbKK12QgAAwAB7rXZCAACAZs2tdkIAAEDMH652QgAAADJyrnZCAAAAybuvdkIAAMAuDrB2QgAAgJRgsHZCAABA+rKwdkIAAIArqrF2QgAAQJH8sXZCAAAA906ydkIAAMBcobJ2QgAAgMLzsnZCAADA8+qzdkIAAIBZPbR2QgAAQL+PtHZCAAAAJeK0dkIAAMCKNLV2QgAAALwrtnZCAADAIX62dkIAAICH0LZ2QgAAQO0it3ZCAAAAU3W3dkIAAECEbLh2QgAAAOq+uHZCAADATxG5dkIAAIC1Y7l2QgAAQBu2uXZCAACATK26dkIAAECy/7p2QgAAABhSu3ZCAACA4/a7dkIAAMAU7rx2QgAAgHpAvXZCAABA4JK9dkIAAABG5b12QgAAwKs3vnZCAAAA3S6/dkIAAMBCgb92QgAAgKjTv3ZCAABADibAdkIAAAB0eMB2QgAAQKVvwXZCAAAAC8LBdkIAAMBwFMJ2QgAAgNZmwnZCAABAPLnCdkIAAIBtsMN2QgAAQNMCxHZCAAAAOVXEdkIAAMCep8R2QgAAgAT6xHZCAADANfHFdkIAAICbQ8Z2QgAAQAGWxnZCAAAAZ+jGdkIAAMDMOsd2QgAAAP4xyHZCAADAY4TIdkIAAIDJ1sh2QgAAQC8pyXZCAAAAlXvJdkIAAEDGcsp2QgAAACzFynZCAADAkRfLdkIAAID3act2QgAAQF28y3ZCAACAjrPMdkIAAED0Bc12QgAAAFpYzXZCAADAv6rNdkIAAIAl/c12QgAAgLxGz3ZCAABAIpnPdkIAAACI6892QgAAwO090HZCAAAAHzXRdkIAAMCEh9F2QgAAgOrZ0XZCAABAUCzSdkIAAAC2ftJ2QgAAQOd103ZCAAAATcjTdkIAAMCyGtR2QgAAgBht1HZCAABAfr/UdkIAAICvttV2QgAAQBUJ1nZCAAAAe1vWdkIAAMDgrdZ2QgAAgEYA13ZCAADAd/fXdkI=\",\"dtype\":\"float64\",\"shape\":[127]},\"y\":{\"__ndarray__\":\"AAAAQIy8ZkAAAAAAitNmQAAAACD/hmdAAAAAIIB7Z0AAAADAZdFnQAAAAIA47GdAAAAAwG6bZ0AAAACgHvZnQAAAAMA85GdAAAAAwGGzZ0AAAADA0glnQAAAAIDneWdAAAAA4IZcZ0AAAAAg6jxnQAAAAOA0gmdAAAAA4HTIZ0AAAABAbNhnQAAAAIBkUGdAAAAAwMA2ZkAAAABgWV5mQAAAAOCsk2ZAAAAAYMCCZkAAAAAgm9lmQAAAAMDb02ZAAAAAIPRuZkAAAACAu5dlQAAAAOCYsWVAAAAA4H06ZUAAAACgvg5lQAAAAGCcw2NAAAAAAD82ZEAAAACgsedjQAAAACAs+2NAAAAAIE2GY0AAAADAqu1iQAAAAIBcV2NAAAAAQAn8YkAAAABgNWBiQAAAAKDqGmJAAAAAAM3gYUAAAADgUoFhQAAAACAeX2FAAAAAAG/qYEAAAAAAurRgQAAAAIB522FAAAAAQH2kYUAAAAAAafRhQAAAAEBlK2JAAAAAABCJYkAAAADAOtNiQAAAAADGQWJAAAAAwKCDYkAAAAAg5w9iQAAAAOBeHGJAAAAAgFIXY0AAAACg/h5jQAAAAOBSPmNAAAAAgITzYkAAAAAAShBjQAAAAACR6mJAAAAAwEfjY0AAAADAMWJkQAAAAKApgmRAAAAAgC7AZEAAAADgOUJkQAAAAIDZUmRAAAAAIEoCZEAAAADAvqFjQAAAACDxpGNAAAAA4Nr8Y0AAAADAssNkQAAAAEA37mRAAAAAwFjjZEAAAADgRd1kQAAAAIBZMWVAAAAA4F9AZUAAAAAAwAhlQAAAAKDRZGVAAAAAwI/vZUAAAABgd09mQAAAAGCspmVAAAAAQLPcZUAAAABAtdRlQAAAAADZ6GVAAAAAYLMRZUAAAACgOJhkQAAAAMD6IGRAAAAAIILUYkAAAAAAYQZjQAAAAECcN2NAAAAAwE/DY0AAAACA4UBjQAAAAICb6WJAAAAAgKl8Y0AAAADAfb1iQAAAAKDuk2JAAAAA4N7sY0AAAABAjlNlQAAAACCH9mRAAAAAAPFhZUAAAAAA72llQAAAAIDwSGRAAAAAACqpZEAAAADgejRkQAAAAEAKJ2RAAAAAAADgZEAAAADgUfBkQAAAAKBwhWRAAAAA4FEYZUAAAAAgrndmQAAAAMDMVGZAAAAAAACQZkAAAACAwuVmQAAAAGCPCmdAAAAA4KMIZ0AAAACAFL5mQAAAAGC4hmZAAAAAgD2iZkAAAAAgXH9mQAAAAIAUHmZAAAAAgBSWZUAAAABA4dplQAAAAMD1kGVAAAAAIFxHZkAAAABA4SpmQAAAAOBReGVAAAAAgD3CZUA=\",\"dtype\":\"float64\",\"shape\":[127]}},\"selected\":{\"id\":\"6264\",\"type\":\"Selection\"},\"selection_policy\":{\"id\":\"6263\",\"type\":\"UnionRenderers\"}},\"id\":\"5906\",\"type\":\"ColumnDataSource\"},{\"attributes\":{\"base\":24,\"mantissas\":[1,2,4,6,8,12],\"max_interval\":43200000.0,\"min_interval\":3600000.0,\"num_minor_ticks\":0},\"id\":\"6252\",\"type\":\"AdaptiveTicker\"},{\"attributes\":{\"fill_alpha\":{\"value\":0.1},\"fill_color\":{\"value\":\"#1f77b4\"},\"line_alpha\":{\"value\":0.1},\"line_color\":{\"value\":\"#1f77b4\"},\"size\":{\"units\":\"screen\",\"value\":10},\"x\":{\"field\":\"x\"},\"y\":{\"field\":\"y\"}},\"id\":\"5913\",\"type\":\"Triangle\"},{\"attributes\":{\"callback\":null},\"id\":\"5877\",\"type\":\"DataRange1d\"},{\"attributes\":{\"days\":[1,2,3,4,5,6,7,8,9,10,11,12,13,14,15,16,17,18,19,20,21,22,23,24,25,26,27,28,29,30,31]},\"id\":\"6253\",\"type\":\"DaysTicker\"},{\"attributes\":{\"data_source\":{\"id\":\"5911\",\"type\":\"ColumnDataSource\"},\"glyph\":{\"id\":\"5912\",\"type\":\"Triangle\"},\"hover_glyph\":null,\"muted_glyph\":null,\"nonselection_glyph\":{\"id\":\"5913\",\"type\":\"Triangle\"},\"selection_glyph\":null,\"view\":{\"id\":\"5915\",\"type\":\"CDSView\"}},\"id\":\"5914\",\"type\":\"GlyphRenderer\"},{\"attributes\":{},\"id\":\"5881\",\"type\":\"LinearScale\"},{\"attributes\":{\"line_color\":\"#1f77b4\",\"line_width\":2,\"x\":{\"field\":\"x\"},\"y\":{\"field\":\"y\"}},\"id\":\"5907\",\"type\":\"Line\"},{\"attributes\":{\"text\":\"\"},\"id\":\"6244\",\"type\":\"Title\"},{\"attributes\":{\"callback\":null,\"data\":{\"x\":{\"__ndarray__\":\"AABAIWOddkIAAECrHKV2QgAAQEJmpnZCAADAO56pdkIAAMDS56p2QgAAQJ6Mq3ZCAADAaTGsdkIAAEDMH652QgAAAMm7r3ZCAABA4JK9dkIAAMCrN752QgAAAHR4wHZCAACA1mbCdkIAAIBtsMN2QgAAADlVxHZCAACABPrEdkIAAICbQ8Z2QgAAAGfoxnZCAAAA/jHIdkIAAIDJ1sh2QgAAAJV7yXZCAAAALMXKdkIAAID3act2QgAAgI6zzHZCAAAAWljNdkIAAIAl/c12QgAAAIjrz3ZCAAAAHzXRdkIAAIDq2dF2QgAAALZ+0nZCAAAATcjTdkIAAIAYbdR2QgAAgK+21XZCAAAAe1vWdkIAAIBGANd2Qg==\",\"dtype\":\"float64\",\"shape\":[35]},\"y\":{\"__ndarray__\":\"AAAAQIy8ZkAAAACAZFBnQAAAAGBZXmZAAAAA4H06ZUAAAABgnMNjQAAAAKCx52NAAAAAIE2GY0AAAABgNWBiQAAAAADN4GFAAAAA4Nr8Y0AAAABAN+5kQAAAAADACGVAAAAAYKymZUAAAABAtdRlQAAAAGCzEWVAAAAAwPogZEAAAAAAYQZjQAAAAMBPw2NAAAAAgJvpYkAAAADAfb1iQAAAAODe7GNAAAAAIIf2ZEAAAAAA72llQAAAAAAqqWRAAAAAQAonZEAAAADgUfBkQAAAACCud2ZAAAAAAACQZkAAAABgjwpnQAAAAIAUvmZAAAAAgD2iZkAAAACAFB5mQAAAAEDh2mVAAAAAIFxHZkAAAADgUXhlQA==\",\"dtype\":\"float64\",\"shape\":[35]}},\"selected\":{\"id\":\"6266\",\"type\":\"Selection\"},\"selection_policy\":{\"id\":\"6265\",\"type\":\"UnionRenderers\"}},\"id\":\"5911\",\"type\":\"ColumnDataSource\"},{\"attributes\":{\"days\":[1,4,7,10,13,16,19,22,25,28]},\"id\":\"6254\",\"type\":\"DaysTicker\"},{\"attributes\":{\"ticker\":{\"id\":\"5884\",\"type\":\"DatetimeTicker\"}},\"id\":\"5887\",\"type\":\"Grid\"},{\"attributes\":{},\"id\":\"5889\",\"type\":\"BasicTicker\"},{\"attributes\":{\"days\":[1,8,15,22]},\"id\":\"6255\",\"type\":\"DaysTicker\"},{\"attributes\":{\"callback\":null},\"id\":\"5875\",\"type\":\"DataRange1d\"},{\"attributes\":{\"formatter\":{\"id\":\"6247\",\"type\":\"DatetimeTickFormatter\"},\"ticker\":{\"id\":\"5884\",\"type\":\"DatetimeTicker\"}},\"id\":\"5883\",\"type\":\"DatetimeAxis\"},{\"attributes\":{\"days\":[1,15]},\"id\":\"6256\",\"type\":\"DaysTicker\"},{\"attributes\":{},\"id\":\"6268\",\"type\":\"Selection\"},{\"attributes\":{\"source\":{\"id\":\"5911\",\"type\":\"ColumnDataSource\"}},\"id\":\"5915\",\"type\":\"CDSView\"},{\"attributes\":{\"months\":[0,1,2,3,4,5,6,7,8,9,10,11]},\"id\":\"6257\",\"type\":\"MonthsTicker\"},{\"attributes\":{\"months\":[0,2,4,6,8,10]},\"id\":\"6258\",\"type\":\"MonthsTicker\"},{\"attributes\":{\"overlay\":{\"id\":\"6262\",\"type\":\"BoxAnnotation\"}},\"id\":\"5895\",\"type\":\"BoxZoomTool\"},{\"attributes\":{},\"id\":\"5893\",\"type\":\"PanTool\"}],\"root_ids\":[\"5874\"]},\"title\":\"Bokeh Application\",\"version\":\"1.3.4\"}};\n",
       "  var render_items = [{\"docid\":\"cfb57962-e40b-40d4-bb16-106c6cc79a9b\",\"roots\":{\"5874\":\"95cb9459-f839-453f-a9c2-95509be49a30\"}}];\n",
       "  root.Bokeh.embed.embed_items_notebook(docs_json, render_items);\n",
       "\n",
       "  }\n",
       "  if (root.Bokeh !== undefined) {\n",
       "    embed_document(root);\n",
       "  } else {\n",
       "    var attempts = 0;\n",
       "    var timer = setInterval(function(root) {\n",
       "      if (root.Bokeh !== undefined) {\n",
       "        embed_document(root);\n",
       "        clearInterval(timer);\n",
       "      }\n",
       "      attempts++;\n",
       "      if (attempts > 100) {\n",
       "        console.log(\"Bokeh: ERROR: Unable to run BokehJS code because BokehJS library is missing\");\n",
       "        clearInterval(timer);\n",
       "      }\n",
       "    }, 10, root)\n",
       "  }\n",
       "})(window);"
      ],
      "application/vnd.bokehjs_exec.v0+json": ""
     },
     "metadata": {
      "application/vnd.bokehjs_exec.v0+json": {
       "id": "5874"
      }
     },
     "output_type": "display_data"
    }
   ],
   "source": [
    "show_strategy_actions(df_with_strategy)"
   ]
  },
  {
   "cell_type": "markdown",
   "metadata": {},
   "source": [
    "### Análisis por variable (último modelo)"
   ]
  },
  {
   "cell_type": "code",
   "execution_count": 62,
   "metadata": {
    "ExecuteTime": {
     "end_time": "2019-11-01T15:30:59.828883Z",
     "start_time": "2019-11-01T15:30:59.719538Z"
    }
   },
   "outputs": [
    {
     "data": {
      "text/html": [
       "\n",
       "\n",
       "\n",
       "\n",
       "\n",
       "\n",
       "  <div class=\"bk-root\" id=\"ffe35fff-fd1b-4b15-a769-e5e907befa6a\" data-root-id=\"6419\"></div>\n"
      ]
     },
     "metadata": {},
     "output_type": "display_data"
    },
    {
     "data": {
      "application/javascript": [
       "(function(root) {\n",
       "  function embed_document(root) {\n",
       "    \n",
       "  var docs_json = {\"164f8c31-7152-4a0c-8c98-258e8697fe2c\":{\"roots\":{\"references\":[{\"attributes\":{\"below\":[{\"id\":\"6428\",\"type\":\"CategoricalAxis\"}],\"center\":[{\"id\":\"6431\",\"type\":\"Grid\"},{\"id\":\"6436\",\"type\":\"Grid\"}],\"left\":[{\"id\":\"6432\",\"type\":\"LinearAxis\"}],\"plot_height\":250,\"plot_width\":900,\"renderers\":[{\"id\":\"6453\",\"type\":\"GlyphRenderer\"}],\"title\":{\"id\":\"6803\",\"type\":\"Title\"},\"toolbar\":{\"id\":\"6443\",\"type\":\"Toolbar\"},\"x_range\":{\"id\":\"6420\",\"type\":\"FactorRange\"},\"x_scale\":{\"id\":\"6424\",\"type\":\"CategoricalScale\"},\"y_range\":{\"id\":\"6422\",\"type\":\"DataRange1d\"},\"y_scale\":{\"id\":\"6426\",\"type\":\"LinearScale\"}},\"id\":\"6419\",\"subtype\":\"Figure\",\"type\":\"Plot\"},{\"attributes\":{},\"id\":\"6440\",\"type\":\"SaveTool\"},{\"attributes\":{},\"id\":\"6811\",\"type\":\"Selection\"},{\"attributes\":{\"active_drag\":\"auto\",\"active_inspect\":\"auto\",\"active_multi\":null,\"active_scroll\":\"auto\",\"active_tap\":\"auto\",\"tools\":[{\"id\":\"6437\",\"type\":\"PanTool\"},{\"id\":\"6438\",\"type\":\"WheelZoomTool\"},{\"id\":\"6439\",\"type\":\"BoxZoomTool\"},{\"id\":\"6440\",\"type\":\"SaveTool\"},{\"id\":\"6441\",\"type\":\"ResetTool\"},{\"id\":\"6442\",\"type\":\"HelpTool\"}]},\"id\":\"6443\",\"type\":\"Toolbar\"},{\"attributes\":{},\"id\":\"6810\",\"type\":\"UnionRenderers\"},{\"attributes\":{\"overlay\":{\"id\":\"6809\",\"type\":\"BoxAnnotation\"}},\"id\":\"6439\",\"type\":\"BoxZoomTool\"},{\"attributes\":{},\"id\":\"6805\",\"type\":\"CategoricalTickFormatter\"},{\"attributes\":{\"text\":\"\"},\"id\":\"6803\",\"type\":\"Title\"},{\"attributes\":{\"formatter\":{\"id\":\"6808\",\"type\":\"BasicTickFormatter\"},\"ticker\":{\"id\":\"6433\",\"type\":\"BasicTicker\"}},\"id\":\"6432\",\"type\":\"LinearAxis\"},{\"attributes\":{\"source\":{\"id\":\"6450\",\"type\":\"ColumnDataSource\"}},\"id\":\"6454\",\"type\":\"CDSView\"},{\"attributes\":{\"bottom_units\":\"screen\",\"fill_alpha\":{\"value\":0.5},\"fill_color\":{\"value\":\"lightgrey\"},\"left_units\":\"screen\",\"level\":\"overlay\",\"line_alpha\":{\"value\":1.0},\"line_color\":{\"value\":\"black\"},\"line_dash\":[4,4],\"line_width\":{\"value\":2},\"render_mode\":\"css\",\"right_units\":\"screen\",\"top_units\":\"screen\"},\"id\":\"6809\",\"type\":\"BoxAnnotation\"},{\"attributes\":{},\"id\":\"6808\",\"type\":\"BasicTickFormatter\"},{\"attributes\":{},\"id\":\"6441\",\"type\":\"ResetTool\"},{\"attributes\":{\"formatter\":{\"id\":\"6805\",\"type\":\"CategoricalTickFormatter\"},\"major_label_orientation\":\"vertical\",\"ticker\":{\"id\":\"6429\",\"type\":\"CategoricalTicker\"}},\"id\":\"6428\",\"type\":\"CategoricalAxis\"},{\"attributes\":{\"grid_line_color\":null,\"ticker\":{\"id\":\"6429\",\"type\":\"CategoricalTicker\"}},\"id\":\"6431\",\"type\":\"Grid\"},{\"attributes\":{},\"id\":\"6442\",\"type\":\"HelpTool\"},{\"attributes\":{},\"id\":\"6426\",\"type\":\"LinearScale\"},{\"attributes\":{},\"id\":\"6429\",\"type\":\"CategoricalTicker\"},{\"attributes\":{\"data_source\":{\"id\":\"6450\",\"type\":\"ColumnDataSource\"},\"glyph\":{\"id\":\"6451\",\"type\":\"VBar\"},\"hover_glyph\":null,\"muted_glyph\":null,\"nonselection_glyph\":{\"id\":\"6452\",\"type\":\"VBar\"},\"selection_glyph\":null,\"view\":{\"id\":\"6454\",\"type\":\"CDSView\"}},\"id\":\"6453\",\"type\":\"GlyphRenderer\"},{\"attributes\":{},\"id\":\"6438\",\"type\":\"WheelZoomTool\"},{\"attributes\":{},\"id\":\"6437\",\"type\":\"PanTool\"},{\"attributes\":{\"callback\":null,\"data\":{\"top\":{\"__ndarray__\":\"YFZ/MeOSvD8grPWL0RfBP6TQwXcgRL4/q+PmIUw0wT+F2PNhI+6IPzR4HPPKOEc/AAAAAAAAAAC6Artyo16nP8OuydO0+78/0hLzrLulmD+FzHRxh9mfP4YG1tWlN48/xWOrnJE3KT9UF6zbkyIyP5aB2mJ8jZE/vcOJxvvVkT8CmxDsSq+SP78DX+zKIno/QR6rN6mbRz8AAAAAAAAAAKEXJSh+GsU/PHg+60aPkT9J7+yw21F4Pw==\",\"dtype\":\"float64\",\"shape\":[23]},\"x\":[\"open\",\"high\",\"low\",\"close\",\"volume\",\"dividends\",\"stock_splits\",\"ti_macd\",\"ti_macd_diff\",\"ti_macd_dm1\",\"ti_macd_dm2\",\"ti_rsi\",\"ti_rsi_overbought\",\"ti_rsi_oversold\",\"ti_cmf\",\"ti_cmf_dm1\",\"ti_cmf_dm2\",\"ti_vpi\",\"ti_bb\",\"ti_atr\",\"ti_ic\",\"ti_mfi\",\"ti_cr\"]},\"selected\":{\"id\":\"6811\",\"type\":\"Selection\"},\"selection_policy\":{\"id\":\"6810\",\"type\":\"UnionRenderers\"}},\"id\":\"6450\",\"type\":\"ColumnDataSource\"},{\"attributes\":{\"fill_alpha\":{\"value\":0.1},\"fill_color\":{\"value\":\"#1f77b4\"},\"line_alpha\":{\"value\":0.1},\"line_color\":{\"value\":\"#1f77b4\"},\"top\":{\"field\":\"top\"},\"width\":{\"value\":0.9},\"x\":{\"field\":\"x\"}},\"id\":\"6452\",\"type\":\"VBar\"},{\"attributes\":{},\"id\":\"6433\",\"type\":\"BasicTicker\"},{\"attributes\":{},\"id\":\"6424\",\"type\":\"CategoricalScale\"},{\"attributes\":{\"fill_color\":{\"value\":\"#1f77b4\"},\"line_color\":{\"value\":\"#1f77b4\"},\"top\":{\"field\":\"top\"},\"width\":{\"value\":0.9},\"x\":{\"field\":\"x\"}},\"id\":\"6451\",\"type\":\"VBar\"},{\"attributes\":{\"callback\":null,\"factors\":[\"open\",\"high\",\"low\",\"close\",\"volume\",\"dividends\",\"stock_splits\",\"ti_macd\",\"ti_macd_diff\",\"ti_macd_dm1\",\"ti_macd_dm2\",\"ti_rsi\",\"ti_rsi_overbought\",\"ti_rsi_oversold\",\"ti_cmf\",\"ti_cmf_dm1\",\"ti_cmf_dm2\",\"ti_vpi\",\"ti_bb\",\"ti_atr\",\"ti_ic\",\"ti_mfi\",\"ti_cr\"]},\"id\":\"6420\",\"type\":\"FactorRange\"},{\"attributes\":{\"dimension\":1,\"ticker\":{\"id\":\"6433\",\"type\":\"BasicTicker\"}},\"id\":\"6436\",\"type\":\"Grid\"},{\"attributes\":{\"callback\":null,\"start\":0},\"id\":\"6422\",\"type\":\"DataRange1d\"}],\"root_ids\":[\"6419\"]},\"title\":\"Bokeh Application\",\"version\":\"1.3.4\"}};\n",
       "  var render_items = [{\"docid\":\"164f8c31-7152-4a0c-8c98-258e8697fe2c\",\"roots\":{\"6419\":\"ffe35fff-fd1b-4b15-a769-e5e907befa6a\"}}];\n",
       "  root.Bokeh.embed.embed_items_notebook(docs_json, render_items);\n",
       "\n",
       "  }\n",
       "  if (root.Bokeh !== undefined) {\n",
       "    embed_document(root);\n",
       "  } else {\n",
       "    var attempts = 0;\n",
       "    var timer = setInterval(function(root) {\n",
       "      if (root.Bokeh !== undefined) {\n",
       "        embed_document(root);\n",
       "        clearInterval(timer);\n",
       "      }\n",
       "      attempts++;\n",
       "      if (attempts > 100) {\n",
       "        console.log(\"Bokeh: ERROR: Unable to run BokehJS code because BokehJS library is missing\");\n",
       "        clearInterval(timer);\n",
       "      }\n",
       "    }, 10, root)\n",
       "  }\n",
       "})(window);"
      ],
      "application/vnd.bokehjs_exec.v0+json": ""
     },
     "metadata": {
      "application/vnd.bokehjs_exec.v0+json": {
       "id": "6419"
      }
     },
     "output_type": "display_data"
    }
   ],
   "source": [
    "plot_features_relevance(df_NVDA_with_ti.columns.values, model.feature_importances_)"
   ]
  },
  {
   "cell_type": "markdown",
   "metadata": {},
   "source": [
    "## Calibración de probabilidades"
   ]
  },
  {
   "cell_type": "code",
   "execution_count": 63,
   "metadata": {
    "ExecuteTime": {
     "end_time": "2019-11-01T15:31:15.920794Z",
     "start_time": "2019-11-01T15:31:15.813223Z"
    }
   },
   "outputs": [
    {
     "data": {
      "text/html": [
       "\n",
       "\n",
       "\n",
       "\n",
       "\n",
       "\n",
       "  <div class=\"bk-root\" id=\"ea461c60-261e-42ad-8fac-8d96f840820d\" data-root-id=\"6866\"></div>\n"
      ]
     },
     "metadata": {},
     "output_type": "display_data"
    },
    {
     "data": {
      "application/javascript": [
       "(function(root) {\n",
       "  function embed_document(root) {\n",
       "    \n",
       "  var docs_json = {\"84d1604f-64cf-4e68-9baf-fa81e74368cc\":{\"roots\":{\"references\":[{\"attributes\":{\"below\":[{\"id\":\"6877\",\"type\":\"LinearAxis\"}],\"center\":[{\"id\":\"6881\",\"type\":\"Grid\"},{\"id\":\"6886\",\"type\":\"Grid\"}],\"left\":[{\"id\":\"6882\",\"type\":\"LinearAxis\"}],\"plot_height\":350,\"plot_width\":650,\"renderers\":[{\"id\":\"6903\",\"type\":\"GlyphRenderer\"}],\"title\":{\"id\":\"6867\",\"type\":\"Title\"},\"toolbar\":{\"id\":\"6893\",\"type\":\"Toolbar\"},\"x_range\":{\"id\":\"6869\",\"type\":\"DataRange1d\"},\"x_scale\":{\"id\":\"6873\",\"type\":\"LinearScale\"},\"y_range\":{\"id\":\"6871\",\"type\":\"DataRange1d\"},\"y_scale\":{\"id\":\"6875\",\"type\":\"LinearScale\"}},\"id\":\"6866\",\"subtype\":\"Figure\",\"type\":\"Plot\"},{\"attributes\":{\"bottom_units\":\"screen\",\"fill_alpha\":{\"value\":0.5},\"fill_color\":{\"value\":\"lightgrey\"},\"left_units\":\"screen\",\"level\":\"overlay\",\"line_alpha\":{\"value\":1.0},\"line_color\":{\"value\":\"black\"},\"line_dash\":[4,4],\"line_width\":{\"value\":2},\"render_mode\":\"css\",\"right_units\":\"screen\",\"top_units\":\"screen\"},\"id\":\"7267\",\"type\":\"BoxAnnotation\"},{\"attributes\":{\"ticker\":{\"id\":\"6878\",\"type\":\"BasicTicker\"}},\"id\":\"6881\",\"type\":\"Grid\"},{\"attributes\":{},\"id\":\"6875\",\"type\":\"LinearScale\"},{\"attributes\":{},\"id\":\"7268\",\"type\":\"UnionRenderers\"},{\"attributes\":{\"formatter\":{\"id\":\"7266\",\"type\":\"BasicTickFormatter\"},\"ticker\":{\"id\":\"6883\",\"type\":\"BasicTicker\"}},\"id\":\"6882\",\"type\":\"LinearAxis\"},{\"attributes\":{},\"id\":\"7269\",\"type\":\"Selection\"},{\"attributes\":{},\"id\":\"6883\",\"type\":\"BasicTicker\"},{\"attributes\":{\"dimension\":1,\"ticker\":{\"id\":\"6883\",\"type\":\"BasicTicker\"}},\"id\":\"6886\",\"type\":\"Grid\"},{\"attributes\":{\"bottom\":{\"value\":0},\"fill_alpha\":{\"value\":0.1},\"fill_color\":{\"value\":\"#1f77b4\"},\"left\":{\"field\":\"left\"},\"line_alpha\":{\"value\":0.1},\"line_color\":{\"value\":\"#1f77b4\"},\"right\":{\"field\":\"right\"},\"top\":{\"field\":\"top\"}},\"id\":\"6902\",\"type\":\"Quad\"},{\"attributes\":{},\"id\":\"6873\",\"type\":\"LinearScale\"},{\"attributes\":{\"bottom\":{\"value\":0},\"fill_alpha\":{\"value\":0.5},\"fill_color\":{\"value\":\"green\"},\"left\":{\"field\":\"left\"},\"line_alpha\":{\"value\":0.5},\"line_color\":{\"value\":\"white\"},\"right\":{\"field\":\"right\"},\"top\":{\"field\":\"top\"}},\"id\":\"6901\",\"type\":\"Quad\"},{\"attributes\":{},\"id\":\"6887\",\"type\":\"PanTool\"},{\"attributes\":{},\"id\":\"6888\",\"type\":\"WheelZoomTool\"},{\"attributes\":{\"overlay\":{\"id\":\"7267\",\"type\":\"BoxAnnotation\"}},\"id\":\"6889\",\"type\":\"BoxZoomTool\"},{\"attributes\":{},\"id\":\"6890\",\"type\":\"SaveTool\"},{\"attributes\":{\"callback\":null},\"id\":\"6869\",\"type\":\"DataRange1d\"},{\"attributes\":{},\"id\":\"7264\",\"type\":\"BasicTickFormatter\"},{\"attributes\":{},\"id\":\"6891\",\"type\":\"ResetTool\"},{\"attributes\":{\"formatter\":{\"id\":\"7264\",\"type\":\"BasicTickFormatter\"},\"ticker\":{\"id\":\"6878\",\"type\":\"BasicTicker\"}},\"id\":\"6877\",\"type\":\"LinearAxis\"},{\"attributes\":{\"callback\":null},\"id\":\"6871\",\"type\":\"DataRange1d\"},{\"attributes\":{},\"id\":\"6878\",\"type\":\"BasicTicker\"},{\"attributes\":{},\"id\":\"6892\",\"type\":\"HelpTool\"},{\"attributes\":{\"active_drag\":\"auto\",\"active_inspect\":\"auto\",\"active_multi\":null,\"active_scroll\":\"auto\",\"active_tap\":\"auto\",\"tools\":[{\"id\":\"6887\",\"type\":\"PanTool\"},{\"id\":\"6888\",\"type\":\"WheelZoomTool\"},{\"id\":\"6889\",\"type\":\"BoxZoomTool\"},{\"id\":\"6890\",\"type\":\"SaveTool\"},{\"id\":\"6891\",\"type\":\"ResetTool\"},{\"id\":\"6892\",\"type\":\"HelpTool\"}]},\"id\":\"6893\",\"type\":\"Toolbar\"},{\"attributes\":{\"text\":\"Probabilidades de comprar\"},\"id\":\"6867\",\"type\":\"Title\"},{\"attributes\":{\"data_source\":{\"id\":\"6900\",\"type\":\"ColumnDataSource\"},\"glyph\":{\"id\":\"6901\",\"type\":\"Quad\"},\"hover_glyph\":null,\"muted_glyph\":null,\"nonselection_glyph\":{\"id\":\"6902\",\"type\":\"Quad\"},\"selection_glyph\":null,\"view\":{\"id\":\"6904\",\"type\":\"CDSView\"}},\"id\":\"6903\",\"type\":\"GlyphRenderer\"},{\"attributes\":{\"source\":{\"id\":\"6900\",\"type\":\"ColumnDataSource\"}},\"id\":\"6904\",\"type\":\"CDSView\"},{\"attributes\":{\"callback\":null,\"data\":{\"left\":{\"__ndarray__\":\"bsYQEDkE2D8kktYD3orYP9tdnPeCEdk/kSli6yeY2T9I9SffzB7aP/7A7dJxpdo/tYyzxhYs2z9rWHm6u7LbPyIkP65gOdw/2O8EogXA3D+Pu8qVqkbdP0WHkIlPzd0//FJWffRT3j+yHhxxmdreP2jq4WQ+Yd8/H7anWOPn3z/rwDYmRDfgP8amGaCWeuA/oYz8Gem94D98ct+TOwHhP1hYwg2OROE/Mz6lh+CH4T8OJIgBM8vhP+oJa3uFDuI/xO9N9ddR4j+g1TBvKpXiP3u7E+l82OI/VqH2Ys8b4z8yh9ncIV/jPw1tvFZ0ouM/6FKf0Mbl4z/EOIJKGSnkP54eZcRrbOQ/egRIPr6v5D9V6iq4EPPkPzDQDTJjNuU/DLbwq7V55T/mm9MlCL3lP8KBtp9aAOY/nWeZGa1D5j94TXyT/4bmP1QzXw1SyuY/LxlCh6QN5z8K/yQB91DnP+bkB3tJlOc/wMrq9JvX5z+csM1u7hroP3eWsOhAXug/UnyTYpOh6D8uYnbc5eToPw==\",\"dtype\":\"float64\",\"shape\":[50]},\"right\":{\"__ndarray__\":\"JJLWA96K2D/bXZz3ghHZP5EpYusnmNk/SPUn38we2j/+wO3ScaXaP7WMs8YWLNs/a1h5uruy2z8iJD+uYDncP9jvBKIFwNw/j7vKlapG3T9Fh5CJT83dP/xSVn30U94/sh4ccZna3j9o6uFkPmHfPx+2p1jj598/68A2JkQ34D/GphmglnrgP6GM/BnpveA/fHLfkzsB4T9YWMINjkThPzM+pYfgh+E/DiSIATPL4T/qCWt7hQ7iP8TvTfXXUeI/oNUwbyqV4j97uxPpfNjiP1ah9mLPG+M/MofZ3CFf4z8NbbxWdKLjP+hSn9DG5eM/xDiCShkp5D+eHmXEa2zkP3oESD6+r+Q/VeoquBDz5D8w0A0yYzblPwy28Ku1eeU/5pvTJQi95T/CgbafWgDmP51nmRmtQ+Y/eE18k/+G5j9UM18NUsrmPy8ZQoekDec/Cv8kAfdQ5z/m5Ad7SZTnP8DK6vSb1+c/nLDNbu4a6D93lrDoQF7oP1J8k2KToeg/LmJ23OXk6D8JSFlWOCjpPw==\",\"dtype\":\"float64\",\"shape\":[50]},\"top\":[1,2,0,4,2,4,4,5,1,6,3,3,4,6,7,1,6,3,6,6,1,6,1,6,4,6,6,1,5,4,1,0,2,3,1,0,1,1,0,1,1,0,1,0,0,0,0,0,0,1]},\"selected\":{\"id\":\"7269\",\"type\":\"Selection\"},\"selection_policy\":{\"id\":\"7268\",\"type\":\"UnionRenderers\"}},\"id\":\"6900\",\"type\":\"ColumnDataSource\"},{\"attributes\":{},\"id\":\"7266\",\"type\":\"BasicTickFormatter\"}],\"root_ids\":[\"6866\"]},\"title\":\"Bokeh Application\",\"version\":\"1.3.4\"}};\n",
       "  var render_items = [{\"docid\":\"84d1604f-64cf-4e68-9baf-fa81e74368cc\",\"roots\":{\"6866\":\"ea461c60-261e-42ad-8fac-8d96f840820d\"}}];\n",
       "  root.Bokeh.embed.embed_items_notebook(docs_json, render_items);\n",
       "\n",
       "  }\n",
       "  if (root.Bokeh !== undefined) {\n",
       "    embed_document(root);\n",
       "  } else {\n",
       "    var attempts = 0;\n",
       "    var timer = setInterval(function(root) {\n",
       "      if (root.Bokeh !== undefined) {\n",
       "        embed_document(root);\n",
       "        clearInterval(timer);\n",
       "      }\n",
       "      attempts++;\n",
       "      if (attempts > 100) {\n",
       "        console.log(\"Bokeh: ERROR: Unable to run BokehJS code because BokehJS library is missing\");\n",
       "        clearInterval(timer);\n",
       "      }\n",
       "    }, 10, root)\n",
       "  }\n",
       "})(window);"
      ],
      "application/vnd.bokehjs_exec.v0+json": ""
     },
     "metadata": {
      "application/vnd.bokehjs_exec.v0+json": {
       "id": "6866"
      }
     },
     "output_type": "display_data"
    }
   ],
   "source": [
    "hist_values, edges = np.histogram(df_with_preds[filter_].pred_proba_buy, bins=50)\n",
    "p = figure(plot_width=650, plot_height=350, title=\"Probabilidades de comprar\")\n",
    "p.quad(top=hist_values, bottom=0, left=edges[:-1], right=edges[1:],\n",
    "       fill_color=\"green\", line_color=\"white\", alpha=0.5)\n",
    "show(p)"
   ]
  },
  {
   "cell_type": "code",
   "execution_count": 64,
   "metadata": {
    "ExecuteTime": {
     "end_time": "2019-11-01T15:31:18.145641Z",
     "start_time": "2019-11-01T15:31:18.041428Z"
    }
   },
   "outputs": [
    {
     "data": {
      "text/html": [
       "\n",
       "\n",
       "\n",
       "\n",
       "\n",
       "\n",
       "  <div class=\"bk-root\" id=\"c035d63e-b0a0-447c-b9b8-0ac2186b8309\" data-root-id=\"7318\"></div>\n"
      ]
     },
     "metadata": {},
     "output_type": "display_data"
    },
    {
     "data": {
      "application/javascript": [
       "(function(root) {\n",
       "  function embed_document(root) {\n",
       "    \n",
       "  var docs_json = {\"e89e928a-6deb-473d-bbe0-b56bfd64c9eb\":{\"roots\":{\"references\":[{\"attributes\":{\"below\":[{\"id\":\"7329\",\"type\":\"LinearAxis\"}],\"center\":[{\"id\":\"7333\",\"type\":\"Grid\"},{\"id\":\"7338\",\"type\":\"Grid\"}],\"left\":[{\"id\":\"7334\",\"type\":\"LinearAxis\"}],\"plot_height\":350,\"plot_width\":650,\"renderers\":[{\"id\":\"7355\",\"type\":\"GlyphRenderer\"}],\"title\":{\"id\":\"7319\",\"type\":\"Title\"},\"toolbar\":{\"id\":\"7345\",\"type\":\"Toolbar\"},\"x_range\":{\"id\":\"7321\",\"type\":\"DataRange1d\"},\"x_scale\":{\"id\":\"7325\",\"type\":\"LinearScale\"},\"y_range\":{\"id\":\"7323\",\"type\":\"DataRange1d\"},\"y_scale\":{\"id\":\"7327\",\"type\":\"LinearScale\"}},\"id\":\"7318\",\"subtype\":\"Figure\",\"type\":\"Plot\"},{\"attributes\":{},\"id\":\"7339\",\"type\":\"PanTool\"},{\"attributes\":{\"bottom\":{\"value\":0},\"fill_alpha\":{\"value\":0.5},\"fill_color\":{\"value\":\"red\"},\"left\":{\"field\":\"left\"},\"line_alpha\":{\"value\":0.5},\"line_color\":{\"value\":\"white\"},\"right\":{\"field\":\"right\"},\"top\":{\"field\":\"top\"}},\"id\":\"7353\",\"type\":\"Quad\"},{\"attributes\":{},\"id\":\"7340\",\"type\":\"WheelZoomTool\"},{\"attributes\":{\"text\":\"Probabilidades de vender\"},\"id\":\"7319\",\"type\":\"Title\"},{\"attributes\":{\"overlay\":{\"id\":\"7727\",\"type\":\"BoxAnnotation\"}},\"id\":\"7341\",\"type\":\"BoxZoomTool\"},{\"attributes\":{},\"id\":\"7342\",\"type\":\"SaveTool\"},{\"attributes\":{\"callback\":null},\"id\":\"7321\",\"type\":\"DataRange1d\"},{\"attributes\":{},\"id\":\"7343\",\"type\":\"ResetTool\"},{\"attributes\":{\"callback\":null},\"id\":\"7323\",\"type\":\"DataRange1d\"},{\"attributes\":{},\"id\":\"7344\",\"type\":\"HelpTool\"},{\"attributes\":{\"active_drag\":\"auto\",\"active_inspect\":\"auto\",\"active_multi\":null,\"active_scroll\":\"auto\",\"active_tap\":\"auto\",\"tools\":[{\"id\":\"7339\",\"type\":\"PanTool\"},{\"id\":\"7340\",\"type\":\"WheelZoomTool\"},{\"id\":\"7341\",\"type\":\"BoxZoomTool\"},{\"id\":\"7342\",\"type\":\"SaveTool\"},{\"id\":\"7343\",\"type\":\"ResetTool\"},{\"id\":\"7344\",\"type\":\"HelpTool\"}]},\"id\":\"7345\",\"type\":\"Toolbar\"},{\"attributes\":{\"data_source\":{\"id\":\"7352\",\"type\":\"ColumnDataSource\"},\"glyph\":{\"id\":\"7353\",\"type\":\"Quad\"},\"hover_glyph\":null,\"muted_glyph\":null,\"nonselection_glyph\":{\"id\":\"7354\",\"type\":\"Quad\"},\"selection_glyph\":null,\"view\":{\"id\":\"7356\",\"type\":\"CDSView\"}},\"id\":\"7355\",\"type\":\"GlyphRenderer\"},{\"attributes\":{\"source\":{\"id\":\"7352\",\"type\":\"ColumnDataSource\"}},\"id\":\"7356\",\"type\":\"CDSView\"},{\"attributes\":{\"dimension\":1,\"ticker\":{\"id\":\"7335\",\"type\":\"BasicTicker\"}},\"id\":\"7338\",\"type\":\"Grid\"},{\"attributes\":{},\"id\":\"7325\",\"type\":\"LinearScale\"},{\"attributes\":{\"bottom_units\":\"screen\",\"fill_alpha\":{\"value\":0.5},\"fill_color\":{\"value\":\"lightgrey\"},\"left_units\":\"screen\",\"level\":\"overlay\",\"line_alpha\":{\"value\":1.0},\"line_color\":{\"value\":\"black\"},\"line_dash\":[4,4],\"line_width\":{\"value\":2},\"render_mode\":\"css\",\"right_units\":\"screen\",\"top_units\":\"screen\"},\"id\":\"7727\",\"type\":\"BoxAnnotation\"},{\"attributes\":{},\"id\":\"7327\",\"type\":\"LinearScale\"},{\"attributes\":{},\"id\":\"7728\",\"type\":\"UnionRenderers\"},{\"attributes\":{},\"id\":\"7726\",\"type\":\"BasicTickFormatter\"},{\"attributes\":{},\"id\":\"7729\",\"type\":\"Selection\"},{\"attributes\":{},\"id\":\"7335\",\"type\":\"BasicTicker\"},{\"attributes\":{\"callback\":null,\"data\":{\"left\":{\"__ndarray__\":\"xc4RYXGawz9Y2i5V+rTEP+zlS0mDz8U/f/FoPQzqxj8T/YUxlQTIP6YIoyUeH8k/OhTAGac5yj/NH90NMFTLP2Ar+gG5bsw/9DYX9kGJzT+IQjTqyqPOPxtOUd5Tvs8/1yw3aW5s0D+hskXjsvnQP2o4VF33htE/NL5i1zsU0j/+Q3FRgKHSP8jJf8vELtM/kk+ORQm80z9b1Zy/TUnUPyVbqzmS1tQ/7uC5s9Zj1T+4ZsgtG/HVP4Ls1qdfftY/THLlIaQL1z8W+POb6JjXP999AhYtJtg/qQMRkHGz2D9yiR8KtkDZPzwPLoT6zdk/BpU8/j5b2j/QGkt4g+jaP5qgWfLHdds/ZCZobAwD3D8srHbmUJDcP/YxhWCVHd0/wLeT2tmq3T+KPaJUHjjeP1TDsM5ixd4/Hkm/SKdS3z/ozs3C69/fP1gqbh6YNuA/PW11Wzp94D8isHyY3MPgPwfzg9V+CuE/7DWLEiFR4T/ReJJPw5fhP7a7mYxl3uE/mv6gyQcl4j9/QagGqmviPw==\",\"dtype\":\"float64\",\"shape\":[50]},\"right\":{\"__ndarray__\":\"WNouVfq0xD/s5UtJg8/FP3/xaD0M6sY/E/2FMZUEyD+mCKMlHh/JPzoUwBmnOco/zR/dDTBUyz9gK/oBuW7MP/Q2F/ZBic0/iEI06sqjzj8bTlHeU77PP9csN2lubNA/obJF47L50D9qOFRd94bRPzS+Ytc7FNI//kNxUYCh0j/IyX/LxC7TP5JPjkUJvNM/W9Wcv01J1D8lW6s5ktbUP+7gubPWY9U/uGbILRvx1T+C7NanX37WP0xy5SGkC9c/Fvjzm+iY1z/ffQIWLSbYP6kDEZBxs9g/cokfCrZA2T88Dy6E+s3ZPwaVPP4+W9o/0BpLeIPo2j+aoFnyx3XbP2QmaGwMA9w/LKx25lCQ3D/2MYVglR3dP8C3k9rZqt0/ij2iVB443j9Uw7DOYsXePx5Jv0inUt8/6M7Nwuvf3z9YKm4emDbgPz1tdVs6feA/IrB8mNzD4D8H84PVfgrhP+w1ixIhUeE/0XiST8OX4T+2u5mMZd7hP5r+oMkHJeI/f0GoBqpr4j9khK9DTLLiPw==\",\"dtype\":\"float64\",\"shape\":[50]},\"top\":[1,0,0,0,0,1,1,0,1,0,0,1,1,0,1,2,3,2,2,5,1,6,8,7,3,1,8,4,6,4,7,4,6,2,3,6,3,3,4,2,5,5,1,2,1,1,2,0,0,1]},\"selected\":{\"id\":\"7729\",\"type\":\"Selection\"},\"selection_policy\":{\"id\":\"7728\",\"type\":\"UnionRenderers\"}},\"id\":\"7352\",\"type\":\"ColumnDataSource\"},{\"attributes\":{},\"id\":\"7330\",\"type\":\"BasicTicker\"},{\"attributes\":{\"formatter\":{\"id\":\"7724\",\"type\":\"BasicTickFormatter\"},\"ticker\":{\"id\":\"7330\",\"type\":\"BasicTicker\"}},\"id\":\"7329\",\"type\":\"LinearAxis\"},{\"attributes\":{\"bottom\":{\"value\":0},\"fill_alpha\":{\"value\":0.1},\"fill_color\":{\"value\":\"#1f77b4\"},\"left\":{\"field\":\"left\"},\"line_alpha\":{\"value\":0.1},\"line_color\":{\"value\":\"#1f77b4\"},\"right\":{\"field\":\"right\"},\"top\":{\"field\":\"top\"}},\"id\":\"7354\",\"type\":\"Quad\"},{\"attributes\":{},\"id\":\"7724\",\"type\":\"BasicTickFormatter\"},{\"attributes\":{\"ticker\":{\"id\":\"7330\",\"type\":\"BasicTicker\"}},\"id\":\"7333\",\"type\":\"Grid\"},{\"attributes\":{\"formatter\":{\"id\":\"7726\",\"type\":\"BasicTickFormatter\"},\"ticker\":{\"id\":\"7335\",\"type\":\"BasicTicker\"}},\"id\":\"7334\",\"type\":\"LinearAxis\"}],\"root_ids\":[\"7318\"]},\"title\":\"Bokeh Application\",\"version\":\"1.3.4\"}};\n",
       "  var render_items = [{\"docid\":\"e89e928a-6deb-473d-bbe0-b56bfd64c9eb\",\"roots\":{\"7318\":\"c035d63e-b0a0-447c-b9b8-0ac2186b8309\"}}];\n",
       "  root.Bokeh.embed.embed_items_notebook(docs_json, render_items);\n",
       "\n",
       "  }\n",
       "  if (root.Bokeh !== undefined) {\n",
       "    embed_document(root);\n",
       "  } else {\n",
       "    var attempts = 0;\n",
       "    var timer = setInterval(function(root) {\n",
       "      if (root.Bokeh !== undefined) {\n",
       "        embed_document(root);\n",
       "        clearInterval(timer);\n",
       "      }\n",
       "      attempts++;\n",
       "      if (attempts > 100) {\n",
       "        console.log(\"Bokeh: ERROR: Unable to run BokehJS code because BokehJS library is missing\");\n",
       "        clearInterval(timer);\n",
       "      }\n",
       "    }, 10, root)\n",
       "  }\n",
       "})(window);"
      ],
      "application/vnd.bokehjs_exec.v0+json": ""
     },
     "metadata": {
      "application/vnd.bokehjs_exec.v0+json": {
       "id": "7318"
      }
     },
     "output_type": "display_data"
    }
   ],
   "source": [
    "hist_values, edges = np.histogram(df_with_preds[filter_].pred_proba_sell, bins=50)\n",
    "p = figure(plot_width=650, plot_height=350, title=\"Probabilidades de vender\")\n",
    "p.quad(top=hist_values, bottom=0, left=edges[:-1], right=edges[1:],\n",
    "       fill_color=\"red\", line_color=\"white\", alpha=0.5)\n",
    "show(p)"
   ]
  },
  {
   "cell_type": "markdown",
   "metadata": {},
   "source": [
    "# Estabilidad de resultados"
   ]
  },
  {
   "cell_type": "markdown",
   "metadata": {},
   "source": [
    "### Repetimos el experimento para 100 iteraciones"
   ]
  },
  {
   "cell_type": "code",
   "execution_count": 34,
   "metadata": {
    "ExecuteTime": {
     "end_time": "2019-11-01T11:26:43.541185Z",
     "start_time": "2019-11-01T11:26:43.536901Z"
    }
   },
   "outputs": [],
   "source": [
    "filter_ = (df_with_preds.index >= pd.datetime(2019, 4, 1)) & (df_with_preds.index <= pd.datetime(2019, 9, 30))"
   ]
  },
  {
   "cell_type": "code",
   "execution_count": null,
   "metadata": {
    "ExecuteTime": {
     "end_time": "2019-11-01T14:22:20.263299Z",
     "start_time": "2019-11-01T11:26:46.580501Z"
    },
    "scrolled": true
   },
   "outputs": [],
   "source": [
    "pnls = []\n",
    "\n",
    "for i in range(100):\n",
    "    model = RandomForestClassifier(class_weight='balanced', n_estimators=100)\n",
    "    df_with_preds = add_model_predictions(df_NVDA_with_ti_and_target.tail(3000).copy(),\n",
    "                                          model=model,\n",
    "                                          max_train_size=2500)\n",
    "    df_with_strategy = model_based(df_with_preds[filter_].copy(), prob_threshold=0.5)\n",
    "    pnls.append(get_pnl(df_with_strategy))"
   ]
  },
  {
   "cell_type": "markdown",
   "metadata": {},
   "source": [
    "### Obtentemos el histograma con el PNL de cada iteración"
   ]
  },
  {
   "cell_type": "code",
   "execution_count": 37,
   "metadata": {
    "ExecuteTime": {
     "end_time": "2019-11-01T14:26:39.079614Z",
     "start_time": "2019-11-01T14:26:38.985580Z"
    }
   },
   "outputs": [
    {
     "data": {
      "text/html": [
       "\n",
       "\n",
       "\n",
       "\n",
       "\n",
       "\n",
       "  <div class=\"bk-root\" id=\"2ec1573d-f34c-4d0c-b6ab-38998e012bf5\" data-root-id=\"3098\"></div>\n"
      ]
     },
     "metadata": {},
     "output_type": "display_data"
    },
    {
     "data": {
      "application/javascript": [
       "(function(root) {\n",
       "  function embed_document(root) {\n",
       "    \n",
       "  var docs_json = {\"162d4c17-65c4-409d-8550-76d7fdff545a\":{\"roots\":{\"references\":[{\"attributes\":{\"below\":[{\"id\":\"3107\",\"type\":\"LinearAxis\"}],\"center\":[{\"id\":\"3111\",\"type\":\"Grid\"},{\"id\":\"3116\",\"type\":\"Grid\"}],\"left\":[{\"id\":\"3112\",\"type\":\"LinearAxis\"}],\"plot_height\":350,\"plot_width\":650,\"renderers\":[{\"id\":\"3133\",\"type\":\"GlyphRenderer\"}],\"title\":{\"id\":\"3283\",\"type\":\"Title\"},\"toolbar\":{\"id\":\"3123\",\"type\":\"Toolbar\"},\"x_range\":{\"id\":\"3099\",\"type\":\"DataRange1d\"},\"x_scale\":{\"id\":\"3103\",\"type\":\"LinearScale\"},\"y_range\":{\"id\":\"3101\",\"type\":\"DataRange1d\"},\"y_scale\":{\"id\":\"3105\",\"type\":\"LinearScale\"}},\"id\":\"3098\",\"subtype\":\"Figure\",\"type\":\"Plot\"},{\"attributes\":{},\"id\":\"3113\",\"type\":\"BasicTicker\"},{\"attributes\":{\"overlay\":{\"id\":\"3291\",\"type\":\"BoxAnnotation\"}},\"id\":\"3119\",\"type\":\"BoxZoomTool\"},{\"attributes\":{},\"id\":\"3118\",\"type\":\"WheelZoomTool\"},{\"attributes\":{\"bottom_units\":\"screen\",\"fill_alpha\":{\"value\":0.5},\"fill_color\":{\"value\":\"lightgrey\"},\"left_units\":\"screen\",\"level\":\"overlay\",\"line_alpha\":{\"value\":1.0},\"line_color\":{\"value\":\"black\"},\"line_dash\":[4,4],\"line_width\":{\"value\":2},\"render_mode\":\"css\",\"right_units\":\"screen\",\"top_units\":\"screen\"},\"id\":\"3291\",\"type\":\"BoxAnnotation\"},{\"attributes\":{\"ticker\":{\"id\":\"3108\",\"type\":\"BasicTicker\"}},\"id\":\"3111\",\"type\":\"Grid\"},{\"attributes\":{\"bottom\":{\"value\":0},\"fill_alpha\":{\"value\":0.5},\"fill_color\":{\"value\":\"navy\"},\"left\":{\"field\":\"left\"},\"line_alpha\":{\"value\":0.5},\"line_color\":{\"value\":\"white\"},\"right\":{\"field\":\"right\"},\"top\":{\"field\":\"top\"}},\"id\":\"3131\",\"type\":\"Quad\"},{\"attributes\":{},\"id\":\"3117\",\"type\":\"PanTool\"},{\"attributes\":{},\"id\":\"3120\",\"type\":\"SaveTool\"},{\"attributes\":{\"dimension\":1,\"ticker\":{\"id\":\"3113\",\"type\":\"BasicTicker\"}},\"id\":\"3116\",\"type\":\"Grid\"},{\"attributes\":{\"text\":\"\"},\"id\":\"3283\",\"type\":\"Title\"},{\"attributes\":{\"formatter\":{\"id\":\"3286\",\"type\":\"BasicTickFormatter\"},\"ticker\":{\"id\":\"3113\",\"type\":\"BasicTicker\"}},\"id\":\"3112\",\"type\":\"LinearAxis\"},{\"attributes\":{},\"id\":\"3290\",\"type\":\"UnionRenderers\"},{\"attributes\":{\"callback\":null,\"data\":{\"left\":{\"__ndarray__\":\"AAAAAOzXJ8DXo3A9et4jwFyPwvUQyh/ACtejcC3XF8BwPQrXk8gPwJiZmZmZxf+/AMAehevRVz/4KFyPgtH/PyCF61GIzg9A4HoUrifaF0A0MzMzC80fQMT1KFz33yNA7FG4HmnZJ0AUrkfh2tIrQD4K16NMzC9ANDMzM9/iMUBI4XoUmN8zQFyPwvVQ3DVAcD0K1wnZN0CG61G4wtU5QJqZmZl70jtArkfhejTPPUDE9Shc7cs/QOxRuB5T5EBA9ihcj6/iQUA=\",\"dtype\":\"float64\",\"shape\":[25]},\"right\":{\"__ndarray__\":\"16NwPXreI8Bcj8L1EMofwArXo3At1xfAcD0K15PID8CYmZmZmcX/vwDAHoXr0Vc/+Chcj4LR/z8ghetRiM4PQOB6FK4n2hdANDMzMwvNH0DE9Shc998jQOxRuB5p2SdAFK5H4drSK0A+CtejTMwvQDQzMzPf4jFASOF6FJjfM0Bcj8L1UNw1QHA9CtcJ2TdAhutRuMLVOUCamZmZe9I7QK5H4Xo0zz1AxPUoXO3LP0DsUbgeU+RAQPYoXI+v4kFAAAAAAAzhQkA=\",\"dtype\":\"float64\",\"shape\":[25]},\"top\":[1,0,0,1,0,0,0,1,1,0,1,3,6,4,6,9,10,13,16,7,8,9,3,0,1]},\"selected\":{\"id\":\"3289\",\"type\":\"Selection\"},\"selection_policy\":{\"id\":\"3290\",\"type\":\"UnionRenderers\"}},\"id\":\"3130\",\"type\":\"ColumnDataSource\"},{\"attributes\":{},\"id\":\"3289\",\"type\":\"Selection\"},{\"attributes\":{},\"id\":\"3103\",\"type\":\"LinearScale\"},{\"attributes\":{\"callback\":null},\"id\":\"3099\",\"type\":\"DataRange1d\"},{\"attributes\":{\"source\":{\"id\":\"3130\",\"type\":\"ColumnDataSource\"}},\"id\":\"3134\",\"type\":\"CDSView\"},{\"attributes\":{},\"id\":\"3108\",\"type\":\"BasicTicker\"},{\"attributes\":{},\"id\":\"3286\",\"type\":\"BasicTickFormatter\"},{\"attributes\":{},\"id\":\"3288\",\"type\":\"BasicTickFormatter\"},{\"attributes\":{},\"id\":\"3121\",\"type\":\"ResetTool\"},{\"attributes\":{},\"id\":\"3122\",\"type\":\"HelpTool\"},{\"attributes\":{\"active_drag\":\"auto\",\"active_inspect\":\"auto\",\"active_multi\":null,\"active_scroll\":\"auto\",\"active_tap\":\"auto\",\"tools\":[{\"id\":\"3117\",\"type\":\"PanTool\"},{\"id\":\"3118\",\"type\":\"WheelZoomTool\"},{\"id\":\"3119\",\"type\":\"BoxZoomTool\"},{\"id\":\"3120\",\"type\":\"SaveTool\"},{\"id\":\"3121\",\"type\":\"ResetTool\"},{\"id\":\"3122\",\"type\":\"HelpTool\"}]},\"id\":\"3123\",\"type\":\"Toolbar\"},{\"attributes\":{\"formatter\":{\"id\":\"3288\",\"type\":\"BasicTickFormatter\"},\"ticker\":{\"id\":\"3108\",\"type\":\"BasicTicker\"}},\"id\":\"3107\",\"type\":\"LinearAxis\"},{\"attributes\":{\"data_source\":{\"id\":\"3130\",\"type\":\"ColumnDataSource\"},\"glyph\":{\"id\":\"3131\",\"type\":\"Quad\"},\"hover_glyph\":null,\"muted_glyph\":null,\"nonselection_glyph\":{\"id\":\"3132\",\"type\":\"Quad\"},\"selection_glyph\":null,\"view\":{\"id\":\"3134\",\"type\":\"CDSView\"}},\"id\":\"3133\",\"type\":\"GlyphRenderer\"},{\"attributes\":{\"callback\":null},\"id\":\"3101\",\"type\":\"DataRange1d\"},{\"attributes\":{\"bottom\":{\"value\":0},\"fill_alpha\":{\"value\":0.1},\"fill_color\":{\"value\":\"#1f77b4\"},\"left\":{\"field\":\"left\"},\"line_alpha\":{\"value\":0.1},\"line_color\":{\"value\":\"#1f77b4\"},\"right\":{\"field\":\"right\"},\"top\":{\"field\":\"top\"}},\"id\":\"3132\",\"type\":\"Quad\"},{\"attributes\":{},\"id\":\"3105\",\"type\":\"LinearScale\"}],\"root_ids\":[\"3098\"]},\"title\":\"Bokeh Application\",\"version\":\"1.3.4\"}};\n",
       "  var render_items = [{\"docid\":\"162d4c17-65c4-409d-8550-76d7fdff545a\",\"roots\":{\"3098\":\"2ec1573d-f34c-4d0c-b6ab-38998e012bf5\"}}];\n",
       "  root.Bokeh.embed.embed_items_notebook(docs_json, render_items);\n",
       "\n",
       "  }\n",
       "  if (root.Bokeh !== undefined) {\n",
       "    embed_document(root);\n",
       "  } else {\n",
       "    var attempts = 0;\n",
       "    var timer = setInterval(function(root) {\n",
       "      if (root.Bokeh !== undefined) {\n",
       "        embed_document(root);\n",
       "        clearInterval(timer);\n",
       "      }\n",
       "      attempts++;\n",
       "      if (attempts > 100) {\n",
       "        console.log(\"Bokeh: ERROR: Unable to run BokehJS code because BokehJS library is missing\");\n",
       "        clearInterval(timer);\n",
       "      }\n",
       "    }, 10, root)\n",
       "  }\n",
       "})(window);"
      ],
      "application/vnd.bokehjs_exec.v0+json": ""
     },
     "metadata": {
      "application/vnd.bokehjs_exec.v0+json": {
       "id": "3098"
      }
     },
     "output_type": "display_data"
    }
   ],
   "source": [
    "hist_values, edges = np.histogram(pnls, density=False, bins=25)\n",
    "p = figure(plot_width=650, plot_height=350)\n",
    "        \n",
    "p.quad(top=hist_values, bottom=0, left=edges[:-1], right=edges[1:],\n",
    "       fill_color=\"navy\", line_color=\"white\", alpha=0.5)\n",
    "\n",
    "show(p)"
   ]
  },
  {
   "cell_type": "markdown",
   "metadata": {},
   "source": [
    "### Medimos resultados ponderados por frecuencias"
   ]
  },
  {
   "cell_type": "code",
   "execution_count": 38,
   "metadata": {
    "ExecuteTime": {
     "end_time": "2019-11-01T14:26:43.957597Z",
     "start_time": "2019-11-01T14:26:43.952229Z"
    }
   },
   "outputs": [],
   "source": [
    "edges_means = (edges[1:] + edges[:-1]) / 2\n",
    "results = hist_values / 100 * edges_means\n",
    "results_pos = results[edges_means > 0].sum()\n",
    "results_neg = results[edges_means < 0].sum()"
   ]
  },
  {
   "cell_type": "code",
   "execution_count": 39,
   "metadata": {
    "ExecuteTime": {
     "end_time": "2019-11-01T14:26:44.437682Z",
     "start_time": "2019-11-01T14:26:44.431490Z"
    }
   },
   "outputs": [
    {
     "data": {
      "text/plain": [
       "(-0.1589466064453125, 21.92019715576172)"
      ]
     },
     "execution_count": 39,
     "metadata": {},
     "output_type": "execute_result"
    }
   ],
   "source": [
    "(results_neg, results_pos)"
   ]
  },
  {
   "cell_type": "code",
   "execution_count": 40,
   "metadata": {
    "ExecuteTime": {
     "end_time": "2019-11-01T14:26:45.596328Z",
     "start_time": "2019-11-01T14:26:45.591488Z"
    }
   },
   "outputs": [
    {
     "data": {
      "text/plain": [
       "137.90918627321327"
      ]
     },
     "execution_count": 40,
     "metadata": {},
     "output_type": "execute_result"
    }
   ],
   "source": [
    "results_pos / results_neg * (-1)"
   ]
  },
  {
   "cell_type": "markdown",
   "metadata": {},
   "source": [
    "# Comparamos vs utilizar un único entrenamiento"
   ]
  },
  {
   "cell_type": "code",
   "execution_count": 112,
   "metadata": {},
   "outputs": [],
   "source": [
    "def add_model_predictions_train_test_split(df, \n",
    "                                           model, \n",
    "                                           target_column_name='target', \n",
    "                                           use_scaler=False, \n",
    "                                           train_max_date=None):\n",
    "    \n",
    "    df_experimentation = df.copy()\n",
    "    \n",
    "    X = df_experimentation[[c for c in df_experimentation.columns if c != target_column_name]]\n",
    "    y = df_experimentation[target_column_name]\n",
    "    \n",
    "    df['pred_proba_sell'] = 0\n",
    "    df['pred_proba_buy'] = 0\n",
    "    \n",
    "    X_train, X_test = X[X.index <= train_max_date], X[X.index > train_max_date]\n",
    "    y_train, y_test = y[X.index <= train_max_date], y[X.index > train_max_date]\n",
    "       \n",
    "    if(y_train.nunique() > 1):       \n",
    "        if(use_scaler):\n",
    "            scaler = StandardScaler()\n",
    "            scaler.fit(X_train)\n",
    "            X_train = scaler.transform(X_train)\n",
    "            X_test = scaler.transform(X_test)\n",
    "\n",
    "        model.fit(X_train, y_train)\n",
    "\n",
    "        y_pred = model.predict_proba(X_test)\n",
    "\n",
    "        sell_class_index = np.where(-1 == model.classes_)[0]\n",
    "\n",
    "        if(len(sell_class_index) > 0):\n",
    "            df.loc[X_test.index, 'pred_proba_sell'] = y_pred[:, sell_class_index]\n",
    "\n",
    "        buy_class_index = np.where(1 == model.classes_)[0]\n",
    "\n",
    "        if(len(buy_class_index) > 0):\n",
    "            df.loc[X_test.index, 'pred_proba_buy'] = y_pred[:, buy_class_index]\n",
    "    \n",
    "    return df"
   ]
  },
  {
   "cell_type": "markdown",
   "metadata": {},
   "source": [
    "### Volvemos a repetir el experimento para 100 iteraciones"
   ]
  },
  {
   "cell_type": "code",
   "execution_count": 113,
   "metadata": {},
   "outputs": [],
   "source": [
    "pnls_train_test = []\n",
    "\n",
    "for i in range(100):\n",
    "    model = RandomForestClassifier(class_weight='balanced', n_estimators=10)\n",
    "    df_with_preds = add_model_predictions_train_test_split(df_NVDA_with_ti_and_target.tail(1250).copy(), model, train_max_date='2019-03-31')\n",
    "    df_with_strategy = model_based(df_with_preds[filter_].copy())\n",
    "    pnls_train_test.append(get_pnl(df_with_strategy))"
   ]
  },
  {
   "cell_type": "markdown",
   "metadata": {},
   "source": [
    "### Obtentemos el histograma con el PNL de cada iteración"
   ]
  },
  {
   "cell_type": "code",
   "execution_count": 114,
   "metadata": {},
   "outputs": [
    {
     "data": {
      "text/html": [
       "\n",
       "\n",
       "\n",
       "\n",
       "\n",
       "\n",
       "  <div class=\"bk-root\" id=\"7d383d5b-f78b-4812-ad26-23b65edee9e1\" data-root-id=\"4102\"></div>\n"
      ]
     },
     "metadata": {},
     "output_type": "display_data"
    },
    {
     "data": {
      "application/javascript": [
       "(function(root) {\n",
       "  function embed_document(root) {\n",
       "    \n",
       "  var docs_json = {\"adfc32f7-ad15-4ab5-ba8c-52886185065f\":{\"roots\":{\"references\":[{\"attributes\":{\"below\":[{\"id\":\"4111\",\"type\":\"LinearAxis\"}],\"center\":[{\"id\":\"4115\",\"type\":\"Grid\"},{\"id\":\"4120\",\"type\":\"Grid\"}],\"left\":[{\"id\":\"4116\",\"type\":\"LinearAxis\"}],\"plot_height\":350,\"plot_width\":650,\"renderers\":[{\"id\":\"4137\",\"type\":\"GlyphRenderer\"}],\"title\":{\"id\":\"4301\",\"type\":\"Title\"},\"toolbar\":{\"id\":\"4127\",\"type\":\"Toolbar\"},\"x_range\":{\"id\":\"4103\",\"type\":\"DataRange1d\"},\"x_scale\":{\"id\":\"4107\",\"type\":\"LinearScale\"},\"y_range\":{\"id\":\"4105\",\"type\":\"DataRange1d\"},\"y_scale\":{\"id\":\"4109\",\"type\":\"LinearScale\"}},\"id\":\"4102\",\"subtype\":\"Figure\",\"type\":\"Plot\"},{\"attributes\":{\"callback\":null,\"data\":{\"left\":{\"__ndarray__\":\"AAAAABt4TMDhehSuQNJKwML1KFxmLEnApHA9CoyGR8CF61G4seBFwGZmZmbXOkTASOF6FP2UQsApXI/CIu9AwBSuR+GQkj7A1qNwPdxGO8CYmZmZJ/s3wFyPwvVyrzTAHoXrUb5jMcDA9ShcEzAswEjhehSqmCXAmJmZmYECHsCgcD0Kr9MQwEA9CtfjJu2/oML1KOwTA0BACtejyLgWQKCZmZnN8yFAGK5H4TaLKECQwvUooCIvQIjrUbgE3TJAxPUoXLkoNkA=\",\"dtype\":\"float64\",\"shape\":[25]},\"right\":{\"__ndarray__\":\"4XoUrkDSSsDC9ShcZixJwKRwPQqMhkfAhetRuLHgRcBmZmZm1zpEwEjhehT9lELAKVyPwiLvQMAUrkfhkJI+wNajcD3cRjvAmJmZmSf7N8Bcj8L1cq80wB6F61G+YzHAwPUoXBMwLMBI4XoUqpglwJiZmZmBAh7AoHA9Cq/TEMBAPQrX4ybtv6DC9SjsEwNAQArXo8i4FkCgmZmZzfMhQBiuR+E2iyhAkML1KKAiL0CI61G4BN0yQMT1KFy5KDZAAAAAAG50OUA=\",\"dtype\":\"float64\",\"shape\":[25]},\"top\":[1,2,0,3,1,6,6,5,8,16,8,8,2,3,4,8,2,6,3,0,0,2,0,5,1]},\"selected\":{\"id\":\"4307\",\"type\":\"Selection\"},\"selection_policy\":{\"id\":\"4308\",\"type\":\"UnionRenderers\"}},\"id\":\"4134\",\"type\":\"ColumnDataSource\"},{\"attributes\":{},\"id\":\"4117\",\"type\":\"BasicTicker\"},{\"attributes\":{},\"id\":\"4126\",\"type\":\"HelpTool\"},{\"attributes\":{\"formatter\":{\"id\":\"4306\",\"type\":\"BasicTickFormatter\"},\"ticker\":{\"id\":\"4112\",\"type\":\"BasicTicker\"}},\"id\":\"4111\",\"type\":\"LinearAxis\"},{\"attributes\":{\"formatter\":{\"id\":\"4304\",\"type\":\"BasicTickFormatter\"},\"ticker\":{\"id\":\"4117\",\"type\":\"BasicTicker\"}},\"id\":\"4116\",\"type\":\"LinearAxis\"},{\"attributes\":{\"callback\":null},\"id\":\"4103\",\"type\":\"DataRange1d\"},{\"attributes\":{},\"id\":\"4306\",\"type\":\"BasicTickFormatter\"},{\"attributes\":{},\"id\":\"4124\",\"type\":\"SaveTool\"},{\"attributes\":{\"bottom_units\":\"screen\",\"fill_alpha\":{\"value\":0.5},\"fill_color\":{\"value\":\"lightgrey\"},\"left_units\":\"screen\",\"level\":\"overlay\",\"line_alpha\":{\"value\":1.0},\"line_color\":{\"value\":\"black\"},\"line_dash\":[4,4],\"line_width\":{\"value\":2},\"render_mode\":\"css\",\"right_units\":\"screen\",\"top_units\":\"screen\"},\"id\":\"4309\",\"type\":\"BoxAnnotation\"},{\"attributes\":{},\"id\":\"4125\",\"type\":\"ResetTool\"},{\"attributes\":{\"text\":\"\"},\"id\":\"4301\",\"type\":\"Title\"},{\"attributes\":{},\"id\":\"4121\",\"type\":\"PanTool\"},{\"attributes\":{\"ticker\":{\"id\":\"4112\",\"type\":\"BasicTicker\"}},\"id\":\"4115\",\"type\":\"Grid\"},{\"attributes\":{\"dimension\":1,\"ticker\":{\"id\":\"4117\",\"type\":\"BasicTicker\"}},\"id\":\"4120\",\"type\":\"Grid\"},{\"attributes\":{\"callback\":null},\"id\":\"4105\",\"type\":\"DataRange1d\"},{\"attributes\":{\"source\":{\"id\":\"4134\",\"type\":\"ColumnDataSource\"}},\"id\":\"4138\",\"type\":\"CDSView\"},{\"attributes\":{\"active_drag\":\"auto\",\"active_inspect\":\"auto\",\"active_multi\":null,\"active_scroll\":\"auto\",\"active_tap\":\"auto\",\"tools\":[{\"id\":\"4121\",\"type\":\"PanTool\"},{\"id\":\"4122\",\"type\":\"WheelZoomTool\"},{\"id\":\"4123\",\"type\":\"BoxZoomTool\"},{\"id\":\"4124\",\"type\":\"SaveTool\"},{\"id\":\"4125\",\"type\":\"ResetTool\"},{\"id\":\"4126\",\"type\":\"HelpTool\"}]},\"id\":\"4127\",\"type\":\"Toolbar\"},{\"attributes\":{},\"id\":\"4304\",\"type\":\"BasicTickFormatter\"},{\"attributes\":{},\"id\":\"4109\",\"type\":\"LinearScale\"},{\"attributes\":{},\"id\":\"4112\",\"type\":\"BasicTicker\"},{\"attributes\":{},\"id\":\"4307\",\"type\":\"Selection\"},{\"attributes\":{\"bottom\":{\"value\":0},\"fill_alpha\":{\"value\":0.5},\"fill_color\":{\"value\":\"navy\"},\"left\":{\"field\":\"left\"},\"line_alpha\":{\"value\":0.5},\"line_color\":{\"value\":\"white\"},\"right\":{\"field\":\"right\"},\"top\":{\"field\":\"top\"}},\"id\":\"4135\",\"type\":\"Quad\"},{\"attributes\":{\"bottom\":{\"value\":0},\"fill_alpha\":{\"value\":0.1},\"fill_color\":{\"value\":\"#1f77b4\"},\"left\":{\"field\":\"left\"},\"line_alpha\":{\"value\":0.1},\"line_color\":{\"value\":\"#1f77b4\"},\"right\":{\"field\":\"right\"},\"top\":{\"field\":\"top\"}},\"id\":\"4136\",\"type\":\"Quad\"},{\"attributes\":{},\"id\":\"4122\",\"type\":\"WheelZoomTool\"},{\"attributes\":{},\"id\":\"4107\",\"type\":\"LinearScale\"},{\"attributes\":{\"data_source\":{\"id\":\"4134\",\"type\":\"ColumnDataSource\"},\"glyph\":{\"id\":\"4135\",\"type\":\"Quad\"},\"hover_glyph\":null,\"muted_glyph\":null,\"nonselection_glyph\":{\"id\":\"4136\",\"type\":\"Quad\"},\"selection_glyph\":null,\"view\":{\"id\":\"4138\",\"type\":\"CDSView\"}},\"id\":\"4137\",\"type\":\"GlyphRenderer\"},{\"attributes\":{},\"id\":\"4308\",\"type\":\"UnionRenderers\"},{\"attributes\":{\"overlay\":{\"id\":\"4309\",\"type\":\"BoxAnnotation\"}},\"id\":\"4123\",\"type\":\"BoxZoomTool\"}],\"root_ids\":[\"4102\"]},\"title\":\"Bokeh Application\",\"version\":\"1.3.4\"}};\n",
       "  var render_items = [{\"docid\":\"adfc32f7-ad15-4ab5-ba8c-52886185065f\",\"roots\":{\"4102\":\"7d383d5b-f78b-4812-ad26-23b65edee9e1\"}}];\n",
       "  root.Bokeh.embed.embed_items_notebook(docs_json, render_items);\n",
       "\n",
       "  }\n",
       "  if (root.Bokeh !== undefined) {\n",
       "    embed_document(root);\n",
       "  } else {\n",
       "    var attempts = 0;\n",
       "    var timer = setInterval(function(root) {\n",
       "      if (root.Bokeh !== undefined) {\n",
       "        embed_document(root);\n",
       "        clearInterval(timer);\n",
       "      }\n",
       "      attempts++;\n",
       "      if (attempts > 100) {\n",
       "        console.log(\"Bokeh: ERROR: Unable to run BokehJS code because BokehJS library is missing\");\n",
       "        clearInterval(timer);\n",
       "      }\n",
       "    }, 10, root)\n",
       "  }\n",
       "})(window);"
      ],
      "application/vnd.bokehjs_exec.v0+json": ""
     },
     "metadata": {
      "application/vnd.bokehjs_exec.v0+json": {
       "id": "4102"
      }
     },
     "output_type": "display_data"
    }
   ],
   "source": [
    "hist_values, edges = np.histogram(pnls_train_test, density=False, bins=25)\n",
    "p = figure(plot_width=650, plot_height=350)\n",
    "        \n",
    "p.quad(top=hist_values, bottom=0, left=edges[:-1], right=edges[1:],\n",
    "       fill_color=\"blue\", line_color=\"white\", alpha=0.5)\n",
    "\n",
    "show(p)"
   ]
  },
  {
   "cell_type": "markdown",
   "metadata": {},
   "source": [
    "# Utilizando otras ventanas para el dataset de entrenamiento"
   ]
  },
  {
   "cell_type": "code",
   "execution_count": 129,
   "metadata": {
    "ExecuteTime": {
     "end_time": "2019-10-31T21:59:21.309251Z",
     "start_time": "2019-10-31T21:59:07.150154Z"
    }
   },
   "outputs": [],
   "source": [
    "model = RandomForestClassifier(class_weight='balanced', n_estimators=10)\n",
    "pnls_time_windows = []\n",
    "\n",
    "time_windows = [250, 500, 1500, 2000]\n",
    "\n",
    "for time_window in time_windows:\n",
    "    df_with_preds = add_model_predictions(df_NVDA_with_ti_and_target.tail(2500).copy(),\n",
    "                                          model, \n",
    "                                          max_train_size=time_window)\n",
    "    df_with_strategy = model_based(df_with_preds[(df_with_preds.index >= backtesting_min) & \n",
    "                                                 (df_with_preds.index <= backtesting_max)].copy())\n",
    "    pnls_time_windows.append(get_pnl(df_with_strategy))"
   ]
  },
  {
   "cell_type": "code",
   "execution_count": 130,
   "metadata": {
    "ExecuteTime": {
     "end_time": "2019-10-31T21:59:35.254299Z",
     "start_time": "2019-10-31T21:59:35.151889Z"
    },
    "scrolled": true
   },
   "outputs": [
    {
     "data": {
      "text/html": [
       "\n",
       "\n",
       "\n",
       "\n",
       "\n",
       "\n",
       "  <div class=\"bk-root\" id=\"fb2cae76-f936-4a8c-b810-2614a86cceba\" data-root-id=\"5448\"></div>\n"
      ]
     },
     "metadata": {},
     "output_type": "display_data"
    },
    {
     "data": {
      "application/javascript": [
       "(function(root) {\n",
       "  function embed_document(root) {\n",
       "    \n",
       "  var docs_json = {\"af377ebc-dc9c-4102-80e5-b94a1252b8b2\":{\"roots\":{\"references\":[{\"attributes\":{\"below\":[{\"id\":\"5457\",\"type\":\"CategoricalAxis\"}],\"center\":[{\"id\":\"5460\",\"type\":\"Grid\"},{\"id\":\"5465\",\"type\":\"Grid\"}],\"left\":[{\"id\":\"5461\",\"type\":\"LinearAxis\"}],\"plot_height\":250,\"renderers\":[{\"id\":\"5482\",\"type\":\"GlyphRenderer\"}],\"title\":{\"id\":\"5757\",\"type\":\"Title\"},\"toolbar\":{\"id\":\"5472\",\"type\":\"Toolbar\"},\"x_range\":{\"id\":\"5449\",\"type\":\"FactorRange\"},\"x_scale\":{\"id\":\"5453\",\"type\":\"CategoricalScale\"},\"y_range\":{\"id\":\"5451\",\"type\":\"DataRange1d\"},\"y_scale\":{\"id\":\"5455\",\"type\":\"LinearScale\"}},\"id\":\"5448\",\"subtype\":\"Figure\",\"type\":\"Plot\"},{\"attributes\":{},\"id\":\"5453\",\"type\":\"CategoricalScale\"},{\"attributes\":{\"text\":\"\"},\"id\":\"5757\",\"type\":\"Title\"},{\"attributes\":{\"callback\":null,\"data\":{\"top\":[-13.998947143554688,4.085968017578125,-0.634857177734375,-7.822113037109375],\"x\":[\"250\",\"500\",\"1500\",\"2000\"]},\"selected\":{\"id\":\"5763\",\"type\":\"Selection\"},\"selection_policy\":{\"id\":\"5764\",\"type\":\"UnionRenderers\"}},\"id\":\"5479\",\"type\":\"ColumnDataSource\"},{\"attributes\":{\"ticker\":{\"id\":\"5458\",\"type\":\"CategoricalTicker\"}},\"id\":\"5460\",\"type\":\"Grid\"},{\"attributes\":{\"bottom_units\":\"screen\",\"fill_alpha\":{\"value\":0.5},\"fill_color\":{\"value\":\"lightgrey\"},\"left_units\":\"screen\",\"level\":\"overlay\",\"line_alpha\":{\"value\":1.0},\"line_color\":{\"value\":\"black\"},\"line_dash\":[4,4],\"line_width\":{\"value\":2},\"render_mode\":\"css\",\"right_units\":\"screen\",\"top_units\":\"screen\"},\"id\":\"5765\",\"type\":\"BoxAnnotation\"},{\"attributes\":{\"callback\":null,\"factors\":[\"250\",\"500\",\"1500\",\"2000\"]},\"id\":\"5449\",\"type\":\"FactorRange\"},{\"attributes\":{\"formatter\":{\"id\":\"5762\",\"type\":\"BasicTickFormatter\"},\"ticker\":{\"id\":\"5462\",\"type\":\"BasicTicker\"}},\"id\":\"5461\",\"type\":\"LinearAxis\"},{\"attributes\":{\"callback\":null},\"id\":\"5451\",\"type\":\"DataRange1d\"},{\"attributes\":{},\"id\":\"5466\",\"type\":\"PanTool\"},{\"attributes\":{\"data_source\":{\"id\":\"5479\",\"type\":\"ColumnDataSource\"},\"glyph\":{\"id\":\"5480\",\"type\":\"VBar\"},\"hover_glyph\":null,\"muted_glyph\":null,\"nonselection_glyph\":{\"id\":\"5481\",\"type\":\"VBar\"},\"selection_glyph\":null,\"view\":{\"id\":\"5483\",\"type\":\"CDSView\"}},\"id\":\"5482\",\"type\":\"GlyphRenderer\"},{\"attributes\":{\"source\":{\"id\":\"5479\",\"type\":\"ColumnDataSource\"}},\"id\":\"5483\",\"type\":\"CDSView\"},{\"attributes\":{},\"id\":\"5462\",\"type\":\"BasicTicker\"},{\"attributes\":{},\"id\":\"5470\",\"type\":\"ResetTool\"},{\"attributes\":{\"fill_alpha\":{\"value\":0.1},\"fill_color\":{\"value\":\"#1f77b4\"},\"line_alpha\":{\"value\":0.1},\"line_color\":{\"value\":\"#1f77b4\"},\"top\":{\"field\":\"top\"},\"width\":{\"value\":0.9},\"x\":{\"field\":\"x\"}},\"id\":\"5481\",\"type\":\"VBar\"},{\"attributes\":{},\"id\":\"5467\",\"type\":\"WheelZoomTool\"},{\"attributes\":{\"overlay\":{\"id\":\"5765\",\"type\":\"BoxAnnotation\"}},\"id\":\"5468\",\"type\":\"BoxZoomTool\"},{\"attributes\":{},\"id\":\"5455\",\"type\":\"LinearScale\"},{\"attributes\":{\"formatter\":{\"id\":\"5760\",\"type\":\"CategoricalTickFormatter\"},\"ticker\":{\"id\":\"5458\",\"type\":\"CategoricalTicker\"}},\"id\":\"5457\",\"type\":\"CategoricalAxis\"},{\"attributes\":{},\"id\":\"5471\",\"type\":\"HelpTool\"},{\"attributes\":{},\"id\":\"5458\",\"type\":\"CategoricalTicker\"},{\"attributes\":{\"fill_color\":{\"value\":\"#1f77b4\"},\"line_color\":{\"value\":\"#1f77b4\"},\"top\":{\"field\":\"top\"},\"width\":{\"value\":0.9},\"x\":{\"field\":\"x\"}},\"id\":\"5480\",\"type\":\"VBar\"},{\"attributes\":{},\"id\":\"5764\",\"type\":\"UnionRenderers\"},{\"attributes\":{\"dimension\":1,\"ticker\":{\"id\":\"5462\",\"type\":\"BasicTicker\"}},\"id\":\"5465\",\"type\":\"Grid\"},{\"attributes\":{\"active_drag\":\"auto\",\"active_inspect\":\"auto\",\"active_multi\":null,\"active_scroll\":\"auto\",\"active_tap\":\"auto\",\"tools\":[{\"id\":\"5466\",\"type\":\"PanTool\"},{\"id\":\"5467\",\"type\":\"WheelZoomTool\"},{\"id\":\"5468\",\"type\":\"BoxZoomTool\"},{\"id\":\"5469\",\"type\":\"SaveTool\"},{\"id\":\"5470\",\"type\":\"ResetTool\"},{\"id\":\"5471\",\"type\":\"HelpTool\"}]},\"id\":\"5472\",\"type\":\"Toolbar\"},{\"attributes\":{},\"id\":\"5763\",\"type\":\"Selection\"},{\"attributes\":{},\"id\":\"5762\",\"type\":\"BasicTickFormatter\"},{\"attributes\":{},\"id\":\"5760\",\"type\":\"CategoricalTickFormatter\"},{\"attributes\":{},\"id\":\"5469\",\"type\":\"SaveTool\"}],\"root_ids\":[\"5448\"]},\"title\":\"Bokeh Application\",\"version\":\"1.3.4\"}};\n",
       "  var render_items = [{\"docid\":\"af377ebc-dc9c-4102-80e5-b94a1252b8b2\",\"roots\":{\"5448\":\"fb2cae76-f936-4a8c-b810-2614a86cceba\"}}];\n",
       "  root.Bokeh.embed.embed_items_notebook(docs_json, render_items);\n",
       "\n",
       "  }\n",
       "  if (root.Bokeh !== undefined) {\n",
       "    embed_document(root);\n",
       "  } else {\n",
       "    var attempts = 0;\n",
       "    var timer = setInterval(function(root) {\n",
       "      if (root.Bokeh !== undefined) {\n",
       "        embed_document(root);\n",
       "        clearInterval(timer);\n",
       "      }\n",
       "      attempts++;\n",
       "      if (attempts > 100) {\n",
       "        console.log(\"Bokeh: ERROR: Unable to run BokehJS code because BokehJS library is missing\");\n",
       "        clearInterval(timer);\n",
       "      }\n",
       "    }, 10, root)\n",
       "  }\n",
       "})(window);"
      ],
      "application/vnd.bokehjs_exec.v0+json": ""
     },
     "metadata": {
      "application/vnd.bokehjs_exec.v0+json": {
       "id": "5448"
      }
     },
     "output_type": "display_data"
    }
   ],
   "source": [
    "plot_time_windows_pnls(pnls_time_windows, time_windows)"
   ]
  }
 ],
 "metadata": {
  "kernelspec": {
   "display_name": "Python 3",
   "language": "python",
   "name": "python3"
  },
  "language_info": {
   "codemirror_mode": {
    "name": "ipython",
    "version": 3
   },
   "file_extension": ".py",
   "mimetype": "text/x-python",
   "name": "python",
   "nbconvert_exporter": "python",
   "pygments_lexer": "ipython3",
   "version": "3.7.3"
  },
  "toc": {
   "base_numbering": 1,
   "nav_menu": {},
   "number_sections": true,
   "sideBar": true,
   "skip_h1_title": false,
   "title_cell": "Table of Contents",
   "title_sidebar": "Contents",
   "toc_cell": false,
   "toc_position": {
    "height": "calc(100% - 180px)",
    "left": "10px",
    "top": "150px",
    "width": "426.441px"
   },
   "toc_section_display": true,
   "toc_window_display": false
  }
 },
 "nbformat": 4,
 "nbformat_minor": 2
}
